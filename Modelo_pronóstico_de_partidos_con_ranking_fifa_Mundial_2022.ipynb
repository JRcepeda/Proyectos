{
  "nbformat": 4,
  "nbformat_minor": 0,
  "metadata": {
    "colab": {
      "provenance": [],
      "collapsed_sections": [
        "fjmE62kLpSyL"
      ],
      "mount_file_id": "1Z3DQWYrVFXiaKfrrxDJPatiuERFWyArz",
      "authorship_tag": "ABX9TyNYvJLlx72eZjlIV1nBoyFy"
    },
    "kernelspec": {
      "name": "python3",
      "display_name": "Python 3"
    },
    "language_info": {
      "name": "python"
    },
    "gpuClass": "standard"
  },
  "cells": [
    {
      "cell_type": "code",
      "execution_count": null,
      "metadata": {
        "id": "XLfS8e1n7Q8c"
      },
      "outputs": [],
      "source": [
        "import pandas as pd\n",
        "import numpy as np\n",
        "from sklearn.ensemble import RandomForestClassifier\n",
        "from sklearn.model_selection import train_test_split \n",
        "from sklearn.metrics import brier_score_loss # permite ver el la calidad de la calibraion (dif cuadratica entre estimacion y prob)\n",
        "from sklearn.calibration import CalibratedClassifierCV #calibra el modelo\n",
        "from sklearn.calibration import calibration_curve #crea la curva de calibracion\n",
        "from sklearn.metrics import brier_score_loss\n",
        "from sklearn.metrics import classification_report# permite ver la precision del modelo\n",
        "from sklearn.preprocessing import StandardScaler\n",
        "import matplotlib.pyplot as plt"
      ]
    },
    {
      "cell_type": "code",
      "source": [
        "ranking=pd.read_csv(\"/content/data_rank.csv\")"
      ],
      "metadata": {
        "id": "rZAn_5geJEgC"
      },
      "execution_count": null,
      "outputs": []
    },
    {
      "cell_type": "code",
      "source": [
        "ranking_away=pd.read_csv(\"/content/data_rank.csv\")"
      ],
      "metadata": {
        "id": "Reohi9-Sv20V"
      },
      "execution_count": null,
      "outputs": []
    },
    {
      "cell_type": "code",
      "source": [
        "base=pd.read_csv(\"/content/results.csv\")\n"
      ],
      "metadata": {
        "id": "du4FKLy89Khx"
      },
      "execution_count": null,
      "outputs": []
    },
    {
      "cell_type": "code",
      "source": [
        "data=pd.pivot_table(ranking,values='Puntos',columns='Pais')"
      ],
      "metadata": {
        "id": "awDmyrmYNaox"
      },
      "execution_count": null,
      "outputs": []
    },
    {
      "cell_type": "code",
      "source": [
        "data.head()"
      ],
      "metadata": {
        "id": "Acvz3NvPaJte",
        "colab": {
          "base_uri": "https://localhost:8080/",
          "height": 209
        },
        "outputId": "853a402d-1717-4d1a-de90-449285fe5884"
      },
      "execution_count": null,
      "outputs": [
        {
          "output_type": "execute_result",
          "data": {
            "text/plain": [
              "Pais    Afghanistan  Albania  Algeria  American Samoa  Andorra  Angola  \\\n",
              "Puntos      1023.04  1354.11   1489.1          900.27   1035.2  1155.9   \n",
              "\n",
              "Pais    Anguilla  Antigua and Barbuda  Argentina  Armenia  ...  United States  \\\n",
              "Puntos    790.74              1117.01    1773.88  1233.93  ...        1627.48   \n",
              "\n",
              "Pais    Uruguay  Uzbekistan  Vanuatu  Venezuela  Vietnam    Wales    Yemen  \\\n",
              "Puntos  1638.71     1309.98   985.62    1404.37  1226.65  1569.82  1023.52   \n",
              "\n",
              "Pais     Zambia  Zimbabwe  \n",
              "Puntos  1267.41   1138.56  \n",
              "\n",
              "[1 rows x 211 columns]"
            ],
            "text/html": [
              "\n",
              "  <div id=\"df-e80c9529-f838-407e-94fe-5a9019f8c9be\">\n",
              "    <div class=\"colab-df-container\">\n",
              "      <div>\n",
              "<style scoped>\n",
              "    .dataframe tbody tr th:only-of-type {\n",
              "        vertical-align: middle;\n",
              "    }\n",
              "\n",
              "    .dataframe tbody tr th {\n",
              "        vertical-align: top;\n",
              "    }\n",
              "\n",
              "    .dataframe thead th {\n",
              "        text-align: right;\n",
              "    }\n",
              "</style>\n",
              "<table border=\"1\" class=\"dataframe\">\n",
              "  <thead>\n",
              "    <tr style=\"text-align: right;\">\n",
              "      <th>Pais</th>\n",
              "      <th>Afghanistan</th>\n",
              "      <th>Albania</th>\n",
              "      <th>Algeria</th>\n",
              "      <th>American Samoa</th>\n",
              "      <th>Andorra</th>\n",
              "      <th>Angola</th>\n",
              "      <th>Anguilla</th>\n",
              "      <th>Antigua and Barbuda</th>\n",
              "      <th>Argentina</th>\n",
              "      <th>Armenia</th>\n",
              "      <th>...</th>\n",
              "      <th>United States</th>\n",
              "      <th>Uruguay</th>\n",
              "      <th>Uzbekistan</th>\n",
              "      <th>Vanuatu</th>\n",
              "      <th>Venezuela</th>\n",
              "      <th>Vietnam</th>\n",
              "      <th>Wales</th>\n",
              "      <th>Yemen</th>\n",
              "      <th>Zambia</th>\n",
              "      <th>Zimbabwe</th>\n",
              "    </tr>\n",
              "  </thead>\n",
              "  <tbody>\n",
              "    <tr>\n",
              "      <th>Puntos</th>\n",
              "      <td>1023.04</td>\n",
              "      <td>1354.11</td>\n",
              "      <td>1489.1</td>\n",
              "      <td>900.27</td>\n",
              "      <td>1035.2</td>\n",
              "      <td>1155.9</td>\n",
              "      <td>790.74</td>\n",
              "      <td>1117.01</td>\n",
              "      <td>1773.88</td>\n",
              "      <td>1233.93</td>\n",
              "      <td>...</td>\n",
              "      <td>1627.48</td>\n",
              "      <td>1638.71</td>\n",
              "      <td>1309.98</td>\n",
              "      <td>985.62</td>\n",
              "      <td>1404.37</td>\n",
              "      <td>1226.65</td>\n",
              "      <td>1569.82</td>\n",
              "      <td>1023.52</td>\n",
              "      <td>1267.41</td>\n",
              "      <td>1138.56</td>\n",
              "    </tr>\n",
              "  </tbody>\n",
              "</table>\n",
              "<p>1 rows × 211 columns</p>\n",
              "</div>\n",
              "      <button class=\"colab-df-convert\" onclick=\"convertToInteractive('df-e80c9529-f838-407e-94fe-5a9019f8c9be')\"\n",
              "              title=\"Convert this dataframe to an interactive table.\"\n",
              "              style=\"display:none;\">\n",
              "        \n",
              "  <svg xmlns=\"http://www.w3.org/2000/svg\" height=\"24px\"viewBox=\"0 0 24 24\"\n",
              "       width=\"24px\">\n",
              "    <path d=\"M0 0h24v24H0V0z\" fill=\"none\"/>\n",
              "    <path d=\"M18.56 5.44l.94 2.06.94-2.06 2.06-.94-2.06-.94-.94-2.06-.94 2.06-2.06.94zm-11 1L8.5 8.5l.94-2.06 2.06-.94-2.06-.94L8.5 2.5l-.94 2.06-2.06.94zm10 10l.94 2.06.94-2.06 2.06-.94-2.06-.94-.94-2.06-.94 2.06-2.06.94z\"/><path d=\"M17.41 7.96l-1.37-1.37c-.4-.4-.92-.59-1.43-.59-.52 0-1.04.2-1.43.59L10.3 9.45l-7.72 7.72c-.78.78-.78 2.05 0 2.83L4 21.41c.39.39.9.59 1.41.59.51 0 1.02-.2 1.41-.59l7.78-7.78 2.81-2.81c.8-.78.8-2.07 0-2.86zM5.41 20L4 18.59l7.72-7.72 1.47 1.35L5.41 20z\"/>\n",
              "  </svg>\n",
              "      </button>\n",
              "      \n",
              "  <style>\n",
              "    .colab-df-container {\n",
              "      display:flex;\n",
              "      flex-wrap:wrap;\n",
              "      gap: 12px;\n",
              "    }\n",
              "\n",
              "    .colab-df-convert {\n",
              "      background-color: #E8F0FE;\n",
              "      border: none;\n",
              "      border-radius: 50%;\n",
              "      cursor: pointer;\n",
              "      display: none;\n",
              "      fill: #1967D2;\n",
              "      height: 32px;\n",
              "      padding: 0 0 0 0;\n",
              "      width: 32px;\n",
              "    }\n",
              "\n",
              "    .colab-df-convert:hover {\n",
              "      background-color: #E2EBFA;\n",
              "      box-shadow: 0px 1px 2px rgba(60, 64, 67, 0.3), 0px 1px 3px 1px rgba(60, 64, 67, 0.15);\n",
              "      fill: #174EA6;\n",
              "    }\n",
              "\n",
              "    [theme=dark] .colab-df-convert {\n",
              "      background-color: #3B4455;\n",
              "      fill: #D2E3FC;\n",
              "    }\n",
              "\n",
              "    [theme=dark] .colab-df-convert:hover {\n",
              "      background-color: #434B5C;\n",
              "      box-shadow: 0px 1px 3px 1px rgba(0, 0, 0, 0.15);\n",
              "      filter: drop-shadow(0px 1px 2px rgba(0, 0, 0, 0.3));\n",
              "      fill: #FFFFFF;\n",
              "    }\n",
              "  </style>\n",
              "\n",
              "      <script>\n",
              "        const buttonEl =\n",
              "          document.querySelector('#df-e80c9529-f838-407e-94fe-5a9019f8c9be button.colab-df-convert');\n",
              "        buttonEl.style.display =\n",
              "          google.colab.kernel.accessAllowed ? 'block' : 'none';\n",
              "\n",
              "        async function convertToInteractive(key) {\n",
              "          const element = document.querySelector('#df-e80c9529-f838-407e-94fe-5a9019f8c9be');\n",
              "          const dataTable =\n",
              "            await google.colab.kernel.invokeFunction('convertToInteractive',\n",
              "                                                     [key], {});\n",
              "          if (!dataTable) return;\n",
              "\n",
              "          const docLinkHtml = 'Like what you see? Visit the ' +\n",
              "            '<a target=\"_blank\" href=https://colab.research.google.com/notebooks/data_table.ipynb>data table notebook</a>'\n",
              "            + ' to learn more about interactive tables.';\n",
              "          element.innerHTML = '';\n",
              "          dataTable['output_type'] = 'display_data';\n",
              "          await google.colab.output.renderOutput(dataTable, element);\n",
              "          const docLink = document.createElement('div');\n",
              "          docLink.innerHTML = docLinkHtml;\n",
              "          element.appendChild(docLink);\n",
              "        }\n",
              "      </script>\n",
              "    </div>\n",
              "  </div>\n",
              "  "
            ]
          },
          "metadata": {},
          "execution_count": 82
        }
      ]
    },
    {
      "cell_type": "code",
      "source": [
        "ranking=ranking.rename(columns={'Pais':'home_team','Puntos':'Puntos home'})\n",
        "ranking_away=ranking_away.rename(columns={'Pais':'away_team','Puntos':'Puntos away'})\n",
        "\n"
      ],
      "metadata": {
        "id": "ZzYxE2kulyep"
      },
      "execution_count": null,
      "outputs": []
    },
    {
      "cell_type": "code",
      "source": [
        "ranking.head()\n"
      ],
      "metadata": {
        "id": "3Hhyc090nq7X",
        "colab": {
          "base_uri": "https://localhost:8080/",
          "height": 206
        },
        "outputId": "656ebc08-871e-4e86-e036-fdf2d8efe747"
      },
      "execution_count": null,
      "outputs": [
        {
          "output_type": "execute_result",
          "data": {
            "text/plain": [
              "   home_team  Puntos home\n",
              "0     Brazil      1841.30\n",
              "1    Belgium      1816.71\n",
              "2  Argentina      1773.88\n",
              "3     France      1759.78\n",
              "4    England      1728.47"
            ],
            "text/html": [
              "\n",
              "  <div id=\"df-83150522-596c-48fd-b08d-e20b0f0d8eed\">\n",
              "    <div class=\"colab-df-container\">\n",
              "      <div>\n",
              "<style scoped>\n",
              "    .dataframe tbody tr th:only-of-type {\n",
              "        vertical-align: middle;\n",
              "    }\n",
              "\n",
              "    .dataframe tbody tr th {\n",
              "        vertical-align: top;\n",
              "    }\n",
              "\n",
              "    .dataframe thead th {\n",
              "        text-align: right;\n",
              "    }\n",
              "</style>\n",
              "<table border=\"1\" class=\"dataframe\">\n",
              "  <thead>\n",
              "    <tr style=\"text-align: right;\">\n",
              "      <th></th>\n",
              "      <th>home_team</th>\n",
              "      <th>Puntos home</th>\n",
              "    </tr>\n",
              "  </thead>\n",
              "  <tbody>\n",
              "    <tr>\n",
              "      <th>0</th>\n",
              "      <td>Brazil</td>\n",
              "      <td>1841.30</td>\n",
              "    </tr>\n",
              "    <tr>\n",
              "      <th>1</th>\n",
              "      <td>Belgium</td>\n",
              "      <td>1816.71</td>\n",
              "    </tr>\n",
              "    <tr>\n",
              "      <th>2</th>\n",
              "      <td>Argentina</td>\n",
              "      <td>1773.88</td>\n",
              "    </tr>\n",
              "    <tr>\n",
              "      <th>3</th>\n",
              "      <td>France</td>\n",
              "      <td>1759.78</td>\n",
              "    </tr>\n",
              "    <tr>\n",
              "      <th>4</th>\n",
              "      <td>England</td>\n",
              "      <td>1728.47</td>\n",
              "    </tr>\n",
              "  </tbody>\n",
              "</table>\n",
              "</div>\n",
              "      <button class=\"colab-df-convert\" onclick=\"convertToInteractive('df-83150522-596c-48fd-b08d-e20b0f0d8eed')\"\n",
              "              title=\"Convert this dataframe to an interactive table.\"\n",
              "              style=\"display:none;\">\n",
              "        \n",
              "  <svg xmlns=\"http://www.w3.org/2000/svg\" height=\"24px\"viewBox=\"0 0 24 24\"\n",
              "       width=\"24px\">\n",
              "    <path d=\"M0 0h24v24H0V0z\" fill=\"none\"/>\n",
              "    <path d=\"M18.56 5.44l.94 2.06.94-2.06 2.06-.94-2.06-.94-.94-2.06-.94 2.06-2.06.94zm-11 1L8.5 8.5l.94-2.06 2.06-.94-2.06-.94L8.5 2.5l-.94 2.06-2.06.94zm10 10l.94 2.06.94-2.06 2.06-.94-2.06-.94-.94-2.06-.94 2.06-2.06.94z\"/><path d=\"M17.41 7.96l-1.37-1.37c-.4-.4-.92-.59-1.43-.59-.52 0-1.04.2-1.43.59L10.3 9.45l-7.72 7.72c-.78.78-.78 2.05 0 2.83L4 21.41c.39.39.9.59 1.41.59.51 0 1.02-.2 1.41-.59l7.78-7.78 2.81-2.81c.8-.78.8-2.07 0-2.86zM5.41 20L4 18.59l7.72-7.72 1.47 1.35L5.41 20z\"/>\n",
              "  </svg>\n",
              "      </button>\n",
              "      \n",
              "  <style>\n",
              "    .colab-df-container {\n",
              "      display:flex;\n",
              "      flex-wrap:wrap;\n",
              "      gap: 12px;\n",
              "    }\n",
              "\n",
              "    .colab-df-convert {\n",
              "      background-color: #E8F0FE;\n",
              "      border: none;\n",
              "      border-radius: 50%;\n",
              "      cursor: pointer;\n",
              "      display: none;\n",
              "      fill: #1967D2;\n",
              "      height: 32px;\n",
              "      padding: 0 0 0 0;\n",
              "      width: 32px;\n",
              "    }\n",
              "\n",
              "    .colab-df-convert:hover {\n",
              "      background-color: #E2EBFA;\n",
              "      box-shadow: 0px 1px 2px rgba(60, 64, 67, 0.3), 0px 1px 3px 1px rgba(60, 64, 67, 0.15);\n",
              "      fill: #174EA6;\n",
              "    }\n",
              "\n",
              "    [theme=dark] .colab-df-convert {\n",
              "      background-color: #3B4455;\n",
              "      fill: #D2E3FC;\n",
              "    }\n",
              "\n",
              "    [theme=dark] .colab-df-convert:hover {\n",
              "      background-color: #434B5C;\n",
              "      box-shadow: 0px 1px 3px 1px rgba(0, 0, 0, 0.15);\n",
              "      filter: drop-shadow(0px 1px 2px rgba(0, 0, 0, 0.3));\n",
              "      fill: #FFFFFF;\n",
              "    }\n",
              "  </style>\n",
              "\n",
              "      <script>\n",
              "        const buttonEl =\n",
              "          document.querySelector('#df-83150522-596c-48fd-b08d-e20b0f0d8eed button.colab-df-convert');\n",
              "        buttonEl.style.display =\n",
              "          google.colab.kernel.accessAllowed ? 'block' : 'none';\n",
              "\n",
              "        async function convertToInteractive(key) {\n",
              "          const element = document.querySelector('#df-83150522-596c-48fd-b08d-e20b0f0d8eed');\n",
              "          const dataTable =\n",
              "            await google.colab.kernel.invokeFunction('convertToInteractive',\n",
              "                                                     [key], {});\n",
              "          if (!dataTable) return;\n",
              "\n",
              "          const docLinkHtml = 'Like what you see? Visit the ' +\n",
              "            '<a target=\"_blank\" href=https://colab.research.google.com/notebooks/data_table.ipynb>data table notebook</a>'\n",
              "            + ' to learn more about interactive tables.';\n",
              "          element.innerHTML = '';\n",
              "          dataTable['output_type'] = 'display_data';\n",
              "          await google.colab.output.renderOutput(dataTable, element);\n",
              "          const docLink = document.createElement('div');\n",
              "          docLink.innerHTML = docLinkHtml;\n",
              "          element.appendChild(docLink);\n",
              "        }\n",
              "      </script>\n",
              "    </div>\n",
              "  </div>\n",
              "  "
            ]
          },
          "metadata": {},
          "execution_count": 84
        }
      ]
    },
    {
      "cell_type": "code",
      "source": [
        "ranking_away.head()"
      ],
      "metadata": {
        "id": "4kZ0IcrywaQ3",
        "colab": {
          "base_uri": "https://localhost:8080/",
          "height": 206
        },
        "outputId": "db929551-a75f-4381-e298-0d4ca7e78ed3"
      },
      "execution_count": null,
      "outputs": [
        {
          "output_type": "execute_result",
          "data": {
            "text/plain": [
              "   away_team  Puntos away\n",
              "0     Brazil      1841.30\n",
              "1    Belgium      1816.71\n",
              "2  Argentina      1773.88\n",
              "3     France      1759.78\n",
              "4    England      1728.47"
            ],
            "text/html": [
              "\n",
              "  <div id=\"df-259643ae-f736-40c1-a864-5ea0a448fec4\">\n",
              "    <div class=\"colab-df-container\">\n",
              "      <div>\n",
              "<style scoped>\n",
              "    .dataframe tbody tr th:only-of-type {\n",
              "        vertical-align: middle;\n",
              "    }\n",
              "\n",
              "    .dataframe tbody tr th {\n",
              "        vertical-align: top;\n",
              "    }\n",
              "\n",
              "    .dataframe thead th {\n",
              "        text-align: right;\n",
              "    }\n",
              "</style>\n",
              "<table border=\"1\" class=\"dataframe\">\n",
              "  <thead>\n",
              "    <tr style=\"text-align: right;\">\n",
              "      <th></th>\n",
              "      <th>away_team</th>\n",
              "      <th>Puntos away</th>\n",
              "    </tr>\n",
              "  </thead>\n",
              "  <tbody>\n",
              "    <tr>\n",
              "      <th>0</th>\n",
              "      <td>Brazil</td>\n",
              "      <td>1841.30</td>\n",
              "    </tr>\n",
              "    <tr>\n",
              "      <th>1</th>\n",
              "      <td>Belgium</td>\n",
              "      <td>1816.71</td>\n",
              "    </tr>\n",
              "    <tr>\n",
              "      <th>2</th>\n",
              "      <td>Argentina</td>\n",
              "      <td>1773.88</td>\n",
              "    </tr>\n",
              "    <tr>\n",
              "      <th>3</th>\n",
              "      <td>France</td>\n",
              "      <td>1759.78</td>\n",
              "    </tr>\n",
              "    <tr>\n",
              "      <th>4</th>\n",
              "      <td>England</td>\n",
              "      <td>1728.47</td>\n",
              "    </tr>\n",
              "  </tbody>\n",
              "</table>\n",
              "</div>\n",
              "      <button class=\"colab-df-convert\" onclick=\"convertToInteractive('df-259643ae-f736-40c1-a864-5ea0a448fec4')\"\n",
              "              title=\"Convert this dataframe to an interactive table.\"\n",
              "              style=\"display:none;\">\n",
              "        \n",
              "  <svg xmlns=\"http://www.w3.org/2000/svg\" height=\"24px\"viewBox=\"0 0 24 24\"\n",
              "       width=\"24px\">\n",
              "    <path d=\"M0 0h24v24H0V0z\" fill=\"none\"/>\n",
              "    <path d=\"M18.56 5.44l.94 2.06.94-2.06 2.06-.94-2.06-.94-.94-2.06-.94 2.06-2.06.94zm-11 1L8.5 8.5l.94-2.06 2.06-.94-2.06-.94L8.5 2.5l-.94 2.06-2.06.94zm10 10l.94 2.06.94-2.06 2.06-.94-2.06-.94-.94-2.06-.94 2.06-2.06.94z\"/><path d=\"M17.41 7.96l-1.37-1.37c-.4-.4-.92-.59-1.43-.59-.52 0-1.04.2-1.43.59L10.3 9.45l-7.72 7.72c-.78.78-.78 2.05 0 2.83L4 21.41c.39.39.9.59 1.41.59.51 0 1.02-.2 1.41-.59l7.78-7.78 2.81-2.81c.8-.78.8-2.07 0-2.86zM5.41 20L4 18.59l7.72-7.72 1.47 1.35L5.41 20z\"/>\n",
              "  </svg>\n",
              "      </button>\n",
              "      \n",
              "  <style>\n",
              "    .colab-df-container {\n",
              "      display:flex;\n",
              "      flex-wrap:wrap;\n",
              "      gap: 12px;\n",
              "    }\n",
              "\n",
              "    .colab-df-convert {\n",
              "      background-color: #E8F0FE;\n",
              "      border: none;\n",
              "      border-radius: 50%;\n",
              "      cursor: pointer;\n",
              "      display: none;\n",
              "      fill: #1967D2;\n",
              "      height: 32px;\n",
              "      padding: 0 0 0 0;\n",
              "      width: 32px;\n",
              "    }\n",
              "\n",
              "    .colab-df-convert:hover {\n",
              "      background-color: #E2EBFA;\n",
              "      box-shadow: 0px 1px 2px rgba(60, 64, 67, 0.3), 0px 1px 3px 1px rgba(60, 64, 67, 0.15);\n",
              "      fill: #174EA6;\n",
              "    }\n",
              "\n",
              "    [theme=dark] .colab-df-convert {\n",
              "      background-color: #3B4455;\n",
              "      fill: #D2E3FC;\n",
              "    }\n",
              "\n",
              "    [theme=dark] .colab-df-convert:hover {\n",
              "      background-color: #434B5C;\n",
              "      box-shadow: 0px 1px 3px 1px rgba(0, 0, 0, 0.15);\n",
              "      filter: drop-shadow(0px 1px 2px rgba(0, 0, 0, 0.3));\n",
              "      fill: #FFFFFF;\n",
              "    }\n",
              "  </style>\n",
              "\n",
              "      <script>\n",
              "        const buttonEl =\n",
              "          document.querySelector('#df-259643ae-f736-40c1-a864-5ea0a448fec4 button.colab-df-convert');\n",
              "        buttonEl.style.display =\n",
              "          google.colab.kernel.accessAllowed ? 'block' : 'none';\n",
              "\n",
              "        async function convertToInteractive(key) {\n",
              "          const element = document.querySelector('#df-259643ae-f736-40c1-a864-5ea0a448fec4');\n",
              "          const dataTable =\n",
              "            await google.colab.kernel.invokeFunction('convertToInteractive',\n",
              "                                                     [key], {});\n",
              "          if (!dataTable) return;\n",
              "\n",
              "          const docLinkHtml = 'Like what you see? Visit the ' +\n",
              "            '<a target=\"_blank\" href=https://colab.research.google.com/notebooks/data_table.ipynb>data table notebook</a>'\n",
              "            + ' to learn more about interactive tables.';\n",
              "          element.innerHTML = '';\n",
              "          dataTable['output_type'] = 'display_data';\n",
              "          await google.colab.output.renderOutput(dataTable, element);\n",
              "          const docLink = document.createElement('div');\n",
              "          docLink.innerHTML = docLinkHtml;\n",
              "          element.appendChild(docLink);\n",
              "        }\n",
              "      </script>\n",
              "    </div>\n",
              "  </div>\n",
              "  "
            ]
          },
          "metadata": {},
          "execution_count": 85
        }
      ]
    },
    {
      "cell_type": "code",
      "source": [
        "base=pd.merge(base,ranking,on='home_team',how=\"inner\")"
      ],
      "metadata": {
        "id": "DcLxpwYPJuYl"
      },
      "execution_count": null,
      "outputs": []
    },
    {
      "cell_type": "code",
      "source": [
        "base=pd.merge(base,ranking_away,on='away_team',how=\"inner\")"
      ],
      "metadata": {
        "id": "NEMQuLMe5w5G"
      },
      "execution_count": null,
      "outputs": []
    },
    {
      "cell_type": "code",
      "source": [
        "base.loc[(base.date<'2021'),'date']=None"
      ],
      "metadata": {
        "id": "GN20jdKEcsZd"
      },
      "execution_count": null,
      "outputs": []
    },
    {
      "cell_type": "code",
      "source": [
        "base.shape"
      ],
      "metadata": {
        "id": "cK4GS0NcPa_i",
        "colab": {
          "base_uri": "https://localhost:8080/"
        },
        "outputId": "3bb2dee0-e6bb-420b-a9ca-ba94fe950a4d"
      },
      "execution_count": null,
      "outputs": [
        {
          "output_type": "execute_result",
          "data": {
            "text/plain": [
              "(37681, 11)"
            ]
          },
          "metadata": {},
          "execution_count": 89
        }
      ]
    },
    {
      "cell_type": "code",
      "source": [
        "base.isnull().sum()\n",
        "base=base.dropna(axis=0)\n",
        "base.shape"
      ],
      "metadata": {
        "id": "KVUJTk0UgyL6",
        "colab": {
          "base_uri": "https://localhost:8080/"
        },
        "outputId": "064d349c-e985-43bc-8c1b-166f72829f33"
      },
      "execution_count": null,
      "outputs": [
        {
          "output_type": "execute_result",
          "data": {
            "text/plain": [
              "(1785, 11)"
            ]
          },
          "metadata": {},
          "execution_count": 90
        }
      ]
    },
    {
      "cell_type": "code",
      "source": [
        "base.loc[(base.home_score>base.away_score),'winner']='home_team'\n",
        "base.loc[(base.home_score<base.away_score),'winner']='away_team'\n",
        "base.loc[(base.home_score==base.away_score),'winner']='Empate'\n"
      ],
      "metadata": {
        "id": "7tSFmO4jZaQS"
      },
      "execution_count": null,
      "outputs": []
    },
    {
      "cell_type": "code",
      "source": [
        "base.isnull().sum()"
      ],
      "metadata": {
        "id": "sNQ2Pnh7tJc4",
        "colab": {
          "base_uri": "https://localhost:8080/"
        },
        "outputId": "13dc9be2-3c33-4c62-b4ae-dc7c2f8a4566"
      },
      "execution_count": null,
      "outputs": [
        {
          "output_type": "execute_result",
          "data": {
            "text/plain": [
              "date           0\n",
              "home_team      0\n",
              "away_team      0\n",
              "home_score     0\n",
              "away_score     0\n",
              "tournament     0\n",
              "city           0\n",
              "country        0\n",
              "neutral        0\n",
              "Puntos home    0\n",
              "Puntos away    0\n",
              "winner         0\n",
              "dtype: int64"
            ]
          },
          "metadata": {},
          "execution_count": 95
        }
      ]
    },
    {
      "cell_type": "code",
      "source": [
        "base=base.drop(['city','country','neutral','tournament'],axis=1) #'home_score','away_score','date'\n"
      ],
      "metadata": {
        "id": "ChqtWCqwAlOL"
      },
      "execution_count": null,
      "outputs": []
    },
    {
      "cell_type": "code",
      "source": [
        "factor=pd.factorize(base['winner'])# la funcion factorizacion de pandas factoriza la columna winner, crea factores y definiciones de los mismos\n"
      ],
      "metadata": {
        "id": "S7HunKLHU-mc"
      },
      "execution_count": null,
      "outputs": []
    },
    {
      "cell_type": "code",
      "source": [
        "base.winner=factor[0]#asigna los factores"
      ],
      "metadata": {
        "id": "C2FLXxQrVdJf"
      },
      "execution_count": null,
      "outputs": []
    },
    {
      "cell_type": "code",
      "source": [
        "definitions=factor[1]#guarda las definiciones"
      ],
      "metadata": {
        "id": "tCgXRz1FVrah"
      },
      "execution_count": null,
      "outputs": []
    },
    {
      "cell_type": "code",
      "source": [
        "print(base.winner.head())"
      ],
      "metadata": {
        "id": "gFh45QMOWIrd",
        "colab": {
          "base_uri": "https://localhost:8080/"
        },
        "outputId": "7ae0e19a-504c-4b8a-e919-cf77d8feb2f6"
      },
      "execution_count": null,
      "outputs": [
        {
          "output_type": "stream",
          "name": "stdout",
          "text": [
            "108    0\n",
            "192    0\n",
            "193    1\n",
            "292    2\n",
            "305    1\n",
            "Name: winner, dtype: int64\n"
          ]
        }
      ]
    },
    {
      "cell_type": "code",
      "source": [
        "print(definitions)"
      ],
      "metadata": {
        "id": "Lkd9nywoV_jY",
        "colab": {
          "base_uri": "https://localhost:8080/"
        },
        "outputId": "8c2788bc-8fb8-4ce8-e7f7-30e910ca4d2a"
      },
      "execution_count": null,
      "outputs": [
        {
          "output_type": "stream",
          "name": "stdout",
          "text": [
            "Index(['away_team', 'home_team', 'Empate'], dtype='object')\n"
          ]
        }
      ]
    },
    {
      "cell_type": "code",
      "source": [
        "base1=base"
      ],
      "metadata": {
        "id": "H5xvo2-AWhqj"
      },
      "execution_count": null,
      "outputs": []
    },
    {
      "cell_type": "code",
      "source": [
        "base1.shape"
      ],
      "metadata": {
        "id": "SId7eyZ7D9bZ",
        "colab": {
          "base_uri": "https://localhost:8080/"
        },
        "outputId": "239c1306-711f-4040-c646-45c2458b4499"
      },
      "execution_count": null,
      "outputs": [
        {
          "output_type": "execute_result",
          "data": {
            "text/plain": [
              "(1785, 8)"
            ]
          },
          "metadata": {},
          "execution_count": 105
        }
      ]
    },
    {
      "cell_type": "code",
      "source": [
        "base1.head(10)"
      ],
      "metadata": {
        "id": "rndzAFWuB6nY",
        "colab": {
          "base_uri": "https://localhost:8080/",
          "height": 598
        },
        "outputId": "7a96d20b-34bb-45dd-9100-69086d9f6f7b"
      },
      "execution_count": null,
      "outputs": [
        {
          "output_type": "execute_result",
          "data": {
            "text/plain": [
              "           date   home_team away_team  home_score  away_score  Puntos home  \\\n",
              "108  2022-11-29       Wales   England           0           3      1569.82   \n",
              "192  2021-09-02     Hungary   England           0           4      1492.20   \n",
              "193  2022-06-04     Hungary   England           1           0      1492.20   \n",
              "292  2022-06-07     Germany   England           1           1      1650.21   \n",
              "305  2022-09-23       Italy   England           1           0      1726.14   \n",
              "386  2021-09-08      Poland   England           1           1      1548.59   \n",
              "467  2021-03-28     Albania   England           0           2      1354.11   \n",
              "491  2021-11-15  San Marino   England           0          10       762.22   \n",
              "500  2021-07-03     Ukraine   England           0           4      1536.99   \n",
              "507  2021-10-09     Andorra   England           0           5      1035.20   \n",
              "\n",
              "     Puntos away  winner  \n",
              "108      1728.47       0  \n",
              "192      1728.47       0  \n",
              "193      1728.47       1  \n",
              "292      1728.47       2  \n",
              "305      1728.47       1  \n",
              "386      1728.47       2  \n",
              "467      1728.47       0  \n",
              "491      1728.47       0  \n",
              "500      1728.47       0  \n",
              "507      1728.47       0  "
            ],
            "text/html": [
              "\n",
              "  <div id=\"df-6e3265ea-2e1a-45f8-82dc-376c16cdaf5e\">\n",
              "    <div class=\"colab-df-container\">\n",
              "      <div>\n",
              "<style scoped>\n",
              "    .dataframe tbody tr th:only-of-type {\n",
              "        vertical-align: middle;\n",
              "    }\n",
              "\n",
              "    .dataframe tbody tr th {\n",
              "        vertical-align: top;\n",
              "    }\n",
              "\n",
              "    .dataframe thead th {\n",
              "        text-align: right;\n",
              "    }\n",
              "</style>\n",
              "<table border=\"1\" class=\"dataframe\">\n",
              "  <thead>\n",
              "    <tr style=\"text-align: right;\">\n",
              "      <th></th>\n",
              "      <th>date</th>\n",
              "      <th>home_team</th>\n",
              "      <th>away_team</th>\n",
              "      <th>home_score</th>\n",
              "      <th>away_score</th>\n",
              "      <th>Puntos home</th>\n",
              "      <th>Puntos away</th>\n",
              "      <th>winner</th>\n",
              "    </tr>\n",
              "  </thead>\n",
              "  <tbody>\n",
              "    <tr>\n",
              "      <th>108</th>\n",
              "      <td>2022-11-29</td>\n",
              "      <td>Wales</td>\n",
              "      <td>England</td>\n",
              "      <td>0</td>\n",
              "      <td>3</td>\n",
              "      <td>1569.82</td>\n",
              "      <td>1728.47</td>\n",
              "      <td>0</td>\n",
              "    </tr>\n",
              "    <tr>\n",
              "      <th>192</th>\n",
              "      <td>2021-09-02</td>\n",
              "      <td>Hungary</td>\n",
              "      <td>England</td>\n",
              "      <td>0</td>\n",
              "      <td>4</td>\n",
              "      <td>1492.20</td>\n",
              "      <td>1728.47</td>\n",
              "      <td>0</td>\n",
              "    </tr>\n",
              "    <tr>\n",
              "      <th>193</th>\n",
              "      <td>2022-06-04</td>\n",
              "      <td>Hungary</td>\n",
              "      <td>England</td>\n",
              "      <td>1</td>\n",
              "      <td>0</td>\n",
              "      <td>1492.20</td>\n",
              "      <td>1728.47</td>\n",
              "      <td>1</td>\n",
              "    </tr>\n",
              "    <tr>\n",
              "      <th>292</th>\n",
              "      <td>2022-06-07</td>\n",
              "      <td>Germany</td>\n",
              "      <td>England</td>\n",
              "      <td>1</td>\n",
              "      <td>1</td>\n",
              "      <td>1650.21</td>\n",
              "      <td>1728.47</td>\n",
              "      <td>2</td>\n",
              "    </tr>\n",
              "    <tr>\n",
              "      <th>305</th>\n",
              "      <td>2022-09-23</td>\n",
              "      <td>Italy</td>\n",
              "      <td>England</td>\n",
              "      <td>1</td>\n",
              "      <td>0</td>\n",
              "      <td>1726.14</td>\n",
              "      <td>1728.47</td>\n",
              "      <td>1</td>\n",
              "    </tr>\n",
              "    <tr>\n",
              "      <th>386</th>\n",
              "      <td>2021-09-08</td>\n",
              "      <td>Poland</td>\n",
              "      <td>England</td>\n",
              "      <td>1</td>\n",
              "      <td>1</td>\n",
              "      <td>1548.59</td>\n",
              "      <td>1728.47</td>\n",
              "      <td>2</td>\n",
              "    </tr>\n",
              "    <tr>\n",
              "      <th>467</th>\n",
              "      <td>2021-03-28</td>\n",
              "      <td>Albania</td>\n",
              "      <td>England</td>\n",
              "      <td>0</td>\n",
              "      <td>2</td>\n",
              "      <td>1354.11</td>\n",
              "      <td>1728.47</td>\n",
              "      <td>0</td>\n",
              "    </tr>\n",
              "    <tr>\n",
              "      <th>491</th>\n",
              "      <td>2021-11-15</td>\n",
              "      <td>San Marino</td>\n",
              "      <td>England</td>\n",
              "      <td>0</td>\n",
              "      <td>10</td>\n",
              "      <td>762.22</td>\n",
              "      <td>1728.47</td>\n",
              "      <td>0</td>\n",
              "    </tr>\n",
              "    <tr>\n",
              "      <th>500</th>\n",
              "      <td>2021-07-03</td>\n",
              "      <td>Ukraine</td>\n",
              "      <td>England</td>\n",
              "      <td>0</td>\n",
              "      <td>4</td>\n",
              "      <td>1536.99</td>\n",
              "      <td>1728.47</td>\n",
              "      <td>0</td>\n",
              "    </tr>\n",
              "    <tr>\n",
              "      <th>507</th>\n",
              "      <td>2021-10-09</td>\n",
              "      <td>Andorra</td>\n",
              "      <td>England</td>\n",
              "      <td>0</td>\n",
              "      <td>5</td>\n",
              "      <td>1035.20</td>\n",
              "      <td>1728.47</td>\n",
              "      <td>0</td>\n",
              "    </tr>\n",
              "  </tbody>\n",
              "</table>\n",
              "</div>\n",
              "      <button class=\"colab-df-convert\" onclick=\"convertToInteractive('df-6e3265ea-2e1a-45f8-82dc-376c16cdaf5e')\"\n",
              "              title=\"Convert this dataframe to an interactive table.\"\n",
              "              style=\"display:none;\">\n",
              "        \n",
              "  <svg xmlns=\"http://www.w3.org/2000/svg\" height=\"24px\"viewBox=\"0 0 24 24\"\n",
              "       width=\"24px\">\n",
              "    <path d=\"M0 0h24v24H0V0z\" fill=\"none\"/>\n",
              "    <path d=\"M18.56 5.44l.94 2.06.94-2.06 2.06-.94-2.06-.94-.94-2.06-.94 2.06-2.06.94zm-11 1L8.5 8.5l.94-2.06 2.06-.94-2.06-.94L8.5 2.5l-.94 2.06-2.06.94zm10 10l.94 2.06.94-2.06 2.06-.94-2.06-.94-.94-2.06-.94 2.06-2.06.94z\"/><path d=\"M17.41 7.96l-1.37-1.37c-.4-.4-.92-.59-1.43-.59-.52 0-1.04.2-1.43.59L10.3 9.45l-7.72 7.72c-.78.78-.78 2.05 0 2.83L4 21.41c.39.39.9.59 1.41.59.51 0 1.02-.2 1.41-.59l7.78-7.78 2.81-2.81c.8-.78.8-2.07 0-2.86zM5.41 20L4 18.59l7.72-7.72 1.47 1.35L5.41 20z\"/>\n",
              "  </svg>\n",
              "      </button>\n",
              "      \n",
              "  <style>\n",
              "    .colab-df-container {\n",
              "      display:flex;\n",
              "      flex-wrap:wrap;\n",
              "      gap: 12px;\n",
              "    }\n",
              "\n",
              "    .colab-df-convert {\n",
              "      background-color: #E8F0FE;\n",
              "      border: none;\n",
              "      border-radius: 50%;\n",
              "      cursor: pointer;\n",
              "      display: none;\n",
              "      fill: #1967D2;\n",
              "      height: 32px;\n",
              "      padding: 0 0 0 0;\n",
              "      width: 32px;\n",
              "    }\n",
              "\n",
              "    .colab-df-convert:hover {\n",
              "      background-color: #E2EBFA;\n",
              "      box-shadow: 0px 1px 2px rgba(60, 64, 67, 0.3), 0px 1px 3px 1px rgba(60, 64, 67, 0.15);\n",
              "      fill: #174EA6;\n",
              "    }\n",
              "\n",
              "    [theme=dark] .colab-df-convert {\n",
              "      background-color: #3B4455;\n",
              "      fill: #D2E3FC;\n",
              "    }\n",
              "\n",
              "    [theme=dark] .colab-df-convert:hover {\n",
              "      background-color: #434B5C;\n",
              "      box-shadow: 0px 1px 3px 1px rgba(0, 0, 0, 0.15);\n",
              "      filter: drop-shadow(0px 1px 2px rgba(0, 0, 0, 0.3));\n",
              "      fill: #FFFFFF;\n",
              "    }\n",
              "  </style>\n",
              "\n",
              "      <script>\n",
              "        const buttonEl =\n",
              "          document.querySelector('#df-6e3265ea-2e1a-45f8-82dc-376c16cdaf5e button.colab-df-convert');\n",
              "        buttonEl.style.display =\n",
              "          google.colab.kernel.accessAllowed ? 'block' : 'none';\n",
              "\n",
              "        async function convertToInteractive(key) {\n",
              "          const element = document.querySelector('#df-6e3265ea-2e1a-45f8-82dc-376c16cdaf5e');\n",
              "          const dataTable =\n",
              "            await google.colab.kernel.invokeFunction('convertToInteractive',\n",
              "                                                     [key], {});\n",
              "          if (!dataTable) return;\n",
              "\n",
              "          const docLinkHtml = 'Like what you see? Visit the ' +\n",
              "            '<a target=\"_blank\" href=https://colab.research.google.com/notebooks/data_table.ipynb>data table notebook</a>'\n",
              "            + ' to learn more about interactive tables.';\n",
              "          element.innerHTML = '';\n",
              "          dataTable['output_type'] = 'display_data';\n",
              "          await google.colab.output.renderOutput(dataTable, element);\n",
              "          const docLink = document.createElement('div');\n",
              "          docLink.innerHTML = docLinkHtml;\n",
              "          element.appendChild(docLink);\n",
              "        }\n",
              "      </script>\n",
              "    </div>\n",
              "  </div>\n",
              "  "
            ]
          },
          "metadata": {},
          "execution_count": 106
        }
      ]
    },
    {
      "cell_type": "code",
      "source": [
        "train,test=train_test_split(base1,test_size=0.1,random_state=123)"
      ],
      "metadata": {
        "id": "oDaNGR3JNKLb"
      },
      "execution_count": null,
      "outputs": []
    },
    {
      "cell_type": "code",
      "source": [
        "scaler=StandardScaler()"
      ],
      "metadata": {
        "id": "J0IQ2CGwSAGF"
      },
      "execution_count": null,
      "outputs": []
    },
    {
      "cell_type": "code",
      "source": [
        "y_train=train.loc[:,('winner')]\n",
        "x_train=train.loc[:,('Puntos home','Puntos away')]"
      ],
      "metadata": {
        "id": "_FChwzfEQhWc"
      },
      "execution_count": null,
      "outputs": []
    },
    {
      "cell_type": "code",
      "source": [
        "y_test=test.loc[:,('winner')]\n",
        "x_test=test.loc[:,('Puntos home','Puntos away')]"
      ],
      "metadata": {
        "id": "M6v6L4k9Q89o"
      },
      "execution_count": null,
      "outputs": []
    },
    {
      "cell_type": "code",
      "source": [
        "X=base1.loc[:,('Puntos home','Puntos away')]#\n",
        "\n",
        "#con base.iloc[i,j] se accede mediante posiciones\n",
        "#con base.loc[i,j] se accede mediante nombres"
      ],
      "metadata": {
        "id": "kWcInunpCE1T"
      },
      "execution_count": null,
      "outputs": []
    },
    {
      "cell_type": "code",
      "source": [
        "Y=base1.loc[:,('winner')]#\n"
      ],
      "metadata": {
        "id": "8KiqKrNQDl67"
      },
      "execution_count": null,
      "outputs": []
    },
    {
      "cell_type": "code",
      "source": [
        "random_forest=RandomForestClassifier(n_estimators=1000,max_depth=500,random_state=10)#maxfeatures decorrealciona ,max_features=2\n"
      ],
      "metadata": {
        "id": "pZ5_ep3-Dppx"
      },
      "execution_count": null,
      "outputs": []
    },
    {
      "cell_type": "code",
      "source": [
        "modelo=random_forest.fit(x_train,y_train)"
      ],
      "metadata": {
        "id": "E6ps3YV2EH5g"
      },
      "execution_count": null,
      "outputs": []
    },
    {
      "cell_type": "code",
      "source": [
        "print(random_forest.feature_importances_)"
      ],
      "metadata": {
        "id": "4bJQHy_eEiAk",
        "colab": {
          "base_uri": "https://localhost:8080/"
        },
        "outputId": "23d07cc5-a570-43ce-9c79-e9f363416a7c"
      },
      "execution_count": null,
      "outputs": [
        {
          "output_type": "stream",
          "name": "stdout",
          "text": [
            "[0.51184297 0.48815703]\n"
          ]
        }
      ]
    },
    {
      "cell_type": "code",
      "source": [
        "\n",
        "print(classification_report(y_test,modelo.predict(x_test)))"
      ],
      "metadata": {
        "id": "v_ABIJ6acIuM",
        "colab": {
          "base_uri": "https://localhost:8080/"
        },
        "outputId": "afc38a7e-f79f-4b91-8e97-d71d7f6f9bbe"
      },
      "execution_count": null,
      "outputs": [
        {
          "output_type": "stream",
          "name": "stdout",
          "text": [
            "              precision    recall  f1-score   support\n",
            "\n",
            "           0       0.54      0.69      0.60        42\n",
            "           1       0.78      0.69      0.73       100\n",
            "           2       0.22      0.22      0.22        37\n",
            "\n",
            "    accuracy                           0.59       179\n",
            "   macro avg       0.51      0.53      0.52       179\n",
            "weighted avg       0.61      0.59      0.60       179\n",
            "\n"
          ]
        }
      ]
    },
    {
      "cell_type": "code",
      "source": [
        "modelo_calibrado=CalibratedClassifierCV(modelo,cv=2,method='isotonic') # permite reducir la sobreestimacion e infraestimacion, "
      ],
      "metadata": {
        "id": "DyRCFBTNdqpi"
      },
      "execution_count": null,
      "outputs": []
    },
    {
      "cell_type": "code",
      "source": [
        "modelo_calibrado.fit(x_train,y_train)\n"
      ],
      "metadata": {
        "id": "q53NMJarsC0T",
        "colab": {
          "base_uri": "https://localhost:8080/"
        },
        "outputId": "b0aa8ed9-aa92-4ce9-b1c8-2ad5c2aaa805"
      },
      "execution_count": null,
      "outputs": [
        {
          "output_type": "execute_result",
          "data": {
            "text/plain": [
              "CalibratedClassifierCV(base_estimator=RandomForestClassifier(max_depth=500,\n",
              "                                                             n_estimators=1000,\n",
              "                                                             random_state=10),\n",
              "                       cv=2, method='isotonic')"
            ]
          },
          "metadata": {},
          "execution_count": 118
        }
      ]
    },
    {
      "cell_type": "code",
      "source": [
        "\n",
        "print(classification_report(y_test,modelo_calibrado.predict(x_test)))"
      ],
      "metadata": {
        "id": "Geg-oQ7vsXbG",
        "colab": {
          "base_uri": "https://localhost:8080/"
        },
        "outputId": "f09e70ee-c84e-42fa-b569-ae0d7c770cbf"
      },
      "execution_count": null,
      "outputs": [
        {
          "output_type": "stream",
          "name": "stdout",
          "text": [
            "              precision    recall  f1-score   support\n",
            "\n",
            "           0       0.53      0.71      0.61        42\n",
            "           1       0.74      0.88      0.80       100\n",
            "           2       0.67      0.05      0.10        37\n",
            "\n",
            "    accuracy                           0.67       179\n",
            "   macro avg       0.64      0.55      0.50       179\n",
            "weighted avg       0.67      0.67      0.61       179\n",
            "\n"
          ]
        }
      ]
    },
    {
      "cell_type": "markdown",
      "source": [
        "accuracy es la precisión del modelo si bien no se relaciona directamente con la calibracion, mejoró. La calibración perrmite que no se sobreestimen las probabilidades o se subestimen"
      ],
      "metadata": {
        "id": "BQdWUZpx5Frk"
      }
    },
    {
      "cell_type": "code",
      "source": [
        "x=data.loc[:,'South Korea']\n"
      ],
      "metadata": {
        "id": "eQanrzKZ9-js"
      },
      "execution_count": null,
      "outputs": []
    },
    {
      "cell_type": "code",
      "source": [
        "prueba=pd.DataFrame([[data.Argentina,data.France]],columns=['Puntos home','Puntos away'])\n",
        "#prueba=np.array(prueba)\n",
        "#winner_away_winner tiene un valor de 1 cuando gana visitante y  0 cuando el ganador es local\n",
        "# array(probx1 de valor 0,probx2 de valor1), el x1 es la probaliidad del ganador local y x2 del ganador visitante"
      ],
      "metadata": {
        "id": "jwfzt0aE92ad"
      },
      "execution_count": null,
      "outputs": []
    },
    {
      "cell_type": "code",
      "source": [
        "modelo_calibrado.predict_proba(prueba)\n"
      ],
      "metadata": {
        "id": "m8cG8BMG-LVd",
        "colab": {
          "base_uri": "https://localhost:8080/"
        },
        "outputId": "13a73aac-88f6-4a1a-86e1-89d61a5f3e70"
      },
      "execution_count": null,
      "outputs": [
        {
          "output_type": "execute_result",
          "data": {
            "text/plain": [
              "array([[0.35526063, 0.37177977, 0.2729596 ]])"
            ]
          },
          "metadata": {},
          "execution_count": 122
        }
      ]
    },
    {
      "cell_type": "code",
      "source": [
        "reverse_factor=dict(zip(range(3),definitions))\n",
        "reverse_factor\n",
        "#np.vectorize()(reverse_factor), vistitante, local, empate"
      ],
      "metadata": {
        "id": "pGGvXHCFQEhX",
        "colab": {
          "base_uri": "https://localhost:8080/"
        },
        "outputId": "1cf72c6c-cb26-4ab4-9a99-b0b8c9565d5e"
      },
      "execution_count": null,
      "outputs": [
        {
          "output_type": "execute_result",
          "data": {
            "text/plain": [
              "{0: 'away_team', 1: 'home_team', 2: 'Empate'}"
            ]
          },
          "metadata": {},
          "execution_count": 123
        }
      ]
    },
    {
      "cell_type": "markdown",
      "source": [
        "Gana Paises bajos con 50% de probabilidad o empeate con 27% de probabilidad \n",
        "\n",
        "Gana Argentina con 51% de probabilidad \n",
        "\n",
        "Gana Francia \n",
        "\n",
        "Gana Inglaterra \n",
        "\n",
        "Gana japon \n",
        " \n",
        "Gana portugal \n",
        "\n",
        "Gana Brasil \n",
        "\n",
        "Gana Marruecos \n",
        "\n",
        "#Cuartos de final\n",
        "Gana Argentina a Paises Bajos (incierto)\n",
        "\n",
        "Gana Brasil a japón\n",
        "\n",
        "Gana Francia contra Inglaterra\n",
        "\n",
        "Gana marruecos contra portugal\n",
        "\n",
        "#Semifinal\n",
        "*SI queda Argentina le gana a Brasil\n",
        "\n",
        "Gana Francia contra Marruecos"
      ],
      "metadata": {
        "id": "fjmE62kLpSyL"
      }
    },
    {
      "cell_type": "markdown",
      "source": [
        "#Final\n",
        "Argentina vs Francia- gana Argentina"
      ],
      "metadata": {
        "id": "qNqPfjAqyDXQ"
      }
    }
  ]
}
