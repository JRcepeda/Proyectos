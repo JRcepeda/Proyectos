{
  "nbformat": 4,
  "nbformat_minor": 0,
  "metadata": {
    "colab": {
      "provenance": [],
      "authorship_tag": "ABX9TyOiZ0SySIg5kVz/D+r7LqVA"
    },
    "kernelspec": {
      "name": "python3",
      "display_name": "Python 3"
    },
    "language_info": {
      "name": "python"
    }
  },
  "cells": [
    {
      "cell_type": "markdown",
      "source": [
        "# Modelo Heterocedastico Serie de Rendimientos"
      ],
      "metadata": {
        "id": "9SOX1my_2kBT"
      }
    },
    {
      "cell_type": "code",
      "source": [
        "pip install yfinance"
      ],
      "metadata": {
        "colab": {
          "base_uri": "https://localhost:8080/"
        },
        "id": "P5hirteM4crL",
        "outputId": "27150aa5-4a4d-495e-a2a5-989afd665b39"
      },
      "execution_count": 3,
      "outputs": [
        {
          "output_type": "stream",
          "name": "stdout",
          "text": [
            "Requirement already satisfied: yfinance in /usr/local/lib/python3.10/dist-packages (0.2.27)\n",
            "Requirement already satisfied: pandas>=1.3.0 in /usr/local/lib/python3.10/dist-packages (from yfinance) (1.5.3)\n",
            "Requirement already satisfied: numpy>=1.16.5 in /usr/local/lib/python3.10/dist-packages (from yfinance) (1.23.5)\n",
            "Requirement already satisfied: requests>=2.31 in /usr/local/lib/python3.10/dist-packages (from yfinance) (2.31.0)\n",
            "Requirement already satisfied: multitasking>=0.0.7 in /usr/local/lib/python3.10/dist-packages (from yfinance) (0.0.11)\n",
            "Requirement already satisfied: lxml>=4.9.1 in /usr/local/lib/python3.10/dist-packages (from yfinance) (4.9.3)\n",
            "Requirement already satisfied: appdirs>=1.4.4 in /usr/local/lib/python3.10/dist-packages (from yfinance) (1.4.4)\n",
            "Requirement already satisfied: pytz>=2022.5 in /usr/local/lib/python3.10/dist-packages (from yfinance) (2022.7.1)\n",
            "Requirement already satisfied: frozendict>=2.3.4 in /usr/local/lib/python3.10/dist-packages (from yfinance) (2.3.8)\n",
            "Requirement already satisfied: beautifulsoup4>=4.11.1 in /usr/local/lib/python3.10/dist-packages (from yfinance) (4.11.2)\n",
            "Requirement already satisfied: html5lib>=1.1 in /usr/local/lib/python3.10/dist-packages (from yfinance) (1.1)\n",
            "Requirement already satisfied: soupsieve>1.2 in /usr/local/lib/python3.10/dist-packages (from beautifulsoup4>=4.11.1->yfinance) (2.4.1)\n",
            "Requirement already satisfied: six>=1.9 in /usr/local/lib/python3.10/dist-packages (from html5lib>=1.1->yfinance) (1.16.0)\n",
            "Requirement already satisfied: webencodings in /usr/local/lib/python3.10/dist-packages (from html5lib>=1.1->yfinance) (0.5.1)\n",
            "Requirement already satisfied: python-dateutil>=2.8.1 in /usr/local/lib/python3.10/dist-packages (from pandas>=1.3.0->yfinance) (2.8.2)\n",
            "Requirement already satisfied: charset-normalizer<4,>=2 in /usr/local/lib/python3.10/dist-packages (from requests>=2.31->yfinance) (3.2.0)\n",
            "Requirement already satisfied: idna<4,>=2.5 in /usr/local/lib/python3.10/dist-packages (from requests>=2.31->yfinance) (3.4)\n",
            "Requirement already satisfied: urllib3<3,>=1.21.1 in /usr/local/lib/python3.10/dist-packages (from requests>=2.31->yfinance) (1.26.16)\n",
            "Requirement already satisfied: certifi>=2017.4.17 in /usr/local/lib/python3.10/dist-packages (from requests>=2.31->yfinance) (2023.7.22)\n"
          ]
        }
      ]
    },
    {
      "cell_type": "code",
      "execution_count": 44,
      "metadata": {
        "id": "kZm5hycBRln_"
      },
      "outputs": [],
      "source": [
        "import scipy.stats as st\n",
        "import pandas as pd\n",
        "import matplotlib.pyplot as plt\n",
        "import seaborn as sns\n",
        "import statsmodels.api as sa\n",
        "import yfinance as yf\n",
        "import math\n",
        "import numpy as np"
      ]
    },
    {
      "cell_type": "code",
      "source": [
        "st.norm.ppf(1-0.05)"
      ],
      "metadata": {
        "colab": {
          "base_uri": "https://localhost:8080/"
        },
        "id": "AKV34vwrns8l",
        "outputId": "e4cb9e84-4dd1-4026-a8f0-0f71b27bafab"
      },
      "execution_count": 45,
      "outputs": [
        {
          "output_type": "execute_result",
          "data": {
            "text/plain": [
              "1.6448536269514722"
            ]
          },
          "metadata": {},
          "execution_count": 45
        }
      ]
    },
    {
      "cell_type": "code",
      "source": [
        "apple=yf.Ticker('AAPL')"
      ],
      "metadata": {
        "id": "4RGtX2NgpoHC"
      },
      "execution_count": 46,
      "outputs": []
    },
    {
      "cell_type": "code",
      "source": [
        "apple=apple.history(start='2000-01-01',end='2021-07-01')"
      ],
      "metadata": {
        "id": "RedtEzsd60_S"
      },
      "execution_count": 47,
      "outputs": []
    },
    {
      "cell_type": "code",
      "source": [
        "apple=apple.iloc[:,[3]]"
      ],
      "metadata": {
        "id": "Io5rjfOk7Jqk"
      },
      "execution_count": 48,
      "outputs": []
    },
    {
      "cell_type": "code",
      "source": [
        "apple.tail()"
      ],
      "metadata": {
        "colab": {
          "base_uri": "https://localhost:8080/",
          "height": 238
        },
        "id": "nxlXvZgc7bUI",
        "outputId": "30a44080-7ae0-46a3-8266-35128dd43614"
      },
      "execution_count": 49,
      "outputs": [
        {
          "output_type": "execute_result",
          "data": {
            "text/plain": [
              "                                Close\n",
              "Date                                 \n",
              "2021-06-24 00:00:00-04:00  131.864731\n",
              "2021-06-25 00:00:00-04:00  131.568176\n",
              "2021-06-28 00:00:00-04:00  133.218857\n",
              "2021-06-29 00:00:00-04:00  134.750916\n",
              "2021-06-30 00:00:00-04:00  135.373611"
            ],
            "text/html": [
              "\n",
              "\n",
              "  <div id=\"df-7dc14bb1-53ba-4c9a-a385-0a7b622a5a06\">\n",
              "    <div class=\"colab-df-container\">\n",
              "      <div>\n",
              "<style scoped>\n",
              "    .dataframe tbody tr th:only-of-type {\n",
              "        vertical-align: middle;\n",
              "    }\n",
              "\n",
              "    .dataframe tbody tr th {\n",
              "        vertical-align: top;\n",
              "    }\n",
              "\n",
              "    .dataframe thead th {\n",
              "        text-align: right;\n",
              "    }\n",
              "</style>\n",
              "<table border=\"1\" class=\"dataframe\">\n",
              "  <thead>\n",
              "    <tr style=\"text-align: right;\">\n",
              "      <th></th>\n",
              "      <th>Close</th>\n",
              "    </tr>\n",
              "    <tr>\n",
              "      <th>Date</th>\n",
              "      <th></th>\n",
              "    </tr>\n",
              "  </thead>\n",
              "  <tbody>\n",
              "    <tr>\n",
              "      <th>2021-06-24 00:00:00-04:00</th>\n",
              "      <td>131.864731</td>\n",
              "    </tr>\n",
              "    <tr>\n",
              "      <th>2021-06-25 00:00:00-04:00</th>\n",
              "      <td>131.568176</td>\n",
              "    </tr>\n",
              "    <tr>\n",
              "      <th>2021-06-28 00:00:00-04:00</th>\n",
              "      <td>133.218857</td>\n",
              "    </tr>\n",
              "    <tr>\n",
              "      <th>2021-06-29 00:00:00-04:00</th>\n",
              "      <td>134.750916</td>\n",
              "    </tr>\n",
              "    <tr>\n",
              "      <th>2021-06-30 00:00:00-04:00</th>\n",
              "      <td>135.373611</td>\n",
              "    </tr>\n",
              "  </tbody>\n",
              "</table>\n",
              "</div>\n",
              "      <button class=\"colab-df-convert\" onclick=\"convertToInteractive('df-7dc14bb1-53ba-4c9a-a385-0a7b622a5a06')\"\n",
              "              title=\"Convert this dataframe to an interactive table.\"\n",
              "              style=\"display:none;\">\n",
              "\n",
              "  <svg xmlns=\"http://www.w3.org/2000/svg\" height=\"24px\"viewBox=\"0 0 24 24\"\n",
              "       width=\"24px\">\n",
              "    <path d=\"M0 0h24v24H0V0z\" fill=\"none\"/>\n",
              "    <path d=\"M18.56 5.44l.94 2.06.94-2.06 2.06-.94-2.06-.94-.94-2.06-.94 2.06-2.06.94zm-11 1L8.5 8.5l.94-2.06 2.06-.94-2.06-.94L8.5 2.5l-.94 2.06-2.06.94zm10 10l.94 2.06.94-2.06 2.06-.94-2.06-.94-.94-2.06-.94 2.06-2.06.94z\"/><path d=\"M17.41 7.96l-1.37-1.37c-.4-.4-.92-.59-1.43-.59-.52 0-1.04.2-1.43.59L10.3 9.45l-7.72 7.72c-.78.78-.78 2.05 0 2.83L4 21.41c.39.39.9.59 1.41.59.51 0 1.02-.2 1.41-.59l7.78-7.78 2.81-2.81c.8-.78.8-2.07 0-2.86zM5.41 20L4 18.59l7.72-7.72 1.47 1.35L5.41 20z\"/>\n",
              "  </svg>\n",
              "      </button>\n",
              "\n",
              "\n",
              "\n",
              "    <div id=\"df-83878888-9cfd-4df2-94b3-9497eb19b582\">\n",
              "      <button class=\"colab-df-quickchart\" onclick=\"quickchart('df-83878888-9cfd-4df2-94b3-9497eb19b582')\"\n",
              "              title=\"Suggest charts.\"\n",
              "              style=\"display:none;\">\n",
              "\n",
              "<svg xmlns=\"http://www.w3.org/2000/svg\" height=\"24px\"viewBox=\"0 0 24 24\"\n",
              "     width=\"24px\">\n",
              "    <g>\n",
              "        <path d=\"M19 3H5c-1.1 0-2 .9-2 2v14c0 1.1.9 2 2 2h14c1.1 0 2-.9 2-2V5c0-1.1-.9-2-2-2zM9 17H7v-7h2v7zm4 0h-2V7h2v10zm4 0h-2v-4h2v4z\"/>\n",
              "    </g>\n",
              "</svg>\n",
              "      </button>\n",
              "    </div>\n",
              "\n",
              "<style>\n",
              "  .colab-df-quickchart {\n",
              "    background-color: #E8F0FE;\n",
              "    border: none;\n",
              "    border-radius: 50%;\n",
              "    cursor: pointer;\n",
              "    display: none;\n",
              "    fill: #1967D2;\n",
              "    height: 32px;\n",
              "    padding: 0 0 0 0;\n",
              "    width: 32px;\n",
              "  }\n",
              "\n",
              "  .colab-df-quickchart:hover {\n",
              "    background-color: #E2EBFA;\n",
              "    box-shadow: 0px 1px 2px rgba(60, 64, 67, 0.3), 0px 1px 3px 1px rgba(60, 64, 67, 0.15);\n",
              "    fill: #174EA6;\n",
              "  }\n",
              "\n",
              "  [theme=dark] .colab-df-quickchart {\n",
              "    background-color: #3B4455;\n",
              "    fill: #D2E3FC;\n",
              "  }\n",
              "\n",
              "  [theme=dark] .colab-df-quickchart:hover {\n",
              "    background-color: #434B5C;\n",
              "    box-shadow: 0px 1px 3px 1px rgba(0, 0, 0, 0.15);\n",
              "    filter: drop-shadow(0px 1px 2px rgba(0, 0, 0, 0.3));\n",
              "    fill: #FFFFFF;\n",
              "  }\n",
              "</style>\n",
              "\n",
              "    <script>\n",
              "      async function quickchart(key) {\n",
              "        const containerElement = document.querySelector('#' + key);\n",
              "        const charts = await google.colab.kernel.invokeFunction(\n",
              "            'suggestCharts', [key], {});\n",
              "      }\n",
              "    </script>\n",
              "\n",
              "      <script>\n",
              "\n",
              "function displayQuickchartButton(domScope) {\n",
              "  let quickchartButtonEl =\n",
              "    domScope.querySelector('#df-83878888-9cfd-4df2-94b3-9497eb19b582 button.colab-df-quickchart');\n",
              "  quickchartButtonEl.style.display =\n",
              "    google.colab.kernel.accessAllowed ? 'block' : 'none';\n",
              "}\n",
              "\n",
              "        displayQuickchartButton(document);\n",
              "      </script>\n",
              "      <style>\n",
              "    .colab-df-container {\n",
              "      display:flex;\n",
              "      flex-wrap:wrap;\n",
              "      gap: 12px;\n",
              "    }\n",
              "\n",
              "    .colab-df-convert {\n",
              "      background-color: #E8F0FE;\n",
              "      border: none;\n",
              "      border-radius: 50%;\n",
              "      cursor: pointer;\n",
              "      display: none;\n",
              "      fill: #1967D2;\n",
              "      height: 32px;\n",
              "      padding: 0 0 0 0;\n",
              "      width: 32px;\n",
              "    }\n",
              "\n",
              "    .colab-df-convert:hover {\n",
              "      background-color: #E2EBFA;\n",
              "      box-shadow: 0px 1px 2px rgba(60, 64, 67, 0.3), 0px 1px 3px 1px rgba(60, 64, 67, 0.15);\n",
              "      fill: #174EA6;\n",
              "    }\n",
              "\n",
              "    [theme=dark] .colab-df-convert {\n",
              "      background-color: #3B4455;\n",
              "      fill: #D2E3FC;\n",
              "    }\n",
              "\n",
              "    [theme=dark] .colab-df-convert:hover {\n",
              "      background-color: #434B5C;\n",
              "      box-shadow: 0px 1px 3px 1px rgba(0, 0, 0, 0.15);\n",
              "      filter: drop-shadow(0px 1px 2px rgba(0, 0, 0, 0.3));\n",
              "      fill: #FFFFFF;\n",
              "    }\n",
              "  </style>\n",
              "\n",
              "      <script>\n",
              "        const buttonEl =\n",
              "          document.querySelector('#df-7dc14bb1-53ba-4c9a-a385-0a7b622a5a06 button.colab-df-convert');\n",
              "        buttonEl.style.display =\n",
              "          google.colab.kernel.accessAllowed ? 'block' : 'none';\n",
              "\n",
              "        async function convertToInteractive(key) {\n",
              "          const element = document.querySelector('#df-7dc14bb1-53ba-4c9a-a385-0a7b622a5a06');\n",
              "          const dataTable =\n",
              "            await google.colab.kernel.invokeFunction('convertToInteractive',\n",
              "                                                     [key], {});\n",
              "          if (!dataTable) return;\n",
              "\n",
              "          const docLinkHtml = 'Like what you see? Visit the ' +\n",
              "            '<a target=\"_blank\" href=https://colab.research.google.com/notebooks/data_table.ipynb>data table notebook</a>'\n",
              "            + ' to learn more about interactive tables.';\n",
              "          element.innerHTML = '';\n",
              "          dataTable['output_type'] = 'display_data';\n",
              "          await google.colab.output.renderOutput(dataTable, element);\n",
              "          const docLink = document.createElement('div');\n",
              "          docLink.innerHTML = docLinkHtml;\n",
              "          element.appendChild(docLink);\n",
              "        }\n",
              "      </script>\n",
              "    </div>\n",
              "  </div>\n"
            ]
          },
          "metadata": {},
          "execution_count": 49
        }
      ]
    },
    {
      "cell_type": "code",
      "source": [
        "apple.dropna(inplace=True)"
      ],
      "metadata": {
        "id": "VqDBGOkbAngw"
      },
      "execution_count": 50,
      "outputs": []
    },
    {
      "cell_type": "code",
      "source": [
        "apple.shape"
      ],
      "metadata": {
        "colab": {
          "base_uri": "https://localhost:8080/"
        },
        "id": "nXBlhKD68Tn1",
        "outputId": "bdbc5e41-267c-4512-9c26-539b4d2535de"
      },
      "execution_count": 51,
      "outputs": [
        {
          "output_type": "execute_result",
          "data": {
            "text/plain": [
              "(5408, 1)"
            ]
          },
          "metadata": {},
          "execution_count": 51
        }
      ]
    },
    {
      "cell_type": "code",
      "source": [
        "apple['Rendimientos_log']=np.log(apple['Close']/apple['Close'].shift(1))#shift recorre una posicion anterior, aemas se calcula el ln"
      ],
      "metadata": {
        "id": "q_LDvfVY7cUZ"
      },
      "execution_count": 52,
      "outputs": []
    },
    {
      "cell_type": "code",
      "source": [
        "apple=apple[(apple.index>='2007-01-04')&(apple.index<='2021-07-23')]"
      ],
      "metadata": {
        "id": "8JGKWwyG8CDr"
      },
      "execution_count": 53,
      "outputs": []
    },
    {
      "cell_type": "code",
      "source": [
        "plt.plot(apple['Rendimientos_log'])\n",
        "plt.title('Rendimientos log Apple')\n",
        "plt.grid()\n",
        "plt.show()\n"
      ],
      "metadata": {
        "colab": {
          "base_uri": "https://localhost:8080/",
          "height": 452
        },
        "id": "F3NndDcC9Phr",
        "outputId": "a046527d-2df2-4996-8e62-fc6b4f3d04c7"
      },
      "execution_count": 54,
      "outputs": [
        {
          "output_type": "display_data",
          "data": {
            "text/plain": [
              "<Figure size 640x480 with 1 Axes>"
            ],
            "image/png": "[encoded data removed]"
          },
          "metadata": {}
        }
      ]
    },
    {
      "cell_type": "markdown",
      "source": [
        "## Cálculo del VaR\n",
        "calculo por cuantiles, asumiendo la siguiente confianza para los VaR:\n",
        "\n",
        "90%,95%,99%, 99.9%"
      ],
      "metadata": {
        "id": "bwK2dxmlBWKF"
      }
    },
    {
      "cell_type": "code",
      "source": [
        "VaR=dict(zip(['90%','95%','99%','99.9%'],np.quantile(apple['Rendimientos_log'],[.90,0.95,.99,.999])))"
      ],
      "metadata": {
        "id": "EN0FUBSDK80r"
      },
      "execution_count": 55,
      "outputs": []
    },
    {
      "cell_type": "code",
      "source": [
        "VaR#estos son los valores en riesgo de las distintas posiciones"
      ],
      "metadata": {
        "colab": {
          "base_uri": "https://localhost:8080/"
        },
        "id": "r55-63WfbK9T",
        "outputId": "f2b3377e-e8c1-4a99-d23d-5c2822315de2"
      },
      "execution_count": 56,
      "outputs": [
        {
          "output_type": "execute_result",
          "data": {
            "text/plain": [
              "{'90%': 0.022806386637803277,\n",
              " '95%': 0.0314924282443481,\n",
              " '99%': 0.0572303923809291,\n",
              " '99.9%': 0.09977748585773147}"
            ]
          },
          "metadata": {},
          "execution_count": 56
        }
      ]
    },
    {
      "cell_type": "markdown",
      "source": [
        "## Cálculo del CVaR al 95%"
      ],
      "metadata": {
        "id": "dv-_a_n5HPTZ"
      }
    },
    {
      "cell_type": "code",
      "source": [
        "#ordenar los rendiminetos en orden ascendente, para dejar desde donde hubo mas perdida hasta donde hubo mayor ganancia\n",
        "ap=apple[['Rendimientos_log']]\n",
        "ap=ap.sort_values(by='Rendimientos_log')"
      ],
      "metadata": {
        "id": "hRc5je3hC6nw"
      },
      "execution_count": 57,
      "outputs": []
    },
    {
      "cell_type": "code",
      "source": [
        "int(len(ap)*.95)#quantil del 95%"
      ],
      "metadata": {
        "id": "XN1fGD2jHpSv",
        "colab": {
          "base_uri": "https://localhost:8080/"
        },
        "outputId": "242f53bf-b845-4091-b9b9-ad4f51ef5efb"
      },
      "execution_count": 58,
      "outputs": [
        {
          "output_type": "execute_result",
          "data": {
            "text/plain": [
              "3465"
            ]
          },
          "metadata": {},
          "execution_count": 58
        }
      ]
    },
    {
      "cell_type": "code",
      "source": [
        "ap.iloc[3464,[0]]"
      ],
      "metadata": {
        "id": "nxiry2e9KnEI",
        "colab": {
          "base_uri": "https://localhost:8080/"
        },
        "outputId": "5085ed29-7e7d-45e8-edd4-45da772321c6"
      },
      "execution_count": 86,
      "outputs": [
        {
          "output_type": "execute_result",
          "data": {
            "text/plain": [
              "Rendimientos_log    0.031476\n",
              "Name: 2008-02-27 00:00:00-05:00, dtype: float64"
            ]
          },
          "metadata": {},
          "execution_count": 86
        }
      ]
    },
    {
      "cell_type": "code",
      "source": [
        "#con el dato anterior se calcula el promedio de los datos mayores o iguales al VaR\n",
        "es=ap.iloc[3464:,[0]].sum()/(len(ap)-3465)"
      ],
      "metadata": {
        "id": "U2aj_Bb7HrG_"
      },
      "execution_count": 87,
      "outputs": []
    },
    {
      "cell_type": "code",
      "source": [
        "es#este es el var del valor dela serie"
      ],
      "metadata": {
        "id": "oHSsWbwIJFw4",
        "colab": {
          "base_uri": "https://localhost:8080/"
        },
        "outputId": "13fc9af6-9991-4c49-e680-357b8cdb08b7"
      },
      "execution_count": 61,
      "outputs": [
        {
          "output_type": "execute_result",
          "data": {
            "text/plain": [
              "Rendimientos_log    0.047136\n",
              "dtype: float64"
            ]
          },
          "metadata": {},
          "execution_count": 61
        }
      ]
    },
    {
      "cell_type": "code",
      "source": [
        "VaR"
      ],
      "metadata": {
        "id": "Bo5qu1JBJ0jM",
        "colab": {
          "base_uri": "https://localhost:8080/"
        },
        "outputId": "9fe54293-13d7-45b8-c03d-5a86660d48fa"
      },
      "execution_count": 62,
      "outputs": [
        {
          "output_type": "execute_result",
          "data": {
            "text/plain": [
              "{'90%': 0.022806386637803277,\n",
              " '95%': 0.0314924282443481,\n",
              " '99%': 0.0572303923809291,\n",
              " '99.9%': 0.09977748585773147}"
            ]
          },
          "metadata": {},
          "execution_count": 62
        }
      ]
    },
    {
      "cell_type": "markdown",
      "source": [
        "Cuando se compara el var condicional que es \"es\" con respecto a \"VaR\", se ve que el var condicional tiene una capacidad mayor para identificar perdidas, ya que al 95% identifica 0.0471 o 4.7% y el otro 3.14%. Es decir que la maxíma perdida esperada con VaR con un 95% de confianza es 3.14%"
      ],
      "metadata": {
        "id": "YTCUwmBVKNVj"
      }
    },
    {
      "cell_type": "markdown",
      "source": [
        "##VaR Gaussiano o normal, histórico o no paramétrico y modificado\n",
        "Var=cantidad_posicion*valor_x_dist*raiz(horizonte_temp)*deviación_Std_t-1"
      ],
      "metadata": {
        "id": "ozx-BNO4iIQH"
      }
    },
    {
      "cell_type": "code",
      "source": [
        "#normal 95%\n",
        "VaRN=st.norm(loc=apple['Rendimientos_log'].mean(),scale=apple['Rendimientos_log'].std()).ppf([1-.95])\n",
        "VaRN"
      ],
      "metadata": {
        "colab": {
          "base_uri": "https://localhost:8080/"
        },
        "id": "fV-fNEPnkAm8",
        "outputId": "591f5abd-0b4d-4836-d51a-f5fd086622ac"
      },
      "execution_count": 63,
      "outputs": [
        {
          "output_type": "execute_result",
          "data": {
            "text/plain": [
              "array([-0.03254659])"
            ]
          },
          "metadata": {},
          "execution_count": 63
        }
      ]
    },
    {
      "cell_type": "code",
      "source": [
        "#alternativa2\n",
        "#st.norm().ppf(.05)*apple['Rendimientos_log'].std()\n",
        "#alternativa 3\n",
        "#cun=st.norm.ppf(1-.95)\n",
        "#cun*-(apple['Rendimientos_log'].std())"
      ],
      "metadata": {
        "id": "WiVT55hWsYXG"
      },
      "execution_count": 64,
      "outputs": []
    },
    {
      "cell_type": "code",
      "source": [
        "#Historico o monte carlo genera multiples trayectorias aletarorias de rendimientos futuros usando una dist que se ajusta a hist\n",
        "simulacion_R=np.random.choice(apple.Rendimientos_log,size=(100,len(apple)),replace=True)\n",
        "rend_acum=np.cumprod(simulacion_R,axis=1)#con axis 1 suma columnas\n",
        "VaR_mont=-np.quantile(rend_acum[0,:],0.95)\n",
        "VaR_mont"
      ],
      "metadata": {
        "id": "mzcMyr-uKMYY",
        "colab": {
          "base_uri": "https://localhost:8080/"
        },
        "outputId": "233263c3-47b4-4eb5-e043-12abb3b95ee3"
      },
      "execution_count": 65,
      "outputs": [
        {
          "output_type": "execute_result",
          "data": {
            "text/plain": [
              "-0.0"
            ]
          },
          "metadata": {},
          "execution_count": 65
        }
      ]
    },
    {
      "cell_type": "code",
      "source": [
        "rend_acum"
      ],
      "metadata": {
        "colab": {
          "base_uri": "https://localhost:8080/"
        },
        "id": "E0Sw13rBTV3C",
        "outputId": "9cba509f-d0a3-4ece-962b-d3dc762f8ed7"
      },
      "execution_count": 66,
      "outputs": [
        {
          "output_type": "execute_result",
          "data": {
            "text/plain": [
              "array([[ 2.78044058e-02,  8.67226603e-04, -5.42899907e-06, ...,\n",
              "        -0.00000000e+00,  0.00000000e+00,  0.00000000e+00],\n",
              "       [ 3.75926944e-02,  1.76210934e-04,  4.11428921e-07, ...,\n",
              "        -0.00000000e+00,  0.00000000e+00, -0.00000000e+00],\n",
              "       [-5.72139046e-02, -7.03222770e-04,  1.21388497e-05, ...,\n",
              "        -0.00000000e+00, -0.00000000e+00,  0.00000000e+00],\n",
              "       ...,\n",
              "       [-6.70068920e-03,  2.75665597e-05, -5.76850660e-07, ...,\n",
              "         0.00000000e+00,  0.00000000e+00, -0.00000000e+00],\n",
              "       [ 4.03785485e-02, -1.52988182e-04,  8.82455444e-06, ...,\n",
              "         0.00000000e+00,  0.00000000e+00,  0.00000000e+00],\n",
              "       [-3.53479861e-02, -6.02952211e-04, -3.83575334e-06, ...,\n",
              "        -0.00000000e+00, -0.00000000e+00,  0.00000000e+00]])"
            ]
          },
          "metadata": {},
          "execution_count": 66
        }
      ]
    },
    {
      "cell_type": "markdown",
      "source": [
        "##CVaRN Normal\n",
        "El cvar sirve con distribuciones leptocurticas con colas gordas"
      ],
      "metadata": {
        "id": "KFM5faepv0e_"
      }
    },
    {
      "cell_type": "code",
      "source": [
        "VaRN=st.norm(loc=apple['Rendimientos_log'].mean(),scale=apple['Rendimientos_log'].std()).ppf(.05)\n",
        "VaRN"
      ],
      "metadata": {
        "colab": {
          "base_uri": "https://localhost:8080/"
        },
        "id": "AcKDhTBGfIqH",
        "outputId": "1fae82e6-68f8-451d-b456-7713e25b240b"
      },
      "execution_count": 67,
      "outputs": [
        {
          "output_type": "execute_result",
          "data": {
            "text/plain": [
              "-0.032546593231613956"
            ]
          },
          "metadata": {},
          "execution_count": 67
        }
      ]
    },
    {
      "cell_type": "code",
      "source": [
        "dist_n=st.norm(loc=apple['Rendimientos_log'].mean(),scale=apple['Rendimientos_log'].std()).rvs(len(apple))"
      ],
      "metadata": {
        "id": "_laNDDY7rO3G"
      },
      "execution_count": 68,
      "outputs": []
    },
    {
      "cell_type": "code",
      "source": [
        "VaRN=np.quantile(dist_n,.05)"
      ],
      "metadata": {
        "id": "p67Q4H_8tdzi"
      },
      "execution_count": 69,
      "outputs": []
    },
    {
      "cell_type": "code",
      "source": [
        "VaRN"
      ],
      "metadata": {
        "colab": {
          "base_uri": "https://localhost:8080/"
        },
        "id": "MeNj1E0uwGq1",
        "outputId": "64e90d30-ccd8-44c3-a542-6bc3ffe08ad9"
      },
      "execution_count": 70,
      "outputs": [
        {
          "output_type": "execute_result",
          "data": {
            "text/plain": [
              "-0.03272443271501171"
            ]
          },
          "metadata": {},
          "execution_count": 70
        }
      ]
    },
    {
      "cell_type": "code",
      "source": [
        "CVaRN=dist_n[dist_n<VaRN].mean()"
      ],
      "metadata": {
        "id": "l8k-WiYosPYL"
      },
      "execution_count": 71,
      "outputs": []
    },
    {
      "cell_type": "code",
      "source": [
        "CVaRN#capta mas riesgo que el VARN normal solo que capta un 3.26 aprox"
      ],
      "metadata": {
        "colab": {
          "base_uri": "https://localhost:8080/"
        },
        "id": "FEDCY1Grvq6p",
        "outputId": "f823566e-e27f-4751-e054-c8bf3d50a587"
      },
      "execution_count": 72,
      "outputs": [
        {
          "output_type": "execute_result",
          "data": {
            "text/plain": [
              "-0.04204780215486923"
            ]
          },
          "metadata": {},
          "execution_count": 72
        }
      ]
    },
    {
      "cell_type": "markdown",
      "source": [
        "## VaR Medias Moviles 500"
      ],
      "metadata": {
        "id": "Degxm56x2zow"
      }
    },
    {
      "cell_type": "code",
      "source": [
        "def varn(x):\n",
        "  VaRN=-st.norm(loc=x.mean(),scale=x.std()).ppf(.95)\n",
        "  return VaRN\n"
      ],
      "metadata": {
        "id": "WyNyK3a23Ubr"
      },
      "execution_count": 73,
      "outputs": []
    },
    {
      "cell_type": "code",
      "source": [
        "def var_h(x):\n",
        "  varh=-np.quantile(x,.95)\n",
        "  return varh"
      ],
      "metadata": {
        "id": "oSdfIRmV8g8L"
      },
      "execution_count": 74,
      "outputs": []
    },
    {
      "cell_type": "code",
      "source": [
        "def var_mc(x):\n",
        "  simulacion_R=np.random.choice(x,size=(500,len(x)),replace=True)\n",
        "  rend_acum=np.cumprod(simulacion_R,axis=1)#con axis 1 suma columnas\n",
        "  VaR_mont=-np.percentile(rend_acum[:,-1],5)\n",
        "  return VaR_mont"
      ],
      "metadata": {
        "id": "Bim5vG33GNSJ"
      },
      "execution_count": 75,
      "outputs": []
    },
    {
      "cell_type": "code",
      "source": [
        "def cvar(x):\n",
        "  n=np.quantile(x,.95)\n",
        "  cvar=-x[x>=n].mean()\n",
        "  return cvar"
      ],
      "metadata": {
        "id": "vf-AvlMC_q5m"
      },
      "execution_count": 76,
      "outputs": []
    },
    {
      "cell_type": "code",
      "source": [
        "def cvarnorm(x):\n",
        "  dist_n=st.norm(loc=x.mean(),scale=x.std()).rvs(len(x))\n",
        "  n=np.quantile(dist_n,.05)\n",
        "  cvarn=dist_n[dist_n<n].mean()\n",
        "  return cvarn"
      ],
      "metadata": {
        "id": "chG7WCKkEmft"
      },
      "execution_count": 77,
      "outputs": []
    },
    {
      "cell_type": "code",
      "source": [
        "apple=apple[['Rendimientos_log']]"
      ],
      "metadata": {
        "id": "LnGI9n5txrN9"
      },
      "execution_count": 78,
      "outputs": []
    },
    {
      "cell_type": "code",
      "source": [
        "apple['VaR N']=apple['Rendimientos_log'].rolling(500).apply(lambda x: varn(x))\n",
        "apple['VaR H']=apple['Rendimientos_log'].rolling(500).apply(lambda x: var_h(x))\n",
        "\n",
        "apple['CVaR H']=apple['Rendimientos_log'].rolling(500).apply(lambda x:cvar(x))\n",
        "apple['CVaR N']=apple['Rendimientos_log'].rolling(500).apply(lambda x:cvarnorm(x))"
      ],
      "metadata": {
        "id": "n3z9wUwz28qk"
      },
      "execution_count": 79,
      "outputs": []
    },
    {
      "cell_type": "code",
      "source": [
        "#apple['VaR MC']=apple['Rendimientos_log'].rolling(500).apply(lambda x: var_mc(x))"
      ],
      "metadata": {
        "id": "n_YLUS3pLyxK"
      },
      "execution_count": 80,
      "outputs": []
    },
    {
      "cell_type": "code",
      "source": [
        "apple.plot()"
      ],
      "metadata": {
        "colab": {
          "base_uri": "https://localhost:8080/",
          "height": 439
        },
        "id": "OxIS0xtxAsMi",
        "outputId": "e0880b6e-42cc-408f-e365-ac2dd8c1f742"
      },
      "execution_count": 81,
      "outputs": [
        {
          "output_type": "execute_result",
          "data": {
            "text/plain": [
              "<Axes: xlabel='Date'>"
            ]
          },
          "metadata": {},
          "execution_count": 81
        },
        {
          "output_type": "display_data",
          "data": {
            "text/plain": [
              "<Figure size 640x480 with 1 Axes>"
            ],
            "image/png": "[encoded data removed]"
          },
          "metadata": {}
        }
      ]
    },
    {
      "cell_type": "code",
      "source": [
        "4000*st.norm.ppf(.95)*math.sqrt(3)*(0.70/100)#perdida potencial en 3 dias"
      ],
      "metadata": {
        "colab": {
          "base_uri": "https://localhost:8080/"
        },
        "id": "jY7niWaJXtJE",
        "outputId": "4a211346-08f9-4f56-e0b0-873a4e0e93c4"
      },
      "execution_count": 82,
      "outputs": [
        {
          "output_type": "execute_result",
          "data": {
            "text/plain": [
              "79.77116148102903"
            ]
          },
          "metadata": {},
          "execution_count": 82
        }
      ]
    },
    {
      "cell_type": "code",
      "source": [
        "4000*st.norm.ppf(.95)*math.sqrt(1)*(0.70/100)#perdida potencial en 1 dia"
      ],
      "metadata": {
        "colab": {
          "base_uri": "https://localhost:8080/"
        },
        "id": "dPmmhphjX8qp",
        "outputId": "cd233f94-3bb9-45c9-9e12-7bdc3576ad41"
      },
      "execution_count": 83,
      "outputs": [
        {
          "output_type": "execute_result",
          "data": {
            "text/plain": [
              "46.05590155464122"
            ]
          },
          "metadata": {},
          "execution_count": 83
        }
      ]
    },
    {
      "cell_type": "code",
      "source": [
        "st.norm.ppf(.95)*(.70/100)"
      ],
      "metadata": {
        "id": "tL9ZD1uqX5Xa",
        "colab": {
          "base_uri": "https://localhost:8080/"
        },
        "outputId": "3de13e09-b040-4fe0-dfd7-cd8b3545b81a"
      },
      "execution_count": 84,
      "outputs": [
        {
          "output_type": "execute_result",
          "data": {
            "text/plain": [
              "0.011513975388660305"
            ]
          },
          "metadata": {},
          "execution_count": 84
        }
      ]
    }
  ]
}