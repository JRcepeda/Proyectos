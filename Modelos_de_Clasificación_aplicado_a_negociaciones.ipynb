{
  "nbformat": 4,
  "nbformat_minor": 0,
  "metadata": {
    "colab": {
      "provenance": [],
      "authorship_tag": "ABX9TyPSOVKY80EG8GtiZ7lv8cpp",
      "include_colab_link": true
    },
    "kernelspec": {
      "name": "python3",
      "display_name": "Python 3"
    },
    "language_info": {
      "name": "python"
    }
  },
  "cells": [
    {
      "cell_type": "markdown",
      "metadata": {
        "id": "view-in-github",
        "colab_type": "text"
      },
      "source": [
        "<a href=\"https://colab.research.google.com/github/JRcepeda/Proyectos/blob/main/Modelos_de_Clasificaci%C3%B3n_aplicado_a_negociaciones.ipynb\" target=\"_parent\"><img src=\"https://colab.research.google.com/assets/colab-badge.svg\" alt=\"Open In Colab\"/></a>"
      ]
    },
    {
      "cell_type": "code",
      "execution_count": null,
      "metadata": {
        "colab": {
          "base_uri": "https://localhost:8080/"
        },
        "id": "RuB-NW0fbrFg",
        "outputId": "e38c0d8f-ab23-4e97-d508-2d5e4aeafde8"
      },
      "outputs": [
        {
          "output_type": "stream",
          "name": "stdout",
          "text": [
            "Requirement already satisfied: yfinance in /usr/local/lib/python3.10/dist-packages (0.2.22)\n",
            "Requirement already satisfied: pandas>=1.3.0 in /usr/local/lib/python3.10/dist-packages (from yfinance) (1.5.3)\n",
            "Requirement already satisfied: numpy>=1.16.5 in /usr/local/lib/python3.10/dist-packages (from yfinance) (1.22.4)\n",
            "Requirement already satisfied: requests>=2.26 in /usr/local/lib/python3.10/dist-packages (from yfinance) (2.27.1)\n",
            "Requirement already satisfied: multitasking>=0.0.7 in /usr/local/lib/python3.10/dist-packages (from yfinance) (0.0.11)\n",
            "Requirement already satisfied: lxml>=4.9.1 in /usr/local/lib/python3.10/dist-packages (from yfinance) (4.9.3)\n",
            "Requirement already satisfied: appdirs>=1.4.4 in /usr/local/lib/python3.10/dist-packages (from yfinance) (1.4.4)\n",
            "Requirement already satisfied: pytz>=2022.5 in /usr/local/lib/python3.10/dist-packages (from yfinance) (2022.7.1)\n",
            "Requirement already satisfied: frozendict>=2.3.4 in /usr/local/lib/python3.10/dist-packages (from yfinance) (2.3.8)\n",
            "Requirement already satisfied: beautifulsoup4>=4.11.1 in /usr/local/lib/python3.10/dist-packages (from yfinance) (4.11.2)\n",
            "Requirement already satisfied: html5lib>=1.1 in /usr/local/lib/python3.10/dist-packages (from yfinance) (1.1)\n",
            "Requirement already satisfied: soupsieve>1.2 in /usr/local/lib/python3.10/dist-packages (from beautifulsoup4>=4.11.1->yfinance) (2.4.1)\n",
            "Requirement already satisfied: six>=1.9 in /usr/local/lib/python3.10/dist-packages (from html5lib>=1.1->yfinance) (1.16.0)\n",
            "Requirement already satisfied: webencodings in /usr/local/lib/python3.10/dist-packages (from html5lib>=1.1->yfinance) (0.5.1)\n",
            "Requirement already satisfied: python-dateutil>=2.8.1 in /usr/local/lib/python3.10/dist-packages (from pandas>=1.3.0->yfinance) (2.8.2)\n",
            "Requirement already satisfied: urllib3<1.27,>=1.21.1 in /usr/local/lib/python3.10/dist-packages (from requests>=2.26->yfinance) (1.26.16)\n",
            "Requirement already satisfied: certifi>=2017.4.17 in /usr/local/lib/python3.10/dist-packages (from requests>=2.26->yfinance) (2023.5.7)\n",
            "Requirement already satisfied: charset-normalizer~=2.0.0 in /usr/local/lib/python3.10/dist-packages (from requests>=2.26->yfinance) (2.0.12)\n",
            "Requirement already satisfied: idna<4,>=2.5 in /usr/local/lib/python3.10/dist-packages (from requests>=2.26->yfinance) (3.4)\n"
          ]
        }
      ],
      "source": [
        "pip install yfinance"
      ]
    },
    {
      "cell_type": "code",
      "source": [
        "pip install ta #analisis técnico"
      ],
      "metadata": {
        "colab": {
          "base_uri": "https://localhost:8080/"
        },
        "id": "lQ1heWKub45M",
        "outputId": "43b03588-58ef-41da-fe4b-ad8f35b13ffb"
      },
      "execution_count": null,
      "outputs": [
        {
          "output_type": "stream",
          "name": "stdout",
          "text": [
            "Requirement already satisfied: ta in /usr/local/lib/python3.10/dist-packages (0.10.2)\n",
            "Requirement already satisfied: numpy in /usr/local/lib/python3.10/dist-packages (from ta) (1.22.4)\n",
            "Requirement already satisfied: pandas in /usr/local/lib/python3.10/dist-packages (from ta) (1.5.3)\n",
            "Requirement already satisfied: python-dateutil>=2.8.1 in /usr/local/lib/python3.10/dist-packages (from pandas->ta) (2.8.2)\n",
            "Requirement already satisfied: pytz>=2020.1 in /usr/local/lib/python3.10/dist-packages (from pandas->ta) (2022.7.1)\n",
            "Requirement already satisfied: six>=1.5 in /usr/local/lib/python3.10/dist-packages (from python-dateutil>=2.8.1->pandas->ta) (1.16.0)\n"
          ]
        }
      ]
    },
    {
      "cell_type": "code",
      "source": [
        "import pandas as pd\n",
        "import numpy as np\n",
        "import yfinance as yf\n",
        "import ta\n",
        "from sklearn.model_selection import train_test_split\n",
        "from sklearn.preprocessing import StandardScaler\n",
        "from sklearn.svm import SVC\n",
        "from sklearn.tree import DecisionTreeClassifier\n",
        "from sklearn.ensemble import RandomForestClassifier\n",
        "from sklearn.neural_network import MLPClassifier\n",
        "import sklearn.metrics as mt\n",
        "import matplotlib.pyplot as plt\n",
        "plt.style.use('ggplot')\n"
      ],
      "metadata": {
        "id": "P0FwibiXcY8Q"
      },
      "execution_count": null,
      "outputs": []
    },
    {
      "cell_type": "code",
      "source": [
        "datos=yf.Ticker('BTC-USD').history(start='2016-01-01',end='2021-01-01')\n",
        "datos.head()"
      ],
      "metadata": {
        "colab": {
          "base_uri": "https://localhost:8080/",
          "height": 238
        },
        "id": "W2OQ8pe2ck7o",
        "outputId": "a77424e5-7060-4a76-d7d4-6f502b0f8642"
      },
      "execution_count": null,
      "outputs": [
        {
          "output_type": "execute_result",
          "data": {
            "text/plain": [
              "                                 Open        High         Low       Close  \\\n",
              "Date                                                                        \n",
              "2016-01-01 00:00:00+00:00  430.721008  436.246002  427.515015  434.334015   \n",
              "2016-01-02 00:00:00+00:00  434.622009  436.062012  431.869995  433.437988   \n",
              "2016-01-03 00:00:00+00:00  433.578003  433.743011  424.705994  430.010986   \n",
              "2016-01-04 00:00:00+00:00  430.061005  434.516998  429.084015  433.091003   \n",
              "2016-01-05 00:00:00+00:00  433.069000  434.182007  429.675995  431.959991   \n",
              "\n",
              "                             Volume  Dividends  Stock Splits  \n",
              "Date                                                          \n",
              "2016-01-01 00:00:00+00:00  36278900        0.0           0.0  \n",
              "2016-01-02 00:00:00+00:00  30096600        0.0           0.0  \n",
              "2016-01-03 00:00:00+00:00  39633800        0.0           0.0  \n",
              "2016-01-04 00:00:00+00:00  38477500        0.0           0.0  \n",
              "2016-01-05 00:00:00+00:00  34522600        0.0           0.0  "
            ],
            "text/html": [
              "\n",
              "\n",
              "  <div id=\"df-246f33f5-a17a-4380-8ed2-3c36651e39ea\">\n",
              "    <div class=\"colab-df-container\">\n",
              "      <div>\n",
              "<style scoped>\n",
              "    .dataframe tbody tr th:only-of-type {\n",
              "        vertical-align: middle;\n",
              "    }\n",
              "\n",
              "    .dataframe tbody tr th {\n",
              "        vertical-align: top;\n",
              "    }\n",
              "\n",
              "    .dataframe thead th {\n",
              "        text-align: right;\n",
              "    }\n",
              "</style>\n",
              "<table border=\"1\" class=\"dataframe\">\n",
              "  <thead>\n",
              "    <tr style=\"text-align: right;\">\n",
              "      <th></th>\n",
              "      <th>Open</th>\n",
              "      <th>High</th>\n",
              "      <th>Low</th>\n",
              "      <th>Close</th>\n",
              "      <th>Volume</th>\n",
              "      <th>Dividends</th>\n",
              "      <th>Stock Splits</th>\n",
              "    </tr>\n",
              "    <tr>\n",
              "      <th>Date</th>\n",
              "      <th></th>\n",
              "      <th></th>\n",
              "      <th></th>\n",
              "      <th></th>\n",
              "      <th></th>\n",
              "      <th></th>\n",
              "      <th></th>\n",
              "    </tr>\n",
              "  </thead>\n",
              "  <tbody>\n",
              "    <tr>\n",
              "      <th>2016-01-01 00:00:00+00:00</th>\n",
              "      <td>430.721008</td>\n",
              "      <td>436.246002</td>\n",
              "      <td>427.515015</td>\n",
              "      <td>434.334015</td>\n",
              "      <td>36278900</td>\n",
              "      <td>0.0</td>\n",
              "      <td>0.0</td>\n",
              "    </tr>\n",
              "    <tr>\n",
              "      <th>2016-01-02 00:00:00+00:00</th>\n",
              "      <td>434.622009</td>\n",
              "      <td>436.062012</td>\n",
              "      <td>431.869995</td>\n",
              "      <td>433.437988</td>\n",
              "      <td>30096600</td>\n",
              "      <td>0.0</td>\n",
              "      <td>0.0</td>\n",
              "    </tr>\n",
              "    <tr>\n",
              "      <th>2016-01-03 00:00:00+00:00</th>\n",
              "      <td>433.578003</td>\n",
              "      <td>433.743011</td>\n",
              "      <td>424.705994</td>\n",
              "      <td>430.010986</td>\n",
              "      <td>39633800</td>\n",
              "      <td>0.0</td>\n",
              "      <td>0.0</td>\n",
              "    </tr>\n",
              "    <tr>\n",
              "      <th>2016-01-04 00:00:00+00:00</th>\n",
              "      <td>430.061005</td>\n",
              "      <td>434.516998</td>\n",
              "      <td>429.084015</td>\n",
              "      <td>433.091003</td>\n",
              "      <td>38477500</td>\n",
              "      <td>0.0</td>\n",
              "      <td>0.0</td>\n",
              "    </tr>\n",
              "    <tr>\n",
              "      <th>2016-01-05 00:00:00+00:00</th>\n",
              "      <td>433.069000</td>\n",
              "      <td>434.182007</td>\n",
              "      <td>429.675995</td>\n",
              "      <td>431.959991</td>\n",
              "      <td>34522600</td>\n",
              "      <td>0.0</td>\n",
              "      <td>0.0</td>\n",
              "    </tr>\n",
              "  </tbody>\n",
              "</table>\n",
              "</div>\n",
              "      <button class=\"colab-df-convert\" onclick=\"convertToInteractive('df-246f33f5-a17a-4380-8ed2-3c36651e39ea')\"\n",
              "              title=\"Convert this dataframe to an interactive table.\"\n",
              "              style=\"display:none;\">\n",
              "\n",
              "  <svg xmlns=\"http://www.w3.org/2000/svg\" height=\"24px\"viewBox=\"0 0 24 24\"\n",
              "       width=\"24px\">\n",
              "    <path d=\"M0 0h24v24H0V0z\" fill=\"none\"/>\n",
              "    <path d=\"M18.56 5.44l.94 2.06.94-2.06 2.06-.94-2.06-.94-.94-2.06-.94 2.06-2.06.94zm-11 1L8.5 8.5l.94-2.06 2.06-.94-2.06-.94L8.5 2.5l-.94 2.06-2.06.94zm10 10l.94 2.06.94-2.06 2.06-.94-2.06-.94-.94-2.06-.94 2.06-2.06.94z\"/><path d=\"M17.41 7.96l-1.37-1.37c-.4-.4-.92-.59-1.43-.59-.52 0-1.04.2-1.43.59L10.3 9.45l-7.72 7.72c-.78.78-.78 2.05 0 2.83L4 21.41c.39.39.9.59 1.41.59.51 0 1.02-.2 1.41-.59l7.78-7.78 2.81-2.81c.8-.78.8-2.07 0-2.86zM5.41 20L4 18.59l7.72-7.72 1.47 1.35L5.41 20z\"/>\n",
              "  </svg>\n",
              "      </button>\n",
              "\n",
              "\n",
              "\n",
              "    <div id=\"df-5e55d551-c91c-460c-a19f-53831ab330eb\">\n",
              "      <button class=\"colab-df-quickchart\" onclick=\"quickchart('df-5e55d551-c91c-460c-a19f-53831ab330eb')\"\n",
              "              title=\"Suggest charts.\"\n",
              "              style=\"display:none;\">\n",
              "\n",
              "<svg xmlns=\"http://www.w3.org/2000/svg\" height=\"24px\"viewBox=\"0 0 24 24\"\n",
              "     width=\"24px\">\n",
              "    <g>\n",
              "        <path d=\"M19 3H5c-1.1 0-2 .9-2 2v14c0 1.1.9 2 2 2h14c1.1 0 2-.9 2-2V5c0-1.1-.9-2-2-2zM9 17H7v-7h2v7zm4 0h-2V7h2v10zm4 0h-2v-4h2v4z\"/>\n",
              "    </g>\n",
              "</svg>\n",
              "      </button>\n",
              "    </div>\n",
              "\n",
              "<style>\n",
              "  .colab-df-quickchart {\n",
              "    background-color: #E8F0FE;\n",
              "    border: none;\n",
              "    border-radius: 50%;\n",
              "    cursor: pointer;\n",
              "    display: none;\n",
              "    fill: #1967D2;\n",
              "    height: 32px;\n",
              "    padding: 0 0 0 0;\n",
              "    width: 32px;\n",
              "  }\n",
              "\n",
              "  .colab-df-quickchart:hover {\n",
              "    background-color: #E2EBFA;\n",
              "    box-shadow: 0px 1px 2px rgba(60, 64, 67, 0.3), 0px 1px 3px 1px rgba(60, 64, 67, 0.15);\n",
              "    fill: #174EA6;\n",
              "  }\n",
              "\n",
              "  [theme=dark] .colab-df-quickchart {\n",
              "    background-color: #3B4455;\n",
              "    fill: #D2E3FC;\n",
              "  }\n",
              "\n",
              "  [theme=dark] .colab-df-quickchart:hover {\n",
              "    background-color: #434B5C;\n",
              "    box-shadow: 0px 1px 3px 1px rgba(0, 0, 0, 0.15);\n",
              "    filter: drop-shadow(0px 1px 2px rgba(0, 0, 0, 0.3));\n",
              "    fill: #FFFFFF;\n",
              "  }\n",
              "</style>\n",
              "\n",
              "    <script>\n",
              "      async function quickchart(key) {\n",
              "        const containerElement = document.querySelector('#' + key);\n",
              "        const charts = await google.colab.kernel.invokeFunction(\n",
              "            'suggestCharts', [key], {});\n",
              "      }\n",
              "    </script>\n",
              "\n",
              "      <script>\n",
              "\n",
              "function displayQuickchartButton(domScope) {\n",
              "  let quickchartButtonEl =\n",
              "    domScope.querySelector('#df-5e55d551-c91c-460c-a19f-53831ab330eb button.colab-df-quickchart');\n",
              "  quickchartButtonEl.style.display =\n",
              "    google.colab.kernel.accessAllowed ? 'block' : 'none';\n",
              "}\n",
              "\n",
              "        displayQuickchartButton(document);\n",
              "      </script>\n",
              "      <style>\n",
              "    .colab-df-container {\n",
              "      display:flex;\n",
              "      flex-wrap:wrap;\n",
              "      gap: 12px;\n",
              "    }\n",
              "\n",
              "    .colab-df-convert {\n",
              "      background-color: #E8F0FE;\n",
              "      border: none;\n",
              "      border-radius: 50%;\n",
              "      cursor: pointer;\n",
              "      display: none;\n",
              "      fill: #1967D2;\n",
              "      height: 32px;\n",
              "      padding: 0 0 0 0;\n",
              "      width: 32px;\n",
              "    }\n",
              "\n",
              "    .colab-df-convert:hover {\n",
              "      background-color: #E2EBFA;\n",
              "      box-shadow: 0px 1px 2px rgba(60, 64, 67, 0.3), 0px 1px 3px 1px rgba(60, 64, 67, 0.15);\n",
              "      fill: #174EA6;\n",
              "    }\n",
              "\n",
              "    [theme=dark] .colab-df-convert {\n",
              "      background-color: #3B4455;\n",
              "      fill: #D2E3FC;\n",
              "    }\n",
              "\n",
              "    [theme=dark] .colab-df-convert:hover {\n",
              "      background-color: #434B5C;\n",
              "      box-shadow: 0px 1px 3px 1px rgba(0, 0, 0, 0.15);\n",
              "      filter: drop-shadow(0px 1px 2px rgba(0, 0, 0, 0.3));\n",
              "      fill: #FFFFFF;\n",
              "    }\n",
              "  </style>\n",
              "\n",
              "      <script>\n",
              "        const buttonEl =\n",
              "          document.querySelector('#df-246f33f5-a17a-4380-8ed2-3c36651e39ea button.colab-df-convert');\n",
              "        buttonEl.style.display =\n",
              "          google.colab.kernel.accessAllowed ? 'block' : 'none';\n",
              "\n",
              "        async function convertToInteractive(key) {\n",
              "          const element = document.querySelector('#df-246f33f5-a17a-4380-8ed2-3c36651e39ea');\n",
              "          const dataTable =\n",
              "            await google.colab.kernel.invokeFunction('convertToInteractive',\n",
              "                                                     [key], {});\n",
              "          if (!dataTable) return;\n",
              "\n",
              "          const docLinkHtml = 'Like what you see? Visit the ' +\n",
              "            '<a target=\"_blank\" href=https://colab.research.google.com/notebooks/data_table.ipynb>data table notebook</a>'\n",
              "            + ' to learn more about interactive tables.';\n",
              "          element.innerHTML = '';\n",
              "          dataTable['output_type'] = 'display_data';\n",
              "          await google.colab.output.renderOutput(dataTable, element);\n",
              "          const docLink = document.createElement('div');\n",
              "          docLink.innerHTML = docLinkHtml;\n",
              "          element.appendChild(docLink);\n",
              "        }\n",
              "      </script>\n",
              "    </div>\n",
              "  </div>\n"
            ]
          },
          "metadata": {},
          "execution_count": 381
        }
      ]
    },
    {
      "cell_type": "markdown",
      "source": [
        "# cálculo de indicadores técnicos"
      ],
      "metadata": {
        "id": "Tt1xX_uMdflj"
      }
    },
    {
      "cell_type": "code",
      "source": [
        "#datos['MEXP5']=datos['Close'].ewm(span=5,adjust=False).mean()\n",
        "#media movil exponencial\n",
        "#se va a tomar decision comparando el precio actual con respecto a las medias\n",
        "\n",
        "datos['MEXP 5']=ta.trend.ema_indicator(datos['Close'],5,True)/datos['Close']\n",
        "datos['MEXP 20']=ta.trend.ema_indicator(datos['Close'],20,True)/datos['Close']\n",
        "datos['MEXP 50']=ta.trend.ema_indicator(datos['Close'],50,True)/datos['Close']\n",
        "datos['MEXP 100']=ta.trend.ema_indicator(datos['Close'],100,True)/datos['Close']"
      ],
      "metadata": {
        "id": "JRXEuJmVc1F5"
      },
      "execution_count": null,
      "outputs": []
    },
    {
      "cell_type": "code",
      "source": [
        "#Ociladores\n",
        "#indice de fuerza relativa : ocilador entre 0 y 100\n",
        "datos['RSI']=ta.momentum.rsi(datos['Close'],fillna=True)\n",
        "\n",
        "#rango verdadero medio: promedio de un determinado numero de peridos de las diferencias del precio mas alto y mas bajo del dia\n",
        "datos['ATR']=ta.volatility.average_true_range(datos['High'],datos['Low'],datos['Close'],fillna=True)\n",
        "\n",
        "#rango de porcentaje de williams\n",
        "datos['WR']=ta.momentum.williams_r(datos['High'],datos['Low'],datos['Close'],fillna=True)"
      ],
      "metadata": {
        "id": "6mLEP38liaBj"
      },
      "execution_count": null,
      "outputs": []
    },
    {
      "cell_type": "code",
      "source": [
        "datos.head()"
      ],
      "metadata": {
        "colab": {
          "base_uri": "https://localhost:8080/",
          "height": 406
        },
        "id": "0Ztz0X5ZgfK2",
        "outputId": "a33e3b3c-9309-4404-fd92-17655633d26d"
      },
      "execution_count": null,
      "outputs": [
        {
          "output_type": "execute_result",
          "data": {
            "text/plain": [
              "                                 Open        High         Low       Close  \\\n",
              "Date                                                                        \n",
              "2016-01-01 00:00:00+00:00  430.721008  436.246002  427.515015  434.334015   \n",
              "2016-01-02 00:00:00+00:00  434.622009  436.062012  431.869995  433.437988   \n",
              "2016-01-03 00:00:00+00:00  433.578003  433.743011  424.705994  430.010986   \n",
              "2016-01-04 00:00:00+00:00  430.061005  434.516998  429.084015  433.091003   \n",
              "2016-01-05 00:00:00+00:00  433.069000  434.182007  429.675995  431.959991   \n",
              "\n",
              "                             Volume  Dividends  Stock Splits    MEXP 5  \\\n",
              "Date                                                                     \n",
              "2016-01-01 00:00:00+00:00  36278900        0.0           0.0  1.000000   \n",
              "2016-01-02 00:00:00+00:00  30096600        0.0           0.0  1.001378   \n",
              "2016-01-03 00:00:00+00:00  39633800        0.0           0.0  1.006239   \n",
              "2016-01-04 00:00:00+00:00  38477500        0.0           0.0  0.999389   \n",
              "2016-01-05 00:00:00+00:00  34522600        0.0           0.0  1.001337   \n",
              "\n",
              "                            MEXP 20   MEXP 50  MEXP 100         RSI  ATR  \\\n",
              "Date                                                                       \n",
              "2016-01-01 00:00:00+00:00  1.000000  1.000000  1.000000  100.000000  0.0   \n",
              "2016-01-02 00:00:00+00:00  1.001870  1.001986  1.002026    0.000000  0.0   \n",
              "2016-01-03 00:00:00+00:00  1.008916  1.009581  1.009814    0.000000  0.0   \n",
              "2016-01-04 00:00:00+00:00  1.001575  1.002307  1.002580   43.782411  0.0   \n",
              "2016-01-05 00:00:00+00:00  1.003798  1.004738  1.005102   37.320691  0.0   \n",
              "\n",
              "                                  WR  \n",
              "Date                                  \n",
              "2016-01-01 00:00:00+00:00 -21.898866  \n",
              "2016-01-02 00:00:00+00:00 -32.161470  \n",
              "2016-01-03 00:00:00+00:00 -54.029560  \n",
              "2016-01-04 00:00:00+00:00 -27.339657  \n",
              "2016-01-05 00:00:00+00:00 -37.140447  "
            ],
            "text/html": [
              "\n",
              "\n",
              "  <div id=\"df-263c5404-a5df-44a1-894e-2ede3a368df1\">\n",
              "    <div class=\"colab-df-container\">\n",
              "      <div>\n",
              "<style scoped>\n",
              "    .dataframe tbody tr th:only-of-type {\n",
              "        vertical-align: middle;\n",
              "    }\n",
              "\n",
              "    .dataframe tbody tr th {\n",
              "        vertical-align: top;\n",
              "    }\n",
              "\n",
              "    .dataframe thead th {\n",
              "        text-align: right;\n",
              "    }\n",
              "</style>\n",
              "<table border=\"1\" class=\"dataframe\">\n",
              "  <thead>\n",
              "    <tr style=\"text-align: right;\">\n",
              "      <th></th>\n",
              "      <th>Open</th>\n",
              "      <th>High</th>\n",
              "      <th>Low</th>\n",
              "      <th>Close</th>\n",
              "      <th>Volume</th>\n",
              "      <th>Dividends</th>\n",
              "      <th>Stock Splits</th>\n",
              "      <th>MEXP 5</th>\n",
              "      <th>MEXP 20</th>\n",
              "      <th>MEXP 50</th>\n",
              "      <th>MEXP 100</th>\n",
              "      <th>RSI</th>\n",
              "      <th>ATR</th>\n",
              "      <th>WR</th>\n",
              "    </tr>\n",
              "    <tr>\n",
              "      <th>Date</th>\n",
              "      <th></th>\n",
              "      <th></th>\n",
              "      <th></th>\n",
              "      <th></th>\n",
              "      <th></th>\n",
              "      <th></th>\n",
              "      <th></th>\n",
              "      <th></th>\n",
              "      <th></th>\n",
              "      <th></th>\n",
              "      <th></th>\n",
              "      <th></th>\n",
              "      <th></th>\n",
              "      <th></th>\n",
              "    </tr>\n",
              "  </thead>\n",
              "  <tbody>\n",
              "    <tr>\n",
              "      <th>2016-01-01 00:00:00+00:00</th>\n",
              "      <td>430.721008</td>\n",
              "      <td>436.246002</td>\n",
              "      <td>427.515015</td>\n",
              "      <td>434.334015</td>\n",
              "      <td>36278900</td>\n",
              "      <td>0.0</td>\n",
              "      <td>0.0</td>\n",
              "      <td>1.000000</td>\n",
              "      <td>1.000000</td>\n",
              "      <td>1.000000</td>\n",
              "      <td>1.000000</td>\n",
              "      <td>100.000000</td>\n",
              "      <td>0.0</td>\n",
              "      <td>-21.898866</td>\n",
              "    </tr>\n",
              "    <tr>\n",
              "      <th>2016-01-02 00:00:00+00:00</th>\n",
              "      <td>434.622009</td>\n",
              "      <td>436.062012</td>\n",
              "      <td>431.869995</td>\n",
              "      <td>433.437988</td>\n",
              "      <td>30096600</td>\n",
              "      <td>0.0</td>\n",
              "      <td>0.0</td>\n",
              "      <td>1.001378</td>\n",
              "      <td>1.001870</td>\n",
              "      <td>1.001986</td>\n",
              "      <td>1.002026</td>\n",
              "      <td>0.000000</td>\n",
              "      <td>0.0</td>\n",
              "      <td>-32.161470</td>\n",
              "    </tr>\n",
              "    <tr>\n",
              "      <th>2016-01-03 00:00:00+00:00</th>\n",
              "      <td>433.578003</td>\n",
              "      <td>433.743011</td>\n",
              "      <td>424.705994</td>\n",
              "      <td>430.010986</td>\n",
              "      <td>39633800</td>\n",
              "      <td>0.0</td>\n",
              "      <td>0.0</td>\n",
              "      <td>1.006239</td>\n",
              "      <td>1.008916</td>\n",
              "      <td>1.009581</td>\n",
              "      <td>1.009814</td>\n",
              "      <td>0.000000</td>\n",
              "      <td>0.0</td>\n",
              "      <td>-54.029560</td>\n",
              "    </tr>\n",
              "    <tr>\n",
              "      <th>2016-01-04 00:00:00+00:00</th>\n",
              "      <td>430.061005</td>\n",
              "      <td>434.516998</td>\n",
              "      <td>429.084015</td>\n",
              "      <td>433.091003</td>\n",
              "      <td>38477500</td>\n",
              "      <td>0.0</td>\n",
              "      <td>0.0</td>\n",
              "      <td>0.999389</td>\n",
              "      <td>1.001575</td>\n",
              "      <td>1.002307</td>\n",
              "      <td>1.002580</td>\n",
              "      <td>43.782411</td>\n",
              "      <td>0.0</td>\n",
              "      <td>-27.339657</td>\n",
              "    </tr>\n",
              "    <tr>\n",
              "      <th>2016-01-05 00:00:00+00:00</th>\n",
              "      <td>433.069000</td>\n",
              "      <td>434.182007</td>\n",
              "      <td>429.675995</td>\n",
              "      <td>431.959991</td>\n",
              "      <td>34522600</td>\n",
              "      <td>0.0</td>\n",
              "      <td>0.0</td>\n",
              "      <td>1.001337</td>\n",
              "      <td>1.003798</td>\n",
              "      <td>1.004738</td>\n",
              "      <td>1.005102</td>\n",
              "      <td>37.320691</td>\n",
              "      <td>0.0</td>\n",
              "      <td>-37.140447</td>\n",
              "    </tr>\n",
              "  </tbody>\n",
              "</table>\n",
              "</div>\n",
              "      <button class=\"colab-df-convert\" onclick=\"convertToInteractive('df-263c5404-a5df-44a1-894e-2ede3a368df1')\"\n",
              "              title=\"Convert this dataframe to an interactive table.\"\n",
              "              style=\"display:none;\">\n",
              "\n",
              "  <svg xmlns=\"http://www.w3.org/2000/svg\" height=\"24px\"viewBox=\"0 0 24 24\"\n",
              "       width=\"24px\">\n",
              "    <path d=\"M0 0h24v24H0V0z\" fill=\"none\"/>\n",
              "    <path d=\"M18.56 5.44l.94 2.06.94-2.06 2.06-.94-2.06-.94-.94-2.06-.94 2.06-2.06.94zm-11 1L8.5 8.5l.94-2.06 2.06-.94-2.06-.94L8.5 2.5l-.94 2.06-2.06.94zm10 10l.94 2.06.94-2.06 2.06-.94-2.06-.94-.94-2.06-.94 2.06-2.06.94z\"/><path d=\"M17.41 7.96l-1.37-1.37c-.4-.4-.92-.59-1.43-.59-.52 0-1.04.2-1.43.59L10.3 9.45l-7.72 7.72c-.78.78-.78 2.05 0 2.83L4 21.41c.39.39.9.59 1.41.59.51 0 1.02-.2 1.41-.59l7.78-7.78 2.81-2.81c.8-.78.8-2.07 0-2.86zM5.41 20L4 18.59l7.72-7.72 1.47 1.35L5.41 20z\"/>\n",
              "  </svg>\n",
              "      </button>\n",
              "\n",
              "\n",
              "\n",
              "    <div id=\"df-f865bc1d-63f9-4816-9e3b-020df7946f16\">\n",
              "      <button class=\"colab-df-quickchart\" onclick=\"quickchart('df-f865bc1d-63f9-4816-9e3b-020df7946f16')\"\n",
              "              title=\"Suggest charts.\"\n",
              "              style=\"display:none;\">\n",
              "\n",
              "<svg xmlns=\"http://www.w3.org/2000/svg\" height=\"24px\"viewBox=\"0 0 24 24\"\n",
              "     width=\"24px\">\n",
              "    <g>\n",
              "        <path d=\"M19 3H5c-1.1 0-2 .9-2 2v14c0 1.1.9 2 2 2h14c1.1 0 2-.9 2-2V5c0-1.1-.9-2-2-2zM9 17H7v-7h2v7zm4 0h-2V7h2v10zm4 0h-2v-4h2v4z\"/>\n",
              "    </g>\n",
              "</svg>\n",
              "      </button>\n",
              "    </div>\n",
              "\n",
              "<style>\n",
              "  .colab-df-quickchart {\n",
              "    background-color: #E8F0FE;\n",
              "    border: none;\n",
              "    border-radius: 50%;\n",
              "    cursor: pointer;\n",
              "    display: none;\n",
              "    fill: #1967D2;\n",
              "    height: 32px;\n",
              "    padding: 0 0 0 0;\n",
              "    width: 32px;\n",
              "  }\n",
              "\n",
              "  .colab-df-quickchart:hover {\n",
              "    background-color: #E2EBFA;\n",
              "    box-shadow: 0px 1px 2px rgba(60, 64, 67, 0.3), 0px 1px 3px 1px rgba(60, 64, 67, 0.15);\n",
              "    fill: #174EA6;\n",
              "  }\n",
              "\n",
              "  [theme=dark] .colab-df-quickchart {\n",
              "    background-color: #3B4455;\n",
              "    fill: #D2E3FC;\n",
              "  }\n",
              "\n",
              "  [theme=dark] .colab-df-quickchart:hover {\n",
              "    background-color: #434B5C;\n",
              "    box-shadow: 0px 1px 3px 1px rgba(0, 0, 0, 0.15);\n",
              "    filter: drop-shadow(0px 1px 2px rgba(0, 0, 0, 0.3));\n",
              "    fill: #FFFFFF;\n",
              "  }\n",
              "</style>\n",
              "\n",
              "    <script>\n",
              "      async function quickchart(key) {\n",
              "        const containerElement = document.querySelector('#' + key);\n",
              "        const charts = await google.colab.kernel.invokeFunction(\n",
              "            'suggestCharts', [key], {});\n",
              "      }\n",
              "    </script>\n",
              "\n",
              "      <script>\n",
              "\n",
              "function displayQuickchartButton(domScope) {\n",
              "  let quickchartButtonEl =\n",
              "    domScope.querySelector('#df-f865bc1d-63f9-4816-9e3b-020df7946f16 button.colab-df-quickchart');\n",
              "  quickchartButtonEl.style.display =\n",
              "    google.colab.kernel.accessAllowed ? 'block' : 'none';\n",
              "}\n",
              "\n",
              "        displayQuickchartButton(document);\n",
              "      </script>\n",
              "      <style>\n",
              "    .colab-df-container {\n",
              "      display:flex;\n",
              "      flex-wrap:wrap;\n",
              "      gap: 12px;\n",
              "    }\n",
              "\n",
              "    .colab-df-convert {\n",
              "      background-color: #E8F0FE;\n",
              "      border: none;\n",
              "      border-radius: 50%;\n",
              "      cursor: pointer;\n",
              "      display: none;\n",
              "      fill: #1967D2;\n",
              "      height: 32px;\n",
              "      padding: 0 0 0 0;\n",
              "      width: 32px;\n",
              "    }\n",
              "\n",
              "    .colab-df-convert:hover {\n",
              "      background-color: #E2EBFA;\n",
              "      box-shadow: 0px 1px 2px rgba(60, 64, 67, 0.3), 0px 1px 3px 1px rgba(60, 64, 67, 0.15);\n",
              "      fill: #174EA6;\n",
              "    }\n",
              "\n",
              "    [theme=dark] .colab-df-convert {\n",
              "      background-color: #3B4455;\n",
              "      fill: #D2E3FC;\n",
              "    }\n",
              "\n",
              "    [theme=dark] .colab-df-convert:hover {\n",
              "      background-color: #434B5C;\n",
              "      box-shadow: 0px 1px 3px 1px rgba(0, 0, 0, 0.15);\n",
              "      filter: drop-shadow(0px 1px 2px rgba(0, 0, 0, 0.3));\n",
              "      fill: #FFFFFF;\n",
              "    }\n",
              "  </style>\n",
              "\n",
              "      <script>\n",
              "        const buttonEl =\n",
              "          document.querySelector('#df-263c5404-a5df-44a1-894e-2ede3a368df1 button.colab-df-convert');\n",
              "        buttonEl.style.display =\n",
              "          google.colab.kernel.accessAllowed ? 'block' : 'none';\n",
              "\n",
              "        async function convertToInteractive(key) {\n",
              "          const element = document.querySelector('#df-263c5404-a5df-44a1-894e-2ede3a368df1');\n",
              "          const dataTable =\n",
              "            await google.colab.kernel.invokeFunction('convertToInteractive',\n",
              "                                                     [key], {});\n",
              "          if (!dataTable) return;\n",
              "\n",
              "          const docLinkHtml = 'Like what you see? Visit the ' +\n",
              "            '<a target=\"_blank\" href=https://colab.research.google.com/notebooks/data_table.ipynb>data table notebook</a>'\n",
              "            + ' to learn more about interactive tables.';\n",
              "          element.innerHTML = '';\n",
              "          dataTable['output_type'] = 'display_data';\n",
              "          await google.colab.output.renderOutput(dataTable, element);\n",
              "          const docLink = document.createElement('div');\n",
              "          docLink.innerHTML = docLinkHtml;\n",
              "          element.appendChild(docLink);\n",
              "        }\n",
              "      </script>\n",
              "    </div>\n",
              "  </div>\n"
            ]
          },
          "metadata": {},
          "execution_count": 384
        }
      ]
    },
    {
      "cell_type": "code",
      "source": [
        "datos['Close'].tail()"
      ],
      "metadata": {
        "colab": {
          "base_uri": "https://localhost:8080/"
        },
        "id": "ZUmUlm6wsKRA",
        "outputId": "bf17ba57-fe9e-41da-9e71-7c5e79646215"
      },
      "execution_count": null,
      "outputs": [
        {
          "output_type": "execute_result",
          "data": {
            "text/plain": [
              "Date\n",
              "2020-12-27 00:00:00+00:00    26272.294922\n",
              "2020-12-28 00:00:00+00:00    27084.808594\n",
              "2020-12-29 00:00:00+00:00    27362.437500\n",
              "2020-12-30 00:00:00+00:00    28840.953125\n",
              "2020-12-31 00:00:00+00:00    29001.720703\n",
              "Name: Close, dtype: float64"
            ]
          },
          "metadata": {},
          "execution_count": 385
        }
      ]
    },
    {
      "cell_type": "code",
      "source": [
        "datos['Close'][-1]"
      ],
      "metadata": {
        "colab": {
          "base_uri": "https://localhost:8080/"
        },
        "id": "epZBs4dSsL1P",
        "outputId": "b8b548d5-20cc-4f58-e730-a6c722833ddc"
      },
      "execution_count": null,
      "outputs": [
        {
          "output_type": "execute_result",
          "data": {
            "text/plain": [
              "29001.720703125"
            ]
          },
          "metadata": {},
          "execution_count": 386
        }
      ]
    },
    {
      "cell_type": "code",
      "source": [
        "#precio de cierre\n",
        "r1=np.array(datos['Close'])\n",
        "#el primero compara todos los dias siguientes con todos los dias actuales\n",
        "target=np.where(r1[1:]>r1[:-1],1,-1)"
      ],
      "metadata": {
        "id": "lEZKJYLvggHF"
      },
      "execution_count": null,
      "outputs": []
    },
    {
      "cell_type": "code",
      "source": [
        "datos.drop(datos['Close'].index[-1],axis=0,inplace=True)#index[-1]"
      ],
      "metadata": {
        "id": "Xb4nGPo6t45a"
      },
      "execution_count": null,
      "outputs": []
    },
    {
      "cell_type": "code",
      "source": [
        "datos['Variación_ p']=target"
      ],
      "metadata": {
        "id": "vBOQ5sM1sokd"
      },
      "execution_count": null,
      "outputs": []
    },
    {
      "cell_type": "code",
      "source": [
        "datos.head()#la logica es: en el registro del dia t para la col variación se pondra 1 si para t+1 va a subir el precio o -1 si va a bajr"
      ],
      "metadata": {
        "colab": {
          "base_uri": "https://localhost:8080/",
          "height": 406
        },
        "id": "1GyYrv7Fv5Oa",
        "outputId": "e5721137-4341-4ecc-fbfc-c612d5823983"
      },
      "execution_count": null,
      "outputs": [
        {
          "output_type": "execute_result",
          "data": {
            "text/plain": [
              "                                 Open        High         Low       Close  \\\n",
              "Date                                                                        \n",
              "2016-01-01 00:00:00+00:00  430.721008  436.246002  427.515015  434.334015   \n",
              "2016-01-02 00:00:00+00:00  434.622009  436.062012  431.869995  433.437988   \n",
              "2016-01-03 00:00:00+00:00  433.578003  433.743011  424.705994  430.010986   \n",
              "2016-01-04 00:00:00+00:00  430.061005  434.516998  429.084015  433.091003   \n",
              "2016-01-05 00:00:00+00:00  433.069000  434.182007  429.675995  431.959991   \n",
              "\n",
              "                             Volume  Dividends  Stock Splits    MEXP 5  \\\n",
              "Date                                                                     \n",
              "2016-01-01 00:00:00+00:00  36278900        0.0           0.0  1.000000   \n",
              "2016-01-02 00:00:00+00:00  30096600        0.0           0.0  1.001378   \n",
              "2016-01-03 00:00:00+00:00  39633800        0.0           0.0  1.006239   \n",
              "2016-01-04 00:00:00+00:00  38477500        0.0           0.0  0.999389   \n",
              "2016-01-05 00:00:00+00:00  34522600        0.0           0.0  1.001337   \n",
              "\n",
              "                            MEXP 20   MEXP 50  MEXP 100         RSI  ATR  \\\n",
              "Date                                                                       \n",
              "2016-01-01 00:00:00+00:00  1.000000  1.000000  1.000000  100.000000  0.0   \n",
              "2016-01-02 00:00:00+00:00  1.001870  1.001986  1.002026    0.000000  0.0   \n",
              "2016-01-03 00:00:00+00:00  1.008916  1.009581  1.009814    0.000000  0.0   \n",
              "2016-01-04 00:00:00+00:00  1.001575  1.002307  1.002580   43.782411  0.0   \n",
              "2016-01-05 00:00:00+00:00  1.003798  1.004738  1.005102   37.320691  0.0   \n",
              "\n",
              "                                  WR  Variación_ p  \n",
              "Date                                                \n",
              "2016-01-01 00:00:00+00:00 -21.898866            -1  \n",
              "2016-01-02 00:00:00+00:00 -32.161470            -1  \n",
              "2016-01-03 00:00:00+00:00 -54.029560             1  \n",
              "2016-01-04 00:00:00+00:00 -27.339657            -1  \n",
              "2016-01-05 00:00:00+00:00 -37.140447            -1  "
            ],
            "text/html": [
              "\n",
              "\n",
              "  <div id=\"df-8c0e9351-9603-468e-b8f4-7d20bd7b7c46\">\n",
              "    <div class=\"colab-df-container\">\n",
              "      <div>\n",
              "<style scoped>\n",
              "    .dataframe tbody tr th:only-of-type {\n",
              "        vertical-align: middle;\n",
              "    }\n",
              "\n",
              "    .dataframe tbody tr th {\n",
              "        vertical-align: top;\n",
              "    }\n",
              "\n",
              "    .dataframe thead th {\n",
              "        text-align: right;\n",
              "    }\n",
              "</style>\n",
              "<table border=\"1\" class=\"dataframe\">\n",
              "  <thead>\n",
              "    <tr style=\"text-align: right;\">\n",
              "      <th></th>\n",
              "      <th>Open</th>\n",
              "      <th>High</th>\n",
              "      <th>Low</th>\n",
              "      <th>Close</th>\n",
              "      <th>Volume</th>\n",
              "      <th>Dividends</th>\n",
              "      <th>Stock Splits</th>\n",
              "      <th>MEXP 5</th>\n",
              "      <th>MEXP 20</th>\n",
              "      <th>MEXP 50</th>\n",
              "      <th>MEXP 100</th>\n",
              "      <th>RSI</th>\n",
              "      <th>ATR</th>\n",
              "      <th>WR</th>\n",
              "      <th>Variación_ p</th>\n",
              "    </tr>\n",
              "    <tr>\n",
              "      <th>Date</th>\n",
              "      <th></th>\n",
              "      <th></th>\n",
              "      <th></th>\n",
              "      <th></th>\n",
              "      <th></th>\n",
              "      <th></th>\n",
              "      <th></th>\n",
              "      <th></th>\n",
              "      <th></th>\n",
              "      <th></th>\n",
              "      <th></th>\n",
              "      <th></th>\n",
              "      <th></th>\n",
              "      <th></th>\n",
              "      <th></th>\n",
              "    </tr>\n",
              "  </thead>\n",
              "  <tbody>\n",
              "    <tr>\n",
              "      <th>2016-01-01 00:00:00+00:00</th>\n",
              "      <td>430.721008</td>\n",
              "      <td>436.246002</td>\n",
              "      <td>427.515015</td>\n",
              "      <td>434.334015</td>\n",
              "      <td>36278900</td>\n",
              "      <td>0.0</td>\n",
              "      <td>0.0</td>\n",
              "      <td>1.000000</td>\n",
              "      <td>1.000000</td>\n",
              "      <td>1.000000</td>\n",
              "      <td>1.000000</td>\n",
              "      <td>100.000000</td>\n",
              "      <td>0.0</td>\n",
              "      <td>-21.898866</td>\n",
              "      <td>-1</td>\n",
              "    </tr>\n",
              "    <tr>\n",
              "      <th>2016-01-02 00:00:00+00:00</th>\n",
              "      <td>434.622009</td>\n",
              "      <td>436.062012</td>\n",
              "      <td>431.869995</td>\n",
              "      <td>433.437988</td>\n",
              "      <td>30096600</td>\n",
              "      <td>0.0</td>\n",
              "      <td>0.0</td>\n",
              "      <td>1.001378</td>\n",
              "      <td>1.001870</td>\n",
              "      <td>1.001986</td>\n",
              "      <td>1.002026</td>\n",
              "      <td>0.000000</td>\n",
              "      <td>0.0</td>\n",
              "      <td>-32.161470</td>\n",
              "      <td>-1</td>\n",
              "    </tr>\n",
              "    <tr>\n",
              "      <th>2016-01-03 00:00:00+00:00</th>\n",
              "      <td>433.578003</td>\n",
              "      <td>433.743011</td>\n",
              "      <td>424.705994</td>\n",
              "      <td>430.010986</td>\n",
              "      <td>39633800</td>\n",
              "      <td>0.0</td>\n",
              "      <td>0.0</td>\n",
              "      <td>1.006239</td>\n",
              "      <td>1.008916</td>\n",
              "      <td>1.009581</td>\n",
              "      <td>1.009814</td>\n",
              "      <td>0.000000</td>\n",
              "      <td>0.0</td>\n",
              "      <td>-54.029560</td>\n",
              "      <td>1</td>\n",
              "    </tr>\n",
              "    <tr>\n",
              "      <th>2016-01-04 00:00:00+00:00</th>\n",
              "      <td>430.061005</td>\n",
              "      <td>434.516998</td>\n",
              "      <td>429.084015</td>\n",
              "      <td>433.091003</td>\n",
              "      <td>38477500</td>\n",
              "      <td>0.0</td>\n",
              "      <td>0.0</td>\n",
              "      <td>0.999389</td>\n",
              "      <td>1.001575</td>\n",
              "      <td>1.002307</td>\n",
              "      <td>1.002580</td>\n",
              "      <td>43.782411</td>\n",
              "      <td>0.0</td>\n",
              "      <td>-27.339657</td>\n",
              "      <td>-1</td>\n",
              "    </tr>\n",
              "    <tr>\n",
              "      <th>2016-01-05 00:00:00+00:00</th>\n",
              "      <td>433.069000</td>\n",
              "      <td>434.182007</td>\n",
              "      <td>429.675995</td>\n",
              "      <td>431.959991</td>\n",
              "      <td>34522600</td>\n",
              "      <td>0.0</td>\n",
              "      <td>0.0</td>\n",
              "      <td>1.001337</td>\n",
              "      <td>1.003798</td>\n",
              "      <td>1.004738</td>\n",
              "      <td>1.005102</td>\n",
              "      <td>37.320691</td>\n",
              "      <td>0.0</td>\n",
              "      <td>-37.140447</td>\n",
              "      <td>-1</td>\n",
              "    </tr>\n",
              "  </tbody>\n",
              "</table>\n",
              "</div>\n",
              "      <button class=\"colab-df-convert\" onclick=\"convertToInteractive('df-8c0e9351-9603-468e-b8f4-7d20bd7b7c46')\"\n",
              "              title=\"Convert this dataframe to an interactive table.\"\n",
              "              style=\"display:none;\">\n",
              "\n",
              "  <svg xmlns=\"http://www.w3.org/2000/svg\" height=\"24px\"viewBox=\"0 0 24 24\"\n",
              "       width=\"24px\">\n",
              "    <path d=\"M0 0h24v24H0V0z\" fill=\"none\"/>\n",
              "    <path d=\"M18.56 5.44l.94 2.06.94-2.06 2.06-.94-2.06-.94-.94-2.06-.94 2.06-2.06.94zm-11 1L8.5 8.5l.94-2.06 2.06-.94-2.06-.94L8.5 2.5l-.94 2.06-2.06.94zm10 10l.94 2.06.94-2.06 2.06-.94-2.06-.94-.94-2.06-.94 2.06-2.06.94z\"/><path d=\"M17.41 7.96l-1.37-1.37c-.4-.4-.92-.59-1.43-.59-.52 0-1.04.2-1.43.59L10.3 9.45l-7.72 7.72c-.78.78-.78 2.05 0 2.83L4 21.41c.39.39.9.59 1.41.59.51 0 1.02-.2 1.41-.59l7.78-7.78 2.81-2.81c.8-.78.8-2.07 0-2.86zM5.41 20L4 18.59l7.72-7.72 1.47 1.35L5.41 20z\"/>\n",
              "  </svg>\n",
              "      </button>\n",
              "\n",
              "\n",
              "\n",
              "    <div id=\"df-e6eeb7c9-3dfe-4e7f-8e62-2ae05636ba6b\">\n",
              "      <button class=\"colab-df-quickchart\" onclick=\"quickchart('df-e6eeb7c9-3dfe-4e7f-8e62-2ae05636ba6b')\"\n",
              "              title=\"Suggest charts.\"\n",
              "              style=\"display:none;\">\n",
              "\n",
              "<svg xmlns=\"http://www.w3.org/2000/svg\" height=\"24px\"viewBox=\"0 0 24 24\"\n",
              "     width=\"24px\">\n",
              "    <g>\n",
              "        <path d=\"M19 3H5c-1.1 0-2 .9-2 2v14c0 1.1.9 2 2 2h14c1.1 0 2-.9 2-2V5c0-1.1-.9-2-2-2zM9 17H7v-7h2v7zm4 0h-2V7h2v10zm4 0h-2v-4h2v4z\"/>\n",
              "    </g>\n",
              "</svg>\n",
              "      </button>\n",
              "    </div>\n",
              "\n",
              "<style>\n",
              "  .colab-df-quickchart {\n",
              "    background-color: #E8F0FE;\n",
              "    border: none;\n",
              "    border-radius: 50%;\n",
              "    cursor: pointer;\n",
              "    display: none;\n",
              "    fill: #1967D2;\n",
              "    height: 32px;\n",
              "    padding: 0 0 0 0;\n",
              "    width: 32px;\n",
              "  }\n",
              "\n",
              "  .colab-df-quickchart:hover {\n",
              "    background-color: #E2EBFA;\n",
              "    box-shadow: 0px 1px 2px rgba(60, 64, 67, 0.3), 0px 1px 3px 1px rgba(60, 64, 67, 0.15);\n",
              "    fill: #174EA6;\n",
              "  }\n",
              "\n",
              "  [theme=dark] .colab-df-quickchart {\n",
              "    background-color: #3B4455;\n",
              "    fill: #D2E3FC;\n",
              "  }\n",
              "\n",
              "  [theme=dark] .colab-df-quickchart:hover {\n",
              "    background-color: #434B5C;\n",
              "    box-shadow: 0px 1px 3px 1px rgba(0, 0, 0, 0.15);\n",
              "    filter: drop-shadow(0px 1px 2px rgba(0, 0, 0, 0.3));\n",
              "    fill: #FFFFFF;\n",
              "  }\n",
              "</style>\n",
              "\n",
              "    <script>\n",
              "      async function quickchart(key) {\n",
              "        const containerElement = document.querySelector('#' + key);\n",
              "        const charts = await google.colab.kernel.invokeFunction(\n",
              "            'suggestCharts', [key], {});\n",
              "      }\n",
              "    </script>\n",
              "\n",
              "      <script>\n",
              "\n",
              "function displayQuickchartButton(domScope) {\n",
              "  let quickchartButtonEl =\n",
              "    domScope.querySelector('#df-e6eeb7c9-3dfe-4e7f-8e62-2ae05636ba6b button.colab-df-quickchart');\n",
              "  quickchartButtonEl.style.display =\n",
              "    google.colab.kernel.accessAllowed ? 'block' : 'none';\n",
              "}\n",
              "\n",
              "        displayQuickchartButton(document);\n",
              "      </script>\n",
              "      <style>\n",
              "    .colab-df-container {\n",
              "      display:flex;\n",
              "      flex-wrap:wrap;\n",
              "      gap: 12px;\n",
              "    }\n",
              "\n",
              "    .colab-df-convert {\n",
              "      background-color: #E8F0FE;\n",
              "      border: none;\n",
              "      border-radius: 50%;\n",
              "      cursor: pointer;\n",
              "      display: none;\n",
              "      fill: #1967D2;\n",
              "      height: 32px;\n",
              "      padding: 0 0 0 0;\n",
              "      width: 32px;\n",
              "    }\n",
              "\n",
              "    .colab-df-convert:hover {\n",
              "      background-color: #E2EBFA;\n",
              "      box-shadow: 0px 1px 2px rgba(60, 64, 67, 0.3), 0px 1px 3px 1px rgba(60, 64, 67, 0.15);\n",
              "      fill: #174EA6;\n",
              "    }\n",
              "\n",
              "    [theme=dark] .colab-df-convert {\n",
              "      background-color: #3B4455;\n",
              "      fill: #D2E3FC;\n",
              "    }\n",
              "\n",
              "    [theme=dark] .colab-df-convert:hover {\n",
              "      background-color: #434B5C;\n",
              "      box-shadow: 0px 1px 3px 1px rgba(0, 0, 0, 0.15);\n",
              "      filter: drop-shadow(0px 1px 2px rgba(0, 0, 0, 0.3));\n",
              "      fill: #FFFFFF;\n",
              "    }\n",
              "  </style>\n",
              "\n",
              "      <script>\n",
              "        const buttonEl =\n",
              "          document.querySelector('#df-8c0e9351-9603-468e-b8f4-7d20bd7b7c46 button.colab-df-convert');\n",
              "        buttonEl.style.display =\n",
              "          google.colab.kernel.accessAllowed ? 'block' : 'none';\n",
              "\n",
              "        async function convertToInteractive(key) {\n",
              "          const element = document.querySelector('#df-8c0e9351-9603-468e-b8f4-7d20bd7b7c46');\n",
              "          const dataTable =\n",
              "            await google.colab.kernel.invokeFunction('convertToInteractive',\n",
              "                                                     [key], {});\n",
              "          if (!dataTable) return;\n",
              "\n",
              "          const docLinkHtml = 'Like what you see? Visit the ' +\n",
              "            '<a target=\"_blank\" href=https://colab.research.google.com/notebooks/data_table.ipynb>data table notebook</a>'\n",
              "            + ' to learn more about interactive tables.';\n",
              "          element.innerHTML = '';\n",
              "          dataTable['output_type'] = 'display_data';\n",
              "          await google.colab.output.renderOutput(dataTable, element);\n",
              "          const docLink = document.createElement('div');\n",
              "          docLink.innerHTML = docLinkHtml;\n",
              "          element.appendChild(docLink);\n",
              "        }\n",
              "      </script>\n",
              "    </div>\n",
              "  </div>\n"
            ]
          },
          "metadata": {},
          "execution_count": 390
        }
      ]
    },
    {
      "cell_type": "code",
      "source": [
        "#se van a eliminar las primeras 29 filas del DataFrame\n",
        "datos.drop(datos.head(29).index,inplace=True)"
      ],
      "metadata": {
        "id": "FDfqMKzhv6Tf"
      },
      "execution_count": null,
      "outputs": []
    },
    {
      "cell_type": "code",
      "source": [
        "datos"
      ],
      "metadata": {
        "colab": {
          "base_uri": "https://localhost:8080/",
          "height": 710
        },
        "id": "CKJ48Xmo34E0",
        "outputId": "4e1e3169-6458-4fc4-a866-846f52a32648"
      },
      "execution_count": null,
      "outputs": [
        {
          "output_type": "execute_result",
          "data": {
            "text/plain": [
              "                                   Open          High           Low  \\\n",
              "Date                                                                  \n",
              "2016-01-30 00:00:00+00:00    378.864990    380.916992    376.490997   \n",
              "2016-01-31 00:00:00+00:00    378.292999    380.346985    367.834991   \n",
              "2016-02-01 00:00:00+00:00    369.350006    378.071991    367.957001   \n",
              "2016-02-02 00:00:00+00:00    372.920013    375.882996    372.920013   \n",
              "2016-02-03 00:00:00+00:00    374.645996    374.950012    368.045013   \n",
              "...                                 ...           ...           ...   \n",
              "2020-12-26 00:00:00+00:00  24677.015625  26718.070312  24522.689453   \n",
              "2020-12-27 00:00:00+00:00  26439.373047  28288.839844  25922.769531   \n",
              "2020-12-28 00:00:00+00:00  26280.822266  27389.111328  26207.640625   \n",
              "2020-12-29 00:00:00+00:00  27081.810547  27370.720703  25987.298828   \n",
              "2020-12-30 00:00:00+00:00  27360.089844  28937.740234  27360.089844   \n",
              "\n",
              "                                  Close       Volume  Dividends  Stock Splits  \\\n",
              "Date                                                                            \n",
              "2016-01-30 00:00:00+00:00    378.255005     30284400        0.0           0.0   \n",
              "2016-01-31 00:00:00+00:00    368.766998     37894300        0.0           0.0   \n",
              "2016-02-01 00:00:00+00:00    373.056000     51656700        0.0           0.0   \n",
              "2016-02-02 00:00:00+00:00    374.447998     40378700        0.0           0.0   \n",
              "2016-02-03 00:00:00+00:00    369.949005     45933400        0.0           0.0   \n",
              "...                                 ...          ...        ...           ...   \n",
              "2020-12-26 00:00:00+00:00  26437.037109  48332647295        0.0           0.0   \n",
              "2020-12-27 00:00:00+00:00  26272.294922  66479895605        0.0           0.0   \n",
              "2020-12-28 00:00:00+00:00  27084.808594  49056742893        0.0           0.0   \n",
              "2020-12-29 00:00:00+00:00  27362.437500  45265946774        0.0           0.0   \n",
              "2020-12-30 00:00:00+00:00  28840.953125  51287442704        0.0           0.0   \n",
              "\n",
              "                             MEXP 5   MEXP 20   MEXP 50  MEXP 100        RSI  \\\n",
              "Date                                                                           \n",
              "2016-01-30 00:00:00+00:00  1.014102  1.053229  1.094312  1.117589  39.405583   \n",
              "2016-01-31 00:00:00+00:00  1.026796  1.072678  1.117665  1.143446  36.506644   \n",
              "2016-02-01 00:00:00+00:00  1.009994  1.054598  1.100705  1.127720  38.701944   \n",
              "2016-02-02 00:00:00+00:00  1.004160  1.045851  1.092825  1.121081  39.433863   \n",
              "2016-02-03 00:00:00+00:00  1.010914  1.052992  1.101953  1.132047  37.860379   \n",
              "...                             ...       ...       ...       ...        ...   \n",
              "2020-12-26 00:00:00+00:00  0.933061  0.836774  0.734689  0.635342  78.063543   \n",
              "2020-12-27 00:00:00+00:00  0.959275  0.857066  0.749519  0.646468  76.670121   \n",
              "2020-12-28 00:00:00+00:00  0.953665  0.847417  0.737739  0.634460  78.690438   \n",
              "2020-12-29 00:00:00+00:00  0.962659  0.854169  0.740832  0.635388  79.348515   \n",
              "2020-12-30 00:00:00+00:00  0.942206  0.828440  0.714507  0.610680  82.455805   \n",
              "\n",
              "                                   ATR         WR  Variación_ p  \n",
              "Date                                                             \n",
              "2016-01-30 00:00:00+00:00    15.224229 -78.595656            -1  \n",
              "2016-01-31 00:00:00+00:00    15.030498 -94.457908             1  \n",
              "2016-02-01 00:00:00+00:00    14.679390 -87.287464             1  \n",
              "2016-02-02 00:00:00+00:00    13.842504 -84.960291            -1  \n",
              "2016-02-03 00:00:00+00:00    13.346968 -92.168902             1  \n",
              "...                                ...        ...           ...  \n",
              "2020-12-26 00:00:00+00:00  1166.173764  -3.520070            -1  \n",
              "2020-12-27 00:00:00+00:00  1251.880660 -21.739074             1  \n",
              "2020-12-28 00:00:00+00:00  1246.851378 -13.074509             1  \n",
              "2020-12-29 00:00:00+00:00  1256.606413 -10.304209             1  \n",
              "2020-12-30 00:00:00+00:00  1279.538126  -1.256475             1  \n",
              "\n",
              "[1797 rows x 15 columns]"
            ],
            "text/html": [
              "\n",
              "\n",
              "  <div id=\"df-a1ede60a-2bd2-45e4-8829-058dee7b4f31\">\n",
              "    <div class=\"colab-df-container\">\n",
              "      <div>\n",
              "<style scoped>\n",
              "    .dataframe tbody tr th:only-of-type {\n",
              "        vertical-align: middle;\n",
              "    }\n",
              "\n",
              "    .dataframe tbody tr th {\n",
              "        vertical-align: top;\n",
              "    }\n",
              "\n",
              "    .dataframe thead th {\n",
              "        text-align: right;\n",
              "    }\n",
              "</style>\n",
              "<table border=\"1\" class=\"dataframe\">\n",
              "  <thead>\n",
              "    <tr style=\"text-align: right;\">\n",
              "      <th></th>\n",
              "      <th>Open</th>\n",
              "      <th>High</th>\n",
              "      <th>Low</th>\n",
              "      <th>Close</th>\n",
              "      <th>Volume</th>\n",
              "      <th>Dividends</th>\n",
              "      <th>Stock Splits</th>\n",
              "      <th>MEXP 5</th>\n",
              "      <th>MEXP 20</th>\n",
              "      <th>MEXP 50</th>\n",
              "      <th>MEXP 100</th>\n",
              "      <th>RSI</th>\n",
              "      <th>ATR</th>\n",
              "      <th>WR</th>\n",
              "      <th>Variación_ p</th>\n",
              "    </tr>\n",
              "    <tr>\n",
              "      <th>Date</th>\n",
              "      <th></th>\n",
              "      <th></th>\n",
              "      <th></th>\n",
              "      <th></th>\n",
              "      <th></th>\n",
              "      <th></th>\n",
              "      <th></th>\n",
              "      <th></th>\n",
              "      <th></th>\n",
              "      <th></th>\n",
              "      <th></th>\n",
              "      <th></th>\n",
              "      <th></th>\n",
              "      <th></th>\n",
              "      <th></th>\n",
              "    </tr>\n",
              "  </thead>\n",
              "  <tbody>\n",
              "    <tr>\n",
              "      <th>2016-01-30 00:00:00+00:00</th>\n",
              "      <td>378.864990</td>\n",
              "      <td>380.916992</td>\n",
              "      <td>376.490997</td>\n",
              "      <td>378.255005</td>\n",
              "      <td>30284400</td>\n",
              "      <td>0.0</td>\n",
              "      <td>0.0</td>\n",
              "      <td>1.014102</td>\n",
              "      <td>1.053229</td>\n",
              "      <td>1.094312</td>\n",
              "      <td>1.117589</td>\n",
              "      <td>39.405583</td>\n",
              "      <td>15.224229</td>\n",
              "      <td>-78.595656</td>\n",
              "      <td>-1</td>\n",
              "    </tr>\n",
              "    <tr>\n",
              "      <th>2016-01-31 00:00:00+00:00</th>\n",
              "      <td>378.292999</td>\n",
              "      <td>380.346985</td>\n",
              "      <td>367.834991</td>\n",
              "      <td>368.766998</td>\n",
              "      <td>37894300</td>\n",
              "      <td>0.0</td>\n",
              "      <td>0.0</td>\n",
              "      <td>1.026796</td>\n",
              "      <td>1.072678</td>\n",
              "      <td>1.117665</td>\n",
              "      <td>1.143446</td>\n",
              "      <td>36.506644</td>\n",
              "      <td>15.030498</td>\n",
              "      <td>-94.457908</td>\n",
              "      <td>1</td>\n",
              "    </tr>\n",
              "    <tr>\n",
              "      <th>2016-02-01 00:00:00+00:00</th>\n",
              "      <td>369.350006</td>\n",
              "      <td>378.071991</td>\n",
              "      <td>367.957001</td>\n",
              "      <td>373.056000</td>\n",
              "      <td>51656700</td>\n",
              "      <td>0.0</td>\n",
              "      <td>0.0</td>\n",
              "      <td>1.009994</td>\n",
              "      <td>1.054598</td>\n",
              "      <td>1.100705</td>\n",
              "      <td>1.127720</td>\n",
              "      <td>38.701944</td>\n",
              "      <td>14.679390</td>\n",
              "      <td>-87.287464</td>\n",
              "      <td>1</td>\n",
              "    </tr>\n",
              "    <tr>\n",
              "      <th>2016-02-02 00:00:00+00:00</th>\n",
              "      <td>372.920013</td>\n",
              "      <td>375.882996</td>\n",
              "      <td>372.920013</td>\n",
              "      <td>374.447998</td>\n",
              "      <td>40378700</td>\n",
              "      <td>0.0</td>\n",
              "      <td>0.0</td>\n",
              "      <td>1.004160</td>\n",
              "      <td>1.045851</td>\n",
              "      <td>1.092825</td>\n",
              "      <td>1.121081</td>\n",
              "      <td>39.433863</td>\n",
              "      <td>13.842504</td>\n",
              "      <td>-84.960291</td>\n",
              "      <td>-1</td>\n",
              "    </tr>\n",
              "    <tr>\n",
              "      <th>2016-02-03 00:00:00+00:00</th>\n",
              "      <td>374.645996</td>\n",
              "      <td>374.950012</td>\n",
              "      <td>368.045013</td>\n",
              "      <td>369.949005</td>\n",
              "      <td>45933400</td>\n",
              "      <td>0.0</td>\n",
              "      <td>0.0</td>\n",
              "      <td>1.010914</td>\n",
              "      <td>1.052992</td>\n",
              "      <td>1.101953</td>\n",
              "      <td>1.132047</td>\n",
              "      <td>37.860379</td>\n",
              "      <td>13.346968</td>\n",
              "      <td>-92.168902</td>\n",
              "      <td>1</td>\n",
              "    </tr>\n",
              "    <tr>\n",
              "      <th>...</th>\n",
              "      <td>...</td>\n",
              "      <td>...</td>\n",
              "      <td>...</td>\n",
              "      <td>...</td>\n",
              "      <td>...</td>\n",
              "      <td>...</td>\n",
              "      <td>...</td>\n",
              "      <td>...</td>\n",
              "      <td>...</td>\n",
              "      <td>...</td>\n",
              "      <td>...</td>\n",
              "      <td>...</td>\n",
              "      <td>...</td>\n",
              "      <td>...</td>\n",
              "      <td>...</td>\n",
              "    </tr>\n",
              "    <tr>\n",
              "      <th>2020-12-26 00:00:00+00:00</th>\n",
              "      <td>24677.015625</td>\n",
              "      <td>26718.070312</td>\n",
              "      <td>24522.689453</td>\n",
              "      <td>26437.037109</td>\n",
              "      <td>48332647295</td>\n",
              "      <td>0.0</td>\n",
              "      <td>0.0</td>\n",
              "      <td>0.933061</td>\n",
              "      <td>0.836774</td>\n",
              "      <td>0.734689</td>\n",
              "      <td>0.635342</td>\n",
              "      <td>78.063543</td>\n",
              "      <td>1166.173764</td>\n",
              "      <td>-3.520070</td>\n",
              "      <td>-1</td>\n",
              "    </tr>\n",
              "    <tr>\n",
              "      <th>2020-12-27 00:00:00+00:00</th>\n",
              "      <td>26439.373047</td>\n",
              "      <td>28288.839844</td>\n",
              "      <td>25922.769531</td>\n",
              "      <td>26272.294922</td>\n",
              "      <td>66479895605</td>\n",
              "      <td>0.0</td>\n",
              "      <td>0.0</td>\n",
              "      <td>0.959275</td>\n",
              "      <td>0.857066</td>\n",
              "      <td>0.749519</td>\n",
              "      <td>0.646468</td>\n",
              "      <td>76.670121</td>\n",
              "      <td>1251.880660</td>\n",
              "      <td>-21.739074</td>\n",
              "      <td>1</td>\n",
              "    </tr>\n",
              "    <tr>\n",
              "      <th>2020-12-28 00:00:00+00:00</th>\n",
              "      <td>26280.822266</td>\n",
              "      <td>27389.111328</td>\n",
              "      <td>26207.640625</td>\n",
              "      <td>27084.808594</td>\n",
              "      <td>49056742893</td>\n",
              "      <td>0.0</td>\n",
              "      <td>0.0</td>\n",
              "      <td>0.953665</td>\n",
              "      <td>0.847417</td>\n",
              "      <td>0.737739</td>\n",
              "      <td>0.634460</td>\n",
              "      <td>78.690438</td>\n",
              "      <td>1246.851378</td>\n",
              "      <td>-13.074509</td>\n",
              "      <td>1</td>\n",
              "    </tr>\n",
              "    <tr>\n",
              "      <th>2020-12-29 00:00:00+00:00</th>\n",
              "      <td>27081.810547</td>\n",
              "      <td>27370.720703</td>\n",
              "      <td>25987.298828</td>\n",
              "      <td>27362.437500</td>\n",
              "      <td>45265946774</td>\n",
              "      <td>0.0</td>\n",
              "      <td>0.0</td>\n",
              "      <td>0.962659</td>\n",
              "      <td>0.854169</td>\n",
              "      <td>0.740832</td>\n",
              "      <td>0.635388</td>\n",
              "      <td>79.348515</td>\n",
              "      <td>1256.606413</td>\n",
              "      <td>-10.304209</td>\n",
              "      <td>1</td>\n",
              "    </tr>\n",
              "    <tr>\n",
              "      <th>2020-12-30 00:00:00+00:00</th>\n",
              "      <td>27360.089844</td>\n",
              "      <td>28937.740234</td>\n",
              "      <td>27360.089844</td>\n",
              "      <td>28840.953125</td>\n",
              "      <td>51287442704</td>\n",
              "      <td>0.0</td>\n",
              "      <td>0.0</td>\n",
              "      <td>0.942206</td>\n",
              "      <td>0.828440</td>\n",
              "      <td>0.714507</td>\n",
              "      <td>0.610680</td>\n",
              "      <td>82.455805</td>\n",
              "      <td>1279.538126</td>\n",
              "      <td>-1.256475</td>\n",
              "      <td>1</td>\n",
              "    </tr>\n",
              "  </tbody>\n",
              "</table>\n",
              "<p>1797 rows × 15 columns</p>\n",
              "</div>\n",
              "      <button class=\"colab-df-convert\" onclick=\"convertToInteractive('df-a1ede60a-2bd2-45e4-8829-058dee7b4f31')\"\n",
              "              title=\"Convert this dataframe to an interactive table.\"\n",
              "              style=\"display:none;\">\n",
              "\n",
              "  <svg xmlns=\"http://www.w3.org/2000/svg\" height=\"24px\"viewBox=\"0 0 24 24\"\n",
              "       width=\"24px\">\n",
              "    <path d=\"M0 0h24v24H0V0z\" fill=\"none\"/>\n",
              "    <path d=\"M18.56 5.44l.94 2.06.94-2.06 2.06-.94-2.06-.94-.94-2.06-.94 2.06-2.06.94zm-11 1L8.5 8.5l.94-2.06 2.06-.94-2.06-.94L8.5 2.5l-.94 2.06-2.06.94zm10 10l.94 2.06.94-2.06 2.06-.94-2.06-.94-.94-2.06-.94 2.06-2.06.94z\"/><path d=\"M17.41 7.96l-1.37-1.37c-.4-.4-.92-.59-1.43-.59-.52 0-1.04.2-1.43.59L10.3 9.45l-7.72 7.72c-.78.78-.78 2.05 0 2.83L4 21.41c.39.39.9.59 1.41.59.51 0 1.02-.2 1.41-.59l7.78-7.78 2.81-2.81c.8-.78.8-2.07 0-2.86zM5.41 20L4 18.59l7.72-7.72 1.47 1.35L5.41 20z\"/>\n",
              "  </svg>\n",
              "      </button>\n",
              "\n",
              "\n",
              "\n",
              "    <div id=\"df-9493a688-c4ff-4f19-acc0-aa724bc6f095\">\n",
              "      <button class=\"colab-df-quickchart\" onclick=\"quickchart('df-9493a688-c4ff-4f19-acc0-aa724bc6f095')\"\n",
              "              title=\"Suggest charts.\"\n",
              "              style=\"display:none;\">\n",
              "\n",
              "<svg xmlns=\"http://www.w3.org/2000/svg\" height=\"24px\"viewBox=\"0 0 24 24\"\n",
              "     width=\"24px\">\n",
              "    <g>\n",
              "        <path d=\"M19 3H5c-1.1 0-2 .9-2 2v14c0 1.1.9 2 2 2h14c1.1 0 2-.9 2-2V5c0-1.1-.9-2-2-2zM9 17H7v-7h2v7zm4 0h-2V7h2v10zm4 0h-2v-4h2v4z\"/>\n",
              "    </g>\n",
              "</svg>\n",
              "      </button>\n",
              "    </div>\n",
              "\n",
              "<style>\n",
              "  .colab-df-quickchart {\n",
              "    background-color: #E8F0FE;\n",
              "    border: none;\n",
              "    border-radius: 50%;\n",
              "    cursor: pointer;\n",
              "    display: none;\n",
              "    fill: #1967D2;\n",
              "    height: 32px;\n",
              "    padding: 0 0 0 0;\n",
              "    width: 32px;\n",
              "  }\n",
              "\n",
              "  .colab-df-quickchart:hover {\n",
              "    background-color: #E2EBFA;\n",
              "    box-shadow: 0px 1px 2px rgba(60, 64, 67, 0.3), 0px 1px 3px 1px rgba(60, 64, 67, 0.15);\n",
              "    fill: #174EA6;\n",
              "  }\n",
              "\n",
              "  [theme=dark] .colab-df-quickchart {\n",
              "    background-color: #3B4455;\n",
              "    fill: #D2E3FC;\n",
              "  }\n",
              "\n",
              "  [theme=dark] .colab-df-quickchart:hover {\n",
              "    background-color: #434B5C;\n",
              "    box-shadow: 0px 1px 3px 1px rgba(0, 0, 0, 0.15);\n",
              "    filter: drop-shadow(0px 1px 2px rgba(0, 0, 0, 0.3));\n",
              "    fill: #FFFFFF;\n",
              "  }\n",
              "</style>\n",
              "\n",
              "    <script>\n",
              "      async function quickchart(key) {\n",
              "        const containerElement = document.querySelector('#' + key);\n",
              "        const charts = await google.colab.kernel.invokeFunction(\n",
              "            'suggestCharts', [key], {});\n",
              "      }\n",
              "    </script>\n",
              "\n",
              "      <script>\n",
              "\n",
              "function displayQuickchartButton(domScope) {\n",
              "  let quickchartButtonEl =\n",
              "    domScope.querySelector('#df-9493a688-c4ff-4f19-acc0-aa724bc6f095 button.colab-df-quickchart');\n",
              "  quickchartButtonEl.style.display =\n",
              "    google.colab.kernel.accessAllowed ? 'block' : 'none';\n",
              "}\n",
              "\n",
              "        displayQuickchartButton(document);\n",
              "      </script>\n",
              "      <style>\n",
              "    .colab-df-container {\n",
              "      display:flex;\n",
              "      flex-wrap:wrap;\n",
              "      gap: 12px;\n",
              "    }\n",
              "\n",
              "    .colab-df-convert {\n",
              "      background-color: #E8F0FE;\n",
              "      border: none;\n",
              "      border-radius: 50%;\n",
              "      cursor: pointer;\n",
              "      display: none;\n",
              "      fill: #1967D2;\n",
              "      height: 32px;\n",
              "      padding: 0 0 0 0;\n",
              "      width: 32px;\n",
              "    }\n",
              "\n",
              "    .colab-df-convert:hover {\n",
              "      background-color: #E2EBFA;\n",
              "      box-shadow: 0px 1px 2px rgba(60, 64, 67, 0.3), 0px 1px 3px 1px rgba(60, 64, 67, 0.15);\n",
              "      fill: #174EA6;\n",
              "    }\n",
              "\n",
              "    [theme=dark] .colab-df-convert {\n",
              "      background-color: #3B4455;\n",
              "      fill: #D2E3FC;\n",
              "    }\n",
              "\n",
              "    [theme=dark] .colab-df-convert:hover {\n",
              "      background-color: #434B5C;\n",
              "      box-shadow: 0px 1px 3px 1px rgba(0, 0, 0, 0.15);\n",
              "      filter: drop-shadow(0px 1px 2px rgba(0, 0, 0, 0.3));\n",
              "      fill: #FFFFFF;\n",
              "    }\n",
              "  </style>\n",
              "\n",
              "      <script>\n",
              "        const buttonEl =\n",
              "          document.querySelector('#df-a1ede60a-2bd2-45e4-8829-058dee7b4f31 button.colab-df-convert');\n",
              "        buttonEl.style.display =\n",
              "          google.colab.kernel.accessAllowed ? 'block' : 'none';\n",
              "\n",
              "        async function convertToInteractive(key) {\n",
              "          const element = document.querySelector('#df-a1ede60a-2bd2-45e4-8829-058dee7b4f31');\n",
              "          const dataTable =\n",
              "            await google.colab.kernel.invokeFunction('convertToInteractive',\n",
              "                                                     [key], {});\n",
              "          if (!dataTable) return;\n",
              "\n",
              "          const docLinkHtml = 'Like what you see? Visit the ' +\n",
              "            '<a target=\"_blank\" href=https://colab.research.google.com/notebooks/data_table.ipynb>data table notebook</a>'\n",
              "            + ' to learn more about interactive tables.';\n",
              "          element.innerHTML = '';\n",
              "          dataTable['output_type'] = 'display_data';\n",
              "          await google.colab.output.renderOutput(dataTable, element);\n",
              "          const docLink = document.createElement('div');\n",
              "          docLink.innerHTML = docLinkHtml;\n",
              "          element.appendChild(docLink);\n",
              "        }\n",
              "      </script>\n",
              "    </div>\n",
              "  </div>\n"
            ]
          },
          "metadata": {},
          "execution_count": 392
        }
      ]
    },
    {
      "cell_type": "code",
      "source": [
        "data_model=datos.iloc[:,7:].copy()"
      ],
      "metadata": {
        "id": "7vH3Akmrxk3d"
      },
      "execution_count": null,
      "outputs": []
    },
    {
      "cell_type": "code",
      "source": [
        "data_model"
      ],
      "metadata": {
        "colab": {
          "base_uri": "https://localhost:8080/",
          "height": 499
        },
        "id": "ZEDk3lHWx3uu",
        "outputId": "b385b906-2404-478f-d764-3a16007eaac9"
      },
      "execution_count": null,
      "outputs": [
        {
          "output_type": "execute_result",
          "data": {
            "text/plain": [
              "                             MEXP 5   MEXP 20   MEXP 50  MEXP 100        RSI  \\\n",
              "Date                                                                           \n",
              "2016-01-30 00:00:00+00:00  1.014102  1.053229  1.094312  1.117589  39.405583   \n",
              "2016-01-31 00:00:00+00:00  1.026796  1.072678  1.117665  1.143446  36.506644   \n",
              "2016-02-01 00:00:00+00:00  1.009994  1.054598  1.100705  1.127720  38.701944   \n",
              "2016-02-02 00:00:00+00:00  1.004160  1.045851  1.092825  1.121081  39.433863   \n",
              "2016-02-03 00:00:00+00:00  1.010914  1.052992  1.101953  1.132047  37.860379   \n",
              "...                             ...       ...       ...       ...        ...   \n",
              "2020-12-26 00:00:00+00:00  0.933061  0.836774  0.734689  0.635342  78.063543   \n",
              "2020-12-27 00:00:00+00:00  0.959275  0.857066  0.749519  0.646468  76.670121   \n",
              "2020-12-28 00:00:00+00:00  0.953665  0.847417  0.737739  0.634460  78.690438   \n",
              "2020-12-29 00:00:00+00:00  0.962659  0.854169  0.740832  0.635388  79.348515   \n",
              "2020-12-30 00:00:00+00:00  0.942206  0.828440  0.714507  0.610680  82.455805   \n",
              "\n",
              "                                   ATR         WR  Variación_ p  \n",
              "Date                                                             \n",
              "2016-01-30 00:00:00+00:00    15.224229 -78.595656            -1  \n",
              "2016-01-31 00:00:00+00:00    15.030498 -94.457908             1  \n",
              "2016-02-01 00:00:00+00:00    14.679390 -87.287464             1  \n",
              "2016-02-02 00:00:00+00:00    13.842504 -84.960291            -1  \n",
              "2016-02-03 00:00:00+00:00    13.346968 -92.168902             1  \n",
              "...                                ...        ...           ...  \n",
              "2020-12-26 00:00:00+00:00  1166.173764  -3.520070            -1  \n",
              "2020-12-27 00:00:00+00:00  1251.880660 -21.739074             1  \n",
              "2020-12-28 00:00:00+00:00  1246.851378 -13.074509             1  \n",
              "2020-12-29 00:00:00+00:00  1256.606413 -10.304209             1  \n",
              "2020-12-30 00:00:00+00:00  1279.538126  -1.256475             1  \n",
              "\n",
              "[1797 rows x 8 columns]"
            ],
            "text/html": [
              "\n",
              "\n",
              "  <div id=\"df-c2c5be71-b145-424c-ae18-e66da0fad512\">\n",
              "    <div class=\"colab-df-container\">\n",
              "      <div>\n",
              "<style scoped>\n",
              "    .dataframe tbody tr th:only-of-type {\n",
              "        vertical-align: middle;\n",
              "    }\n",
              "\n",
              "    .dataframe tbody tr th {\n",
              "        vertical-align: top;\n",
              "    }\n",
              "\n",
              "    .dataframe thead th {\n",
              "        text-align: right;\n",
              "    }\n",
              "</style>\n",
              "<table border=\"1\" class=\"dataframe\">\n",
              "  <thead>\n",
              "    <tr style=\"text-align: right;\">\n",
              "      <th></th>\n",
              "      <th>MEXP 5</th>\n",
              "      <th>MEXP 20</th>\n",
              "      <th>MEXP 50</th>\n",
              "      <th>MEXP 100</th>\n",
              "      <th>RSI</th>\n",
              "      <th>ATR</th>\n",
              "      <th>WR</th>\n",
              "      <th>Variación_ p</th>\n",
              "    </tr>\n",
              "    <tr>\n",
              "      <th>Date</th>\n",
              "      <th></th>\n",
              "      <th></th>\n",
              "      <th></th>\n",
              "      <th></th>\n",
              "      <th></th>\n",
              "      <th></th>\n",
              "      <th></th>\n",
              "      <th></th>\n",
              "    </tr>\n",
              "  </thead>\n",
              "  <tbody>\n",
              "    <tr>\n",
              "      <th>2016-01-30 00:00:00+00:00</th>\n",
              "      <td>1.014102</td>\n",
              "      <td>1.053229</td>\n",
              "      <td>1.094312</td>\n",
              "      <td>1.117589</td>\n",
              "      <td>39.405583</td>\n",
              "      <td>15.224229</td>\n",
              "      <td>-78.595656</td>\n",
              "      <td>-1</td>\n",
              "    </tr>\n",
              "    <tr>\n",
              "      <th>2016-01-31 00:00:00+00:00</th>\n",
              "      <td>1.026796</td>\n",
              "      <td>1.072678</td>\n",
              "      <td>1.117665</td>\n",
              "      <td>1.143446</td>\n",
              "      <td>36.506644</td>\n",
              "      <td>15.030498</td>\n",
              "      <td>-94.457908</td>\n",
              "      <td>1</td>\n",
              "    </tr>\n",
              "    <tr>\n",
              "      <th>2016-02-01 00:00:00+00:00</th>\n",
              "      <td>1.009994</td>\n",
              "      <td>1.054598</td>\n",
              "      <td>1.100705</td>\n",
              "      <td>1.127720</td>\n",
              "      <td>38.701944</td>\n",
              "      <td>14.679390</td>\n",
              "      <td>-87.287464</td>\n",
              "      <td>1</td>\n",
              "    </tr>\n",
              "    <tr>\n",
              "      <th>2016-02-02 00:00:00+00:00</th>\n",
              "      <td>1.004160</td>\n",
              "      <td>1.045851</td>\n",
              "      <td>1.092825</td>\n",
              "      <td>1.121081</td>\n",
              "      <td>39.433863</td>\n",
              "      <td>13.842504</td>\n",
              "      <td>-84.960291</td>\n",
              "      <td>-1</td>\n",
              "    </tr>\n",
              "    <tr>\n",
              "      <th>2016-02-03 00:00:00+00:00</th>\n",
              "      <td>1.010914</td>\n",
              "      <td>1.052992</td>\n",
              "      <td>1.101953</td>\n",
              "      <td>1.132047</td>\n",
              "      <td>37.860379</td>\n",
              "      <td>13.346968</td>\n",
              "      <td>-92.168902</td>\n",
              "      <td>1</td>\n",
              "    </tr>\n",
              "    <tr>\n",
              "      <th>...</th>\n",
              "      <td>...</td>\n",
              "      <td>...</td>\n",
              "      <td>...</td>\n",
              "      <td>...</td>\n",
              "      <td>...</td>\n",
              "      <td>...</td>\n",
              "      <td>...</td>\n",
              "      <td>...</td>\n",
              "    </tr>\n",
              "    <tr>\n",
              "      <th>2020-12-26 00:00:00+00:00</th>\n",
              "      <td>0.933061</td>\n",
              "      <td>0.836774</td>\n",
              "      <td>0.734689</td>\n",
              "      <td>0.635342</td>\n",
              "      <td>78.063543</td>\n",
              "      <td>1166.173764</td>\n",
              "      <td>-3.520070</td>\n",
              "      <td>-1</td>\n",
              "    </tr>\n",
              "    <tr>\n",
              "      <th>2020-12-27 00:00:00+00:00</th>\n",
              "      <td>0.959275</td>\n",
              "      <td>0.857066</td>\n",
              "      <td>0.749519</td>\n",
              "      <td>0.646468</td>\n",
              "      <td>76.670121</td>\n",
              "      <td>1251.880660</td>\n",
              "      <td>-21.739074</td>\n",
              "      <td>1</td>\n",
              "    </tr>\n",
              "    <tr>\n",
              "      <th>2020-12-28 00:00:00+00:00</th>\n",
              "      <td>0.953665</td>\n",
              "      <td>0.847417</td>\n",
              "      <td>0.737739</td>\n",
              "      <td>0.634460</td>\n",
              "      <td>78.690438</td>\n",
              "      <td>1246.851378</td>\n",
              "      <td>-13.074509</td>\n",
              "      <td>1</td>\n",
              "    </tr>\n",
              "    <tr>\n",
              "      <th>2020-12-29 00:00:00+00:00</th>\n",
              "      <td>0.962659</td>\n",
              "      <td>0.854169</td>\n",
              "      <td>0.740832</td>\n",
              "      <td>0.635388</td>\n",
              "      <td>79.348515</td>\n",
              "      <td>1256.606413</td>\n",
              "      <td>-10.304209</td>\n",
              "      <td>1</td>\n",
              "    </tr>\n",
              "    <tr>\n",
              "      <th>2020-12-30 00:00:00+00:00</th>\n",
              "      <td>0.942206</td>\n",
              "      <td>0.828440</td>\n",
              "      <td>0.714507</td>\n",
              "      <td>0.610680</td>\n",
              "      <td>82.455805</td>\n",
              "      <td>1279.538126</td>\n",
              "      <td>-1.256475</td>\n",
              "      <td>1</td>\n",
              "    </tr>\n",
              "  </tbody>\n",
              "</table>\n",
              "<p>1797 rows × 8 columns</p>\n",
              "</div>\n",
              "      <button class=\"colab-df-convert\" onclick=\"convertToInteractive('df-c2c5be71-b145-424c-ae18-e66da0fad512')\"\n",
              "              title=\"Convert this dataframe to an interactive table.\"\n",
              "              style=\"display:none;\">\n",
              "\n",
              "  <svg xmlns=\"http://www.w3.org/2000/svg\" height=\"24px\"viewBox=\"0 0 24 24\"\n",
              "       width=\"24px\">\n",
              "    <path d=\"M0 0h24v24H0V0z\" fill=\"none\"/>\n",
              "    <path d=\"M18.56 5.44l.94 2.06.94-2.06 2.06-.94-2.06-.94-.94-2.06-.94 2.06-2.06.94zm-11 1L8.5 8.5l.94-2.06 2.06-.94-2.06-.94L8.5 2.5l-.94 2.06-2.06.94zm10 10l.94 2.06.94-2.06 2.06-.94-2.06-.94-.94-2.06-.94 2.06-2.06.94z\"/><path d=\"M17.41 7.96l-1.37-1.37c-.4-.4-.92-.59-1.43-.59-.52 0-1.04.2-1.43.59L10.3 9.45l-7.72 7.72c-.78.78-.78 2.05 0 2.83L4 21.41c.39.39.9.59 1.41.59.51 0 1.02-.2 1.41-.59l7.78-7.78 2.81-2.81c.8-.78.8-2.07 0-2.86zM5.41 20L4 18.59l7.72-7.72 1.47 1.35L5.41 20z\"/>\n",
              "  </svg>\n",
              "      </button>\n",
              "\n",
              "\n",
              "\n",
              "    <div id=\"df-5e122b40-9cb0-42ef-b173-7d32c2277da5\">\n",
              "      <button class=\"colab-df-quickchart\" onclick=\"quickchart('df-5e122b40-9cb0-42ef-b173-7d32c2277da5')\"\n",
              "              title=\"Suggest charts.\"\n",
              "              style=\"display:none;\">\n",
              "\n",
              "<svg xmlns=\"http://www.w3.org/2000/svg\" height=\"24px\"viewBox=\"0 0 24 24\"\n",
              "     width=\"24px\">\n",
              "    <g>\n",
              "        <path d=\"M19 3H5c-1.1 0-2 .9-2 2v14c0 1.1.9 2 2 2h14c1.1 0 2-.9 2-2V5c0-1.1-.9-2-2-2zM9 17H7v-7h2v7zm4 0h-2V7h2v10zm4 0h-2v-4h2v4z\"/>\n",
              "    </g>\n",
              "</svg>\n",
              "      </button>\n",
              "    </div>\n",
              "\n",
              "<style>\n",
              "  .colab-df-quickchart {\n",
              "    background-color: #E8F0FE;\n",
              "    border: none;\n",
              "    border-radius: 50%;\n",
              "    cursor: pointer;\n",
              "    display: none;\n",
              "    fill: #1967D2;\n",
              "    height: 32px;\n",
              "    padding: 0 0 0 0;\n",
              "    width: 32px;\n",
              "  }\n",
              "\n",
              "  .colab-df-quickchart:hover {\n",
              "    background-color: #E2EBFA;\n",
              "    box-shadow: 0px 1px 2px rgba(60, 64, 67, 0.3), 0px 1px 3px 1px rgba(60, 64, 67, 0.15);\n",
              "    fill: #174EA6;\n",
              "  }\n",
              "\n",
              "  [theme=dark] .colab-df-quickchart {\n",
              "    background-color: #3B4455;\n",
              "    fill: #D2E3FC;\n",
              "  }\n",
              "\n",
              "  [theme=dark] .colab-df-quickchart:hover {\n",
              "    background-color: #434B5C;\n",
              "    box-shadow: 0px 1px 3px 1px rgba(0, 0, 0, 0.15);\n",
              "    filter: drop-shadow(0px 1px 2px rgba(0, 0, 0, 0.3));\n",
              "    fill: #FFFFFF;\n",
              "  }\n",
              "</style>\n",
              "\n",
              "    <script>\n",
              "      async function quickchart(key) {\n",
              "        const containerElement = document.querySelector('#' + key);\n",
              "        const charts = await google.colab.kernel.invokeFunction(\n",
              "            'suggestCharts', [key], {});\n",
              "      }\n",
              "    </script>\n",
              "\n",
              "      <script>\n",
              "\n",
              "function displayQuickchartButton(domScope) {\n",
              "  let quickchartButtonEl =\n",
              "    domScope.querySelector('#df-5e122b40-9cb0-42ef-b173-7d32c2277da5 button.colab-df-quickchart');\n",
              "  quickchartButtonEl.style.display =\n",
              "    google.colab.kernel.accessAllowed ? 'block' : 'none';\n",
              "}\n",
              "\n",
              "        displayQuickchartButton(document);\n",
              "      </script>\n",
              "      <style>\n",
              "    .colab-df-container {\n",
              "      display:flex;\n",
              "      flex-wrap:wrap;\n",
              "      gap: 12px;\n",
              "    }\n",
              "\n",
              "    .colab-df-convert {\n",
              "      background-color: #E8F0FE;\n",
              "      border: none;\n",
              "      border-radius: 50%;\n",
              "      cursor: pointer;\n",
              "      display: none;\n",
              "      fill: #1967D2;\n",
              "      height: 32px;\n",
              "      padding: 0 0 0 0;\n",
              "      width: 32px;\n",
              "    }\n",
              "\n",
              "    .colab-df-convert:hover {\n",
              "      background-color: #E2EBFA;\n",
              "      box-shadow: 0px 1px 2px rgba(60, 64, 67, 0.3), 0px 1px 3px 1px rgba(60, 64, 67, 0.15);\n",
              "      fill: #174EA6;\n",
              "    }\n",
              "\n",
              "    [theme=dark] .colab-df-convert {\n",
              "      background-color: #3B4455;\n",
              "      fill: #D2E3FC;\n",
              "    }\n",
              "\n",
              "    [theme=dark] .colab-df-convert:hover {\n",
              "      background-color: #434B5C;\n",
              "      box-shadow: 0px 1px 3px 1px rgba(0, 0, 0, 0.15);\n",
              "      filter: drop-shadow(0px 1px 2px rgba(0, 0, 0, 0.3));\n",
              "      fill: #FFFFFF;\n",
              "    }\n",
              "  </style>\n",
              "\n",
              "      <script>\n",
              "        const buttonEl =\n",
              "          document.querySelector('#df-c2c5be71-b145-424c-ae18-e66da0fad512 button.colab-df-convert');\n",
              "        buttonEl.style.display =\n",
              "          google.colab.kernel.accessAllowed ? 'block' : 'none';\n",
              "\n",
              "        async function convertToInteractive(key) {\n",
              "          const element = document.querySelector('#df-c2c5be71-b145-424c-ae18-e66da0fad512');\n",
              "          const dataTable =\n",
              "            await google.colab.kernel.invokeFunction('convertToInteractive',\n",
              "                                                     [key], {});\n",
              "          if (!dataTable) return;\n",
              "\n",
              "          const docLinkHtml = 'Like what you see? Visit the ' +\n",
              "            '<a target=\"_blank\" href=https://colab.research.google.com/notebooks/data_table.ipynb>data table notebook</a>'\n",
              "            + ' to learn more about interactive tables.';\n",
              "          element.innerHTML = '';\n",
              "          dataTable['output_type'] = 'display_data';\n",
              "          await google.colab.output.renderOutput(dataTable, element);\n",
              "          const docLink = document.createElement('div');\n",
              "          docLink.innerHTML = docLinkHtml;\n",
              "          element.appendChild(docLink);\n",
              "        }\n",
              "      </script>\n",
              "    </div>\n",
              "  </div>\n"
            ]
          },
          "metadata": {},
          "execution_count": 394
        }
      ]
    },
    {
      "cell_type": "code",
      "source": [
        "x=np.array(data_model.iloc[:,:-1])"
      ],
      "metadata": {
        "id": "6ksljsgyx5CJ"
      },
      "execution_count": null,
      "outputs": []
    },
    {
      "cell_type": "code",
      "source": [
        "y=np.array(data_model[['Variación_ p']])"
      ],
      "metadata": {
        "id": "BvEvzgVlyICw"
      },
      "execution_count": null,
      "outputs": []
    },
    {
      "cell_type": "code",
      "source": [
        "x_train,x_test,y_train,y_test=train_test_split(x,y,test_size=0.2,shuffle=False)"
      ],
      "metadata": {
        "id": "GA3956cAyauB"
      },
      "execution_count": null,
      "outputs": []
    },
    {
      "cell_type": "code",
      "source": [
        "escalador=StandardScaler()\n",
        "escalador.fit(x_train)"
      ],
      "metadata": {
        "colab": {
          "base_uri": "https://localhost:8080/",
          "height": 76
        },
        "id": "lYNmp-C980Ab",
        "outputId": "e19025a0-7e9a-4ec0-b443-6cd1d6477178"
      },
      "execution_count": null,
      "outputs": [
        {
          "output_type": "execute_result",
          "data": {
            "text/plain": [
              "StandardScaler()"
            ],
            "text/html": [
              "<style>#sk-container-id-31 {color: black;background-color: white;}#sk-container-id-31 pre{padding: 0;}#sk-container-id-31 div.sk-toggleable {background-color: white;}#sk-container-id-31 label.sk-toggleable__label {cursor: pointer;display: block;width: 100%;margin-bottom: 0;padding: 0.3em;box-sizing: border-box;text-align: center;}#sk-container-id-31 label.sk-toggleable__label-arrow:before {content: \"▸\";float: left;margin-right: 0.25em;color: #696969;}#sk-container-id-31 label.sk-toggleable__label-arrow:hover:before {color: black;}#sk-container-id-31 div.sk-estimator:hover label.sk-toggleable__label-arrow:before {color: black;}#sk-container-id-31 div.sk-toggleable__content {max-height: 0;max-width: 0;overflow: hidden;text-align: left;background-color: #f0f8ff;}#sk-container-id-31 div.sk-toggleable__content pre {margin: 0.2em;color: black;border-radius: 0.25em;background-color: #f0f8ff;}#sk-container-id-31 input.sk-toggleable__control:checked~div.sk-toggleable__content {max-height: 200px;max-width: 100%;overflow: auto;}#sk-container-id-31 input.sk-toggleable__control:checked~label.sk-toggleable__label-arrow:before {content: \"▾\";}#sk-container-id-31 div.sk-estimator input.sk-toggleable__control:checked~label.sk-toggleable__label {background-color: #d4ebff;}#sk-container-id-31 div.sk-label input.sk-toggleable__control:checked~label.sk-toggleable__label {background-color: #d4ebff;}#sk-container-id-31 input.sk-hidden--visually {border: 0;clip: rect(1px 1px 1px 1px);clip: rect(1px, 1px, 1px, 1px);height: 1px;margin: -1px;overflow: hidden;padding: 0;position: absolute;width: 1px;}#sk-container-id-31 div.sk-estimator {font-family: monospace;background-color: #f0f8ff;border: 1px dotted black;border-radius: 0.25em;box-sizing: border-box;margin-bottom: 0.5em;}#sk-container-id-31 div.sk-estimator:hover {background-color: #d4ebff;}#sk-container-id-31 div.sk-parallel-item::after {content: \"\";width: 100%;border-bottom: 1px solid gray;flex-grow: 1;}#sk-container-id-31 div.sk-label:hover label.sk-toggleable__label {background-color: #d4ebff;}#sk-container-id-31 div.sk-serial::before {content: \"\";position: absolute;border-left: 1px solid gray;box-sizing: border-box;top: 0;bottom: 0;left: 50%;z-index: 0;}#sk-container-id-31 div.sk-serial {display: flex;flex-direction: column;align-items: center;background-color: white;padding-right: 0.2em;padding-left: 0.2em;position: relative;}#sk-container-id-31 div.sk-item {position: relative;z-index: 1;}#sk-container-id-31 div.sk-parallel {display: flex;align-items: stretch;justify-content: center;background-color: white;position: relative;}#sk-container-id-31 div.sk-item::before, #sk-container-id-31 div.sk-parallel-item::before {content: \"\";position: absolute;border-left: 1px solid gray;box-sizing: border-box;top: 0;bottom: 0;left: 50%;z-index: -1;}#sk-container-id-31 div.sk-parallel-item {display: flex;flex-direction: column;z-index: 1;position: relative;background-color: white;}#sk-container-id-31 div.sk-parallel-item:first-child::after {align-self: flex-end;width: 50%;}#sk-container-id-31 div.sk-parallel-item:last-child::after {align-self: flex-start;width: 50%;}#sk-container-id-31 div.sk-parallel-item:only-child::after {width: 0;}#sk-container-id-31 div.sk-dashed-wrapped {border: 1px dashed gray;margin: 0 0.4em 0.5em 0.4em;box-sizing: border-box;padding-bottom: 0.4em;background-color: white;}#sk-container-id-31 div.sk-label label {font-family: monospace;font-weight: bold;display: inline-block;line-height: 1.2em;}#sk-container-id-31 div.sk-label-container {text-align: center;}#sk-container-id-31 div.sk-container {/* jupyter's `normalize.less` sets `[hidden] { display: none; }` but bootstrap.min.css set `[hidden] { display: none !important; }` so we also need the `!important` here to be able to override the default hidden behavior on the sphinx rendered scikit-learn.org. See: https://github.com/scikit-learn/scikit-learn/issues/21755 */display: inline-block !important;position: relative;}#sk-container-id-31 div.sk-text-repr-fallback {display: none;}</style><div id=\"sk-container-id-31\" class=\"sk-top-container\"><div class=\"sk-text-repr-fallback\"><pre>StandardScaler()</pre><b>In a Jupyter environment, please rerun this cell to show the HTML representation or trust the notebook. <br />On GitHub, the HTML representation is unable to render, please try loading this page with nbviewer.org.</b></div><div class=\"sk-container\" hidden><div class=\"sk-item\"><div class=\"sk-estimator sk-toggleable\"><input class=\"sk-toggleable__control sk-hidden--visually\" id=\"sk-estimator-id-31\" type=\"checkbox\" checked><label for=\"sk-estimator-id-31\" class=\"sk-toggleable__label sk-toggleable__label-arrow\">StandardScaler</label><div class=\"sk-toggleable__content\"><pre>StandardScaler()</pre></div></div></div></div></div>"
            ]
          },
          "metadata": {},
          "execution_count": 398
        }
      ]
    },
    {
      "cell_type": "code",
      "source": [
        "x_train=escalador.transform(x_train)\n",
        "x_test=escalador.transform(x_test)"
      ],
      "metadata": {
        "id": "m1zeTgO42ilT"
      },
      "execution_count": null,
      "outputs": []
    },
    {
      "cell_type": "markdown",
      "source": [
        "##Modelos"
      ],
      "metadata": {
        "id": "aT3vR24kCmVR"
      }
    },
    {
      "cell_type": "markdown",
      "source": [
        "### SVC"
      ],
      "metadata": {
        "id": "CIlQbE7UCoLj"
      }
    },
    {
      "cell_type": "code",
      "source": [
        "#Soporte vectorial de clasificación\n",
        "#trae por defecto un kernel radial\n",
        "svc=SVC()\n",
        "svc.fit(x_train,y_train)"
      ],
      "metadata": {
        "colab": {
          "base_uri": "https://localhost:8080/",
          "height": 133
        },
        "id": "GO9L-Tbt2nwG",
        "outputId": "06d7fe0e-60b6-4191-b48e-561ffd2567a1"
      },
      "execution_count": null,
      "outputs": [
        {
          "output_type": "stream",
          "name": "stderr",
          "text": [
            "/usr/local/lib/python3.10/dist-packages/sklearn/utils/validation.py:1143: DataConversionWarning: A column-vector y was passed when a 1d array was expected. Please change the shape of y to (n_samples, ), for example using ravel().\n",
            "  y = column_or_1d(y, warn=True)\n"
          ]
        },
        {
          "output_type": "execute_result",
          "data": {
            "text/plain": [
              "SVC()"
            ],
            "text/html": [
              "<style>#sk-container-id-32 {color: black;background-color: white;}#sk-container-id-32 pre{padding: 0;}#sk-container-id-32 div.sk-toggleable {background-color: white;}#sk-container-id-32 label.sk-toggleable__label {cursor: pointer;display: block;width: 100%;margin-bottom: 0;padding: 0.3em;box-sizing: border-box;text-align: center;}#sk-container-id-32 label.sk-toggleable__label-arrow:before {content: \"▸\";float: left;margin-right: 0.25em;color: #696969;}#sk-container-id-32 label.sk-toggleable__label-arrow:hover:before {color: black;}#sk-container-id-32 div.sk-estimator:hover label.sk-toggleable__label-arrow:before {color: black;}#sk-container-id-32 div.sk-toggleable__content {max-height: 0;max-width: 0;overflow: hidden;text-align: left;background-color: #f0f8ff;}#sk-container-id-32 div.sk-toggleable__content pre {margin: 0.2em;color: black;border-radius: 0.25em;background-color: #f0f8ff;}#sk-container-id-32 input.sk-toggleable__control:checked~div.sk-toggleable__content {max-height: 200px;max-width: 100%;overflow: auto;}#sk-container-id-32 input.sk-toggleable__control:checked~label.sk-toggleable__label-arrow:before {content: \"▾\";}#sk-container-id-32 div.sk-estimator input.sk-toggleable__control:checked~label.sk-toggleable__label {background-color: #d4ebff;}#sk-container-id-32 div.sk-label input.sk-toggleable__control:checked~label.sk-toggleable__label {background-color: #d4ebff;}#sk-container-id-32 input.sk-hidden--visually {border: 0;clip: rect(1px 1px 1px 1px);clip: rect(1px, 1px, 1px, 1px);height: 1px;margin: -1px;overflow: hidden;padding: 0;position: absolute;width: 1px;}#sk-container-id-32 div.sk-estimator {font-family: monospace;background-color: #f0f8ff;border: 1px dotted black;border-radius: 0.25em;box-sizing: border-box;margin-bottom: 0.5em;}#sk-container-id-32 div.sk-estimator:hover {background-color: #d4ebff;}#sk-container-id-32 div.sk-parallel-item::after {content: \"\";width: 100%;border-bottom: 1px solid gray;flex-grow: 1;}#sk-container-id-32 div.sk-label:hover label.sk-toggleable__label {background-color: #d4ebff;}#sk-container-id-32 div.sk-serial::before {content: \"\";position: absolute;border-left: 1px solid gray;box-sizing: border-box;top: 0;bottom: 0;left: 50%;z-index: 0;}#sk-container-id-32 div.sk-serial {display: flex;flex-direction: column;align-items: center;background-color: white;padding-right: 0.2em;padding-left: 0.2em;position: relative;}#sk-container-id-32 div.sk-item {position: relative;z-index: 1;}#sk-container-id-32 div.sk-parallel {display: flex;align-items: stretch;justify-content: center;background-color: white;position: relative;}#sk-container-id-32 div.sk-item::before, #sk-container-id-32 div.sk-parallel-item::before {content: \"\";position: absolute;border-left: 1px solid gray;box-sizing: border-box;top: 0;bottom: 0;left: 50%;z-index: -1;}#sk-container-id-32 div.sk-parallel-item {display: flex;flex-direction: column;z-index: 1;position: relative;background-color: white;}#sk-container-id-32 div.sk-parallel-item:first-child::after {align-self: flex-end;width: 50%;}#sk-container-id-32 div.sk-parallel-item:last-child::after {align-self: flex-start;width: 50%;}#sk-container-id-32 div.sk-parallel-item:only-child::after {width: 0;}#sk-container-id-32 div.sk-dashed-wrapped {border: 1px dashed gray;margin: 0 0.4em 0.5em 0.4em;box-sizing: border-box;padding-bottom: 0.4em;background-color: white;}#sk-container-id-32 div.sk-label label {font-family: monospace;font-weight: bold;display: inline-block;line-height: 1.2em;}#sk-container-id-32 div.sk-label-container {text-align: center;}#sk-container-id-32 div.sk-container {/* jupyter's `normalize.less` sets `[hidden] { display: none; }` but bootstrap.min.css set `[hidden] { display: none !important; }` so we also need the `!important` here to be able to override the default hidden behavior on the sphinx rendered scikit-learn.org. See: https://github.com/scikit-learn/scikit-learn/issues/21755 */display: inline-block !important;position: relative;}#sk-container-id-32 div.sk-text-repr-fallback {display: none;}</style><div id=\"sk-container-id-32\" class=\"sk-top-container\"><div class=\"sk-text-repr-fallback\"><pre>SVC()</pre><b>In a Jupyter environment, please rerun this cell to show the HTML representation or trust the notebook. <br />On GitHub, the HTML representation is unable to render, please try loading this page with nbviewer.org.</b></div><div class=\"sk-container\" hidden><div class=\"sk-item\"><div class=\"sk-estimator sk-toggleable\"><input class=\"sk-toggleable__control sk-hidden--visually\" id=\"sk-estimator-id-32\" type=\"checkbox\" checked><label for=\"sk-estimator-id-32\" class=\"sk-toggleable__label sk-toggleable__label-arrow\">SVC</label><div class=\"sk-toggleable__content\"><pre>SVC()</pre></div></div></div></div></div>"
            ]
          },
          "metadata": {},
          "execution_count": 400
        }
      ]
    },
    {
      "cell_type": "code",
      "source": [
        "svc_pred=svc.predict(x_test)"
      ],
      "metadata": {
        "id": "J-VAAW9UyzvA"
      },
      "execution_count": null,
      "outputs": []
    },
    {
      "cell_type": "code",
      "source": [
        "mt.accuracy_score(y_test,svc_pred)"
      ],
      "metadata": {
        "colab": {
          "base_uri": "https://localhost:8080/"
        },
        "id": "Kd1tqjqFzDb5",
        "outputId": "754873dd-6d68-4884-913e-bfa6e06adfc1"
      },
      "execution_count": null,
      "outputs": [
        {
          "output_type": "execute_result",
          "data": {
            "text/plain": [
              "0.5527777777777778"
            ]
          },
          "metadata": {},
          "execution_count": 402
        }
      ]
    },
    {
      "cell_type": "code",
      "source": [
        "print(mt.classification_report(y_test,svc_pred))"
      ],
      "metadata": {
        "colab": {
          "base_uri": "https://localhost:8080/"
        },
        "id": "OrDw66NG6Oxa",
        "outputId": "ead2dce1-f849-40d2-d62d-ec7eaa121504"
      },
      "execution_count": null,
      "outputs": [
        {
          "output_type": "stream",
          "name": "stdout",
          "text": [
            "              precision    recall  f1-score   support\n",
            "\n",
            "          -1       0.49      0.25      0.33       159\n",
            "           1       0.57      0.79      0.66       201\n",
            "\n",
            "    accuracy                           0.55       360\n",
            "   macro avg       0.53      0.52      0.50       360\n",
            "weighted avg       0.53      0.55      0.52       360\n",
            "\n"
          ]
        }
      ]
    },
    {
      "cell_type": "code",
      "source": [
        "confusion=mt.confusion_matrix(y_test,svc_pred)\n",
        "mt.ConfusionMatrixDisplay(confusion).plot()"
      ],
      "metadata": {
        "colab": {
          "base_uri": "https://localhost:8080/",
          "height": 472
        },
        "id": "JU0aDrb83kXY",
        "outputId": "6315158c-e6a1-4605-ad52-52fcd727ee04"
      },
      "execution_count": null,
      "outputs": [
        {
          "output_type": "execute_result",
          "data": {
            "text/plain": [
              "<sklearn.metrics._plot.confusion_matrix.ConfusionMatrixDisplay at 0x7fd2d0a56b90>"
            ]
          },
          "metadata": {},
          "execution_count": 404
        },
        {
          "output_type": "display_data",
          "data": {
            "text/plain": [
              "<Figure size 640x480 with 2 Axes>"
            ],
            "image/png": "[encoded data removed]"
          },
          "metadata": {}
        }
      ]
    },
    {
      "cell_type": "code",
      "source": [
        "auc=mt.roc_auc_score(y_test,svc_pred)"
      ],
      "metadata": {
        "id": "EwYeOdp68YuU"
      },
      "execution_count": null,
      "outputs": []
    },
    {
      "cell_type": "code",
      "source": [
        "auc"
      ],
      "metadata": {
        "colab": {
          "base_uri": "https://localhost:8080/"
        },
        "id": "RXEbRXHb_DMF",
        "outputId": "07f6e363-9d30-41d5-d0d6-afbc58ac5214"
      },
      "execution_count": null,
      "outputs": [
        {
          "output_type": "execute_result",
          "data": {
            "text/plain": [
              "0.5213085515817141"
            ]
          },
          "metadata": {},
          "execution_count": 406
        }
      ]
    },
    {
      "cell_type": "code",
      "source": [
        "fpr,tpr,thre=mt.roc_curve(y_test,svc_pred)\n",
        "\n",
        "mt.RocCurveDisplay(fpr=fpr,tpr=tpr).plot()"
      ],
      "metadata": {
        "colab": {
          "base_uri": "https://localhost:8080/",
          "height": 472
        },
        "id": "Dh-as6txAgpN",
        "outputId": "310e17f8-2dcb-40b9-c1d1-60b457758248"
      },
      "execution_count": null,
      "outputs": [
        {
          "output_type": "execute_result",
          "data": {
            "text/plain": [
              "<sklearn.metrics._plot.roc_curve.RocCurveDisplay at 0x7fd2d2402b30>"
            ]
          },
          "metadata": {},
          "execution_count": 407
        },
        {
          "output_type": "display_data",
          "data": {
            "text/plain": [
              "<Figure size 640x480 with 1 Axes>"
            ],
            "image/png": "[encoded data removed]"
          },
          "metadata": {}
        }
      ]
    },
    {
      "cell_type": "code",
      "source": [
        "datos['Variación_ p'].value_counts()"
      ],
      "metadata": {
        "colab": {
          "base_uri": "https://localhost:8080/"
        },
        "id": "mILdMaZqA2x0",
        "outputId": "93b13853-c193-4cab-b8d8-f53e59ead419"
      },
      "execution_count": null,
      "outputs": [
        {
          "output_type": "execute_result",
          "data": {
            "text/plain": [
              " 1    1006\n",
              "-1     791\n",
              "Name: Variación_ p, dtype: int64"
            ]
          },
          "metadata": {},
          "execution_count": 408
        }
      ]
    },
    {
      "cell_type": "markdown",
      "source": [
        "### Tree"
      ],
      "metadata": {
        "id": "84IZfriICrwi"
      }
    },
    {
      "cell_type": "code",
      "source": [
        "arbol=DecisionTreeClassifier()\n",
        "arbol.fit(x_train,y_train)"
      ],
      "metadata": {
        "colab": {
          "base_uri": "https://localhost:8080/",
          "height": 76
        },
        "id": "Cea3Kx3KA8Jx",
        "outputId": "32150c0c-bb79-45bc-9958-1e234572008a"
      },
      "execution_count": null,
      "outputs": [
        {
          "output_type": "execute_result",
          "data": {
            "text/plain": [
              "DecisionTreeClassifier()"
            ],
            "text/html": [
              "<style>#sk-container-id-33 {color: black;background-color: white;}#sk-container-id-33 pre{padding: 0;}#sk-container-id-33 div.sk-toggleable {background-color: white;}#sk-container-id-33 label.sk-toggleable__label {cursor: pointer;display: block;width: 100%;margin-bottom: 0;padding: 0.3em;box-sizing: border-box;text-align: center;}#sk-container-id-33 label.sk-toggleable__label-arrow:before {content: \"▸\";float: left;margin-right: 0.25em;color: #696969;}#sk-container-id-33 label.sk-toggleable__label-arrow:hover:before {color: black;}#sk-container-id-33 div.sk-estimator:hover label.sk-toggleable__label-arrow:before {color: black;}#sk-container-id-33 div.sk-toggleable__content {max-height: 0;max-width: 0;overflow: hidden;text-align: left;background-color: #f0f8ff;}#sk-container-id-33 div.sk-toggleable__content pre {margin: 0.2em;color: black;border-radius: 0.25em;background-color: #f0f8ff;}#sk-container-id-33 input.sk-toggleable__control:checked~div.sk-toggleable__content {max-height: 200px;max-width: 100%;overflow: auto;}#sk-container-id-33 input.sk-toggleable__control:checked~label.sk-toggleable__label-arrow:before {content: \"▾\";}#sk-container-id-33 div.sk-estimator input.sk-toggleable__control:checked~label.sk-toggleable__label {background-color: #d4ebff;}#sk-container-id-33 div.sk-label input.sk-toggleable__control:checked~label.sk-toggleable__label {background-color: #d4ebff;}#sk-container-id-33 input.sk-hidden--visually {border: 0;clip: rect(1px 1px 1px 1px);clip: rect(1px, 1px, 1px, 1px);height: 1px;margin: -1px;overflow: hidden;padding: 0;position: absolute;width: 1px;}#sk-container-id-33 div.sk-estimator {font-family: monospace;background-color: #f0f8ff;border: 1px dotted black;border-radius: 0.25em;box-sizing: border-box;margin-bottom: 0.5em;}#sk-container-id-33 div.sk-estimator:hover {background-color: #d4ebff;}#sk-container-id-33 div.sk-parallel-item::after {content: \"\";width: 100%;border-bottom: 1px solid gray;flex-grow: 1;}#sk-container-id-33 div.sk-label:hover label.sk-toggleable__label {background-color: #d4ebff;}#sk-container-id-33 div.sk-serial::before {content: \"\";position: absolute;border-left: 1px solid gray;box-sizing: border-box;top: 0;bottom: 0;left: 50%;z-index: 0;}#sk-container-id-33 div.sk-serial {display: flex;flex-direction: column;align-items: center;background-color: white;padding-right: 0.2em;padding-left: 0.2em;position: relative;}#sk-container-id-33 div.sk-item {position: relative;z-index: 1;}#sk-container-id-33 div.sk-parallel {display: flex;align-items: stretch;justify-content: center;background-color: white;position: relative;}#sk-container-id-33 div.sk-item::before, #sk-container-id-33 div.sk-parallel-item::before {content: \"\";position: absolute;border-left: 1px solid gray;box-sizing: border-box;top: 0;bottom: 0;left: 50%;z-index: -1;}#sk-container-id-33 div.sk-parallel-item {display: flex;flex-direction: column;z-index: 1;position: relative;background-color: white;}#sk-container-id-33 div.sk-parallel-item:first-child::after {align-self: flex-end;width: 50%;}#sk-container-id-33 div.sk-parallel-item:last-child::after {align-self: flex-start;width: 50%;}#sk-container-id-33 div.sk-parallel-item:only-child::after {width: 0;}#sk-container-id-33 div.sk-dashed-wrapped {border: 1px dashed gray;margin: 0 0.4em 0.5em 0.4em;box-sizing: border-box;padding-bottom: 0.4em;background-color: white;}#sk-container-id-33 div.sk-label label {font-family: monospace;font-weight: bold;display: inline-block;line-height: 1.2em;}#sk-container-id-33 div.sk-label-container {text-align: center;}#sk-container-id-33 div.sk-container {/* jupyter's `normalize.less` sets `[hidden] { display: none; }` but bootstrap.min.css set `[hidden] { display: none !important; }` so we also need the `!important` here to be able to override the default hidden behavior on the sphinx rendered scikit-learn.org. See: https://github.com/scikit-learn/scikit-learn/issues/21755 */display: inline-block !important;position: relative;}#sk-container-id-33 div.sk-text-repr-fallback {display: none;}</style><div id=\"sk-container-id-33\" class=\"sk-top-container\"><div class=\"sk-text-repr-fallback\"><pre>DecisionTreeClassifier()</pre><b>In a Jupyter environment, please rerun this cell to show the HTML representation or trust the notebook. <br />On GitHub, the HTML representation is unable to render, please try loading this page with nbviewer.org.</b></div><div class=\"sk-container\" hidden><div class=\"sk-item\"><div class=\"sk-estimator sk-toggleable\"><input class=\"sk-toggleable__control sk-hidden--visually\" id=\"sk-estimator-id-33\" type=\"checkbox\" checked><label for=\"sk-estimator-id-33\" class=\"sk-toggleable__label sk-toggleable__label-arrow\">DecisionTreeClassifier</label><div class=\"sk-toggleable__content\"><pre>DecisionTreeClassifier()</pre></div></div></div></div></div>"
            ]
          },
          "metadata": {},
          "execution_count": 409
        }
      ]
    },
    {
      "cell_type": "code",
      "source": [
        "tree_pred=arbol.predict(x_test)"
      ],
      "metadata": {
        "id": "38AWKBMSBNQq"
      },
      "execution_count": null,
      "outputs": []
    },
    {
      "cell_type": "code",
      "source": [
        "confusion=mt.confusion_matrix(y_test,tree_pred)\n",
        "mt.ConfusionMatrixDisplay(confusion).plot()"
      ],
      "metadata": {
        "colab": {
          "base_uri": "https://localhost:8080/",
          "height": 472
        },
        "id": "6xjp3LKDBKB2",
        "outputId": "b3d1f9e3-b475-46fc-bac2-9c487de724c1"
      },
      "execution_count": null,
      "outputs": [
        {
          "output_type": "execute_result",
          "data": {
            "text/plain": [
              "<sklearn.metrics._plot.confusion_matrix.ConfusionMatrixDisplay at 0x7fd2d0af96f0>"
            ]
          },
          "metadata": {},
          "execution_count": 411
        },
        {
          "output_type": "display_data",
          "data": {
            "text/plain": [
              "<Figure size 640x480 with 2 Axes>"
            ],
            "image/png": "[encoded data removed]"
          },
          "metadata": {}
        }
      ]
    },
    {
      "cell_type": "code",
      "source": [
        "print(mt.classification_report(y_test,tree_pred))"
      ],
      "metadata": {
        "colab": {
          "base_uri": "https://localhost:8080/"
        },
        "id": "JyQj4o3vBm-8",
        "outputId": "03ea736b-cada-4df5-bb38-ab79b2816593"
      },
      "execution_count": null,
      "outputs": [
        {
          "output_type": "stream",
          "name": "stdout",
          "text": [
            "              precision    recall  f1-score   support\n",
            "\n",
            "          -1       0.45      0.55      0.50       159\n",
            "           1       0.57      0.46      0.51       201\n",
            "\n",
            "    accuracy                           0.50       360\n",
            "   macro avg       0.51      0.51      0.50       360\n",
            "weighted avg       0.51      0.50      0.50       360\n",
            "\n"
          ]
        }
      ]
    },
    {
      "cell_type": "code",
      "source": [
        "fpr,tpr,thre=mt.roc_curve(y_test,tree_pred)\n",
        "auc=mt.roc_auc_score(y_test,tree_pred)\n",
        "auc"
      ],
      "metadata": {
        "colab": {
          "base_uri": "https://localhost:8080/"
        },
        "id": "tPEypcOrBV0-",
        "outputId": "885c359a-6f92-49c7-eac9-4f000def8443"
      },
      "execution_count": null,
      "outputs": [
        {
          "output_type": "execute_result",
          "data": {
            "text/plain": [
              "0.5080728433305173"
            ]
          },
          "metadata": {},
          "execution_count": 413
        }
      ]
    },
    {
      "cell_type": "code",
      "source": [
        "fpr,tpr,thre=mt.roc_curve(y_test,tree_pred)\n",
        "\n",
        "mt.RocCurveDisplay(fpr=fpr,tpr=tpr).plot()"
      ],
      "metadata": {
        "colab": {
          "base_uri": "https://localhost:8080/",
          "height": 472
        },
        "id": "ix4Kh3mdA1Lq",
        "outputId": "dad06d3c-75ed-4ad8-860e-872e29426c57"
      },
      "execution_count": null,
      "outputs": [
        {
          "output_type": "execute_result",
          "data": {
            "text/plain": [
              "<sklearn.metrics._plot.roc_curve.RocCurveDisplay at 0x7fd2d09a6f80>"
            ]
          },
          "metadata": {},
          "execution_count": 414
        },
        {
          "output_type": "display_data",
          "data": {
            "text/plain": [
              "<Figure size 640x480 with 1 Axes>"
            ],
            "image/png": "[encoded data removed]"
          },
          "metadata": {}
        }
      ]
    },
    {
      "cell_type": "markdown",
      "source": [
        "### Random Forest"
      ],
      "metadata": {
        "id": "uvgB9ITGCusx"
      }
    },
    {
      "cell_type": "code",
      "source": [
        "bosque=RandomForestClassifier()\n",
        "bosque.fit(x_train,y_train)"
      ],
      "metadata": {
        "colab": {
          "base_uri": "https://localhost:8080/",
          "height": 133
        },
        "id": "ZJFIW5mQBfkU",
        "outputId": "3d1d82db-565d-497f-dfd3-4fd632c7481e"
      },
      "execution_count": null,
      "outputs": [
        {
          "output_type": "stream",
          "name": "stderr",
          "text": [
            "<ipython-input-415-a63fc6f5a745>:2: DataConversionWarning: A column-vector y was passed when a 1d array was expected. Please change the shape of y to (n_samples,), for example using ravel().\n",
            "  bosque.fit(x_train,y_train)\n"
          ]
        },
        {
          "output_type": "execute_result",
          "data": {
            "text/plain": [
              "RandomForestClassifier()"
            ],
            "text/html": [
              "<style>#sk-container-id-34 {color: black;background-color: white;}#sk-container-id-34 pre{padding: 0;}#sk-container-id-34 div.sk-toggleable {background-color: white;}#sk-container-id-34 label.sk-toggleable__label {cursor: pointer;display: block;width: 100%;margin-bottom: 0;padding: 0.3em;box-sizing: border-box;text-align: center;}#sk-container-id-34 label.sk-toggleable__label-arrow:before {content: \"▸\";float: left;margin-right: 0.25em;color: #696969;}#sk-container-id-34 label.sk-toggleable__label-arrow:hover:before {color: black;}#sk-container-id-34 div.sk-estimator:hover label.sk-toggleable__label-arrow:before {color: black;}#sk-container-id-34 div.sk-toggleable__content {max-height: 0;max-width: 0;overflow: hidden;text-align: left;background-color: #f0f8ff;}#sk-container-id-34 div.sk-toggleable__content pre {margin: 0.2em;color: black;border-radius: 0.25em;background-color: #f0f8ff;}#sk-container-id-34 input.sk-toggleable__control:checked~div.sk-toggleable__content {max-height: 200px;max-width: 100%;overflow: auto;}#sk-container-id-34 input.sk-toggleable__control:checked~label.sk-toggleable__label-arrow:before {content: \"▾\";}#sk-container-id-34 div.sk-estimator input.sk-toggleable__control:checked~label.sk-toggleable__label {background-color: #d4ebff;}#sk-container-id-34 div.sk-label input.sk-toggleable__control:checked~label.sk-toggleable__label {background-color: #d4ebff;}#sk-container-id-34 input.sk-hidden--visually {border: 0;clip: rect(1px 1px 1px 1px);clip: rect(1px, 1px, 1px, 1px);height: 1px;margin: -1px;overflow: hidden;padding: 0;position: absolute;width: 1px;}#sk-container-id-34 div.sk-estimator {font-family: monospace;background-color: #f0f8ff;border: 1px dotted black;border-radius: 0.25em;box-sizing: border-box;margin-bottom: 0.5em;}#sk-container-id-34 div.sk-estimator:hover {background-color: #d4ebff;}#sk-container-id-34 div.sk-parallel-item::after {content: \"\";width: 100%;border-bottom: 1px solid gray;flex-grow: 1;}#sk-container-id-34 div.sk-label:hover label.sk-toggleable__label {background-color: #d4ebff;}#sk-container-id-34 div.sk-serial::before {content: \"\";position: absolute;border-left: 1px solid gray;box-sizing: border-box;top: 0;bottom: 0;left: 50%;z-index: 0;}#sk-container-id-34 div.sk-serial {display: flex;flex-direction: column;align-items: center;background-color: white;padding-right: 0.2em;padding-left: 0.2em;position: relative;}#sk-container-id-34 div.sk-item {position: relative;z-index: 1;}#sk-container-id-34 div.sk-parallel {display: flex;align-items: stretch;justify-content: center;background-color: white;position: relative;}#sk-container-id-34 div.sk-item::before, #sk-container-id-34 div.sk-parallel-item::before {content: \"\";position: absolute;border-left: 1px solid gray;box-sizing: border-box;top: 0;bottom: 0;left: 50%;z-index: -1;}#sk-container-id-34 div.sk-parallel-item {display: flex;flex-direction: column;z-index: 1;position: relative;background-color: white;}#sk-container-id-34 div.sk-parallel-item:first-child::after {align-self: flex-end;width: 50%;}#sk-container-id-34 div.sk-parallel-item:last-child::after {align-self: flex-start;width: 50%;}#sk-container-id-34 div.sk-parallel-item:only-child::after {width: 0;}#sk-container-id-34 div.sk-dashed-wrapped {border: 1px dashed gray;margin: 0 0.4em 0.5em 0.4em;box-sizing: border-box;padding-bottom: 0.4em;background-color: white;}#sk-container-id-34 div.sk-label label {font-family: monospace;font-weight: bold;display: inline-block;line-height: 1.2em;}#sk-container-id-34 div.sk-label-container {text-align: center;}#sk-container-id-34 div.sk-container {/* jupyter's `normalize.less` sets `[hidden] { display: none; }` but bootstrap.min.css set `[hidden] { display: none !important; }` so we also need the `!important` here to be able to override the default hidden behavior on the sphinx rendered scikit-learn.org. See: https://github.com/scikit-learn/scikit-learn/issues/21755 */display: inline-block !important;position: relative;}#sk-container-id-34 div.sk-text-repr-fallback {display: none;}</style><div id=\"sk-container-id-34\" class=\"sk-top-container\"><div class=\"sk-text-repr-fallback\"><pre>RandomForestClassifier()</pre><b>In a Jupyter environment, please rerun this cell to show the HTML representation or trust the notebook. <br />On GitHub, the HTML representation is unable to render, please try loading this page with nbviewer.org.</b></div><div class=\"sk-container\" hidden><div class=\"sk-item\"><div class=\"sk-estimator sk-toggleable\"><input class=\"sk-toggleable__control sk-hidden--visually\" id=\"sk-estimator-id-34\" type=\"checkbox\" checked><label for=\"sk-estimator-id-34\" class=\"sk-toggleable__label sk-toggleable__label-arrow\">RandomForestClassifier</label><div class=\"sk-toggleable__content\"><pre>RandomForestClassifier()</pre></div></div></div></div></div>"
            ]
          },
          "metadata": {},
          "execution_count": 415
        }
      ]
    },
    {
      "cell_type": "code",
      "source": [
        "bosq_pred=bosque.predict(x_test)"
      ],
      "metadata": {
        "id": "62h5oQCcB0IN"
      },
      "execution_count": null,
      "outputs": []
    },
    {
      "cell_type": "code",
      "source": [
        "confusion=mt.confusion_matrix(y_test,bosq_pred)\n",
        "mt.ConfusionMatrixDisplay(confusion).plot()"
      ],
      "metadata": {
        "colab": {
          "base_uri": "https://localhost:8080/",
          "height": 472
        },
        "id": "Aape9In8B98Q",
        "outputId": "69528c85-8236-4b9e-c8df-5419ba5a191c"
      },
      "execution_count": null,
      "outputs": [
        {
          "output_type": "execute_result",
          "data": {
            "text/plain": [
              "<sklearn.metrics._plot.confusion_matrix.ConfusionMatrixDisplay at 0x7fd2d0afa110>"
            ]
          },
          "metadata": {},
          "execution_count": 417
        },
        {
          "output_type": "display_data",
          "data": {
            "text/plain": [
              "<Figure size 640x480 with 2 Axes>"
            ],
            "image/png": "[encoded data removed]"
          },
          "metadata": {}
        }
      ]
    },
    {
      "cell_type": "code",
      "source": [
        "print(mt.classification_report(y_test,bosq_pred))"
      ],
      "metadata": {
        "colab": {
          "base_uri": "https://localhost:8080/"
        },
        "id": "kBEe_myvCEVm",
        "outputId": "86be84e5-da0a-4f71-a3a0-bba728b27432"
      },
      "execution_count": null,
      "outputs": [
        {
          "output_type": "stream",
          "name": "stdout",
          "text": [
            "              precision    recall  f1-score   support\n",
            "\n",
            "          -1       0.51      0.62      0.56       159\n",
            "           1       0.64      0.53      0.58       201\n",
            "\n",
            "    accuracy                           0.57       360\n",
            "   macro avg       0.58      0.58      0.57       360\n",
            "weighted avg       0.58      0.57      0.57       360\n",
            "\n"
          ]
        }
      ]
    },
    {
      "cell_type": "code",
      "source": [
        "mt.roc_auc_score(y_test,bosq_pred)"
      ],
      "metadata": {
        "colab": {
          "base_uri": "https://localhost:8080/"
        },
        "id": "CHGVM0PECOYH",
        "outputId": "8c94714c-3f86-4bb1-c8a0-5817dd833d42"
      },
      "execution_count": null,
      "outputs": [
        {
          "output_type": "execute_result",
          "data": {
            "text/plain": [
              "0.5774899089458368"
            ]
          },
          "metadata": {},
          "execution_count": 419
        }
      ]
    },
    {
      "cell_type": "code",
      "source": [
        "fpr,tpr,thre=mt.roc_curve(y_test,bosq_pred)\n",
        "\n",
        "mt.RocCurveDisplay(fpr=fpr,tpr=tpr).plot()"
      ],
      "metadata": {
        "colab": {
          "base_uri": "https://localhost:8080/",
          "height": 472
        },
        "id": "qGHL6bFnA7Bc",
        "outputId": "4ab22f9b-1a26-423f-fd74-f206a570447a"
      },
      "execution_count": null,
      "outputs": [
        {
          "output_type": "execute_result",
          "data": {
            "text/plain": [
              "<sklearn.metrics._plot.roc_curve.RocCurveDisplay at 0x7fd2d08cdea0>"
            ]
          },
          "metadata": {},
          "execution_count": 420
        },
        {
          "output_type": "display_data",
          "data": {
            "text/plain": [
              "<Figure size 640x480 with 1 Axes>"
            ],
            "image/png": "[encoded data removed]"
          },
          "metadata": {}
        }
      ]
    },
    {
      "cell_type": "markdown",
      "source": [
        "####Red neuronal"
      ],
      "metadata": {
        "id": "6FwcJaH_9WIL"
      }
    },
    {
      "cell_type": "code",
      "source": [
        "red=MLPClassifier(hidden_layer_sizes=[64,32])#dos capas ocultas una de 64 nodos y otra de 32\n",
        "red.fit(x_train,y_train)"
      ],
      "metadata": {
        "colab": {
          "base_uri": "https://localhost:8080/",
          "height": 171
        },
        "id": "Ck5bb5sL9GnS",
        "outputId": "3b17b944-b799-4a71-bfeb-95def0972fae"
      },
      "execution_count": null,
      "outputs": [
        {
          "output_type": "stream",
          "name": "stderr",
          "text": [
            "/usr/local/lib/python3.10/dist-packages/sklearn/neural_network/_multilayer_perceptron.py:1098: DataConversionWarning: A column-vector y was passed when a 1d array was expected. Please change the shape of y to (n_samples, ), for example using ravel().\n",
            "  y = column_or_1d(y, warn=True)\n",
            "/usr/local/lib/python3.10/dist-packages/sklearn/neural_network/_multilayer_perceptron.py:686: ConvergenceWarning: Stochastic Optimizer: Maximum iterations (200) reached and the optimization hasn't converged yet.\n",
            "  warnings.warn(\n"
          ]
        },
        {
          "output_type": "execute_result",
          "data": {
            "text/plain": [
              "MLPClassifier(hidden_layer_sizes=[64, 32])"
            ],
            "text/html": [
              "<style>#sk-container-id-35 {color: black;background-color: white;}#sk-container-id-35 pre{padding: 0;}#sk-container-id-35 div.sk-toggleable {background-color: white;}#sk-container-id-35 label.sk-toggleable__label {cursor: pointer;display: block;width: 100%;margin-bottom: 0;padding: 0.3em;box-sizing: border-box;text-align: center;}#sk-container-id-35 label.sk-toggleable__label-arrow:before {content: \"▸\";float: left;margin-right: 0.25em;color: #696969;}#sk-container-id-35 label.sk-toggleable__label-arrow:hover:before {color: black;}#sk-container-id-35 div.sk-estimator:hover label.sk-toggleable__label-arrow:before {color: black;}#sk-container-id-35 div.sk-toggleable__content {max-height: 0;max-width: 0;overflow: hidden;text-align: left;background-color: #f0f8ff;}#sk-container-id-35 div.sk-toggleable__content pre {margin: 0.2em;color: black;border-radius: 0.25em;background-color: #f0f8ff;}#sk-container-id-35 input.sk-toggleable__control:checked~div.sk-toggleable__content {max-height: 200px;max-width: 100%;overflow: auto;}#sk-container-id-35 input.sk-toggleable__control:checked~label.sk-toggleable__label-arrow:before {content: \"▾\";}#sk-container-id-35 div.sk-estimator input.sk-toggleable__control:checked~label.sk-toggleable__label {background-color: #d4ebff;}#sk-container-id-35 div.sk-label input.sk-toggleable__control:checked~label.sk-toggleable__label {background-color: #d4ebff;}#sk-container-id-35 input.sk-hidden--visually {border: 0;clip: rect(1px 1px 1px 1px);clip: rect(1px, 1px, 1px, 1px);height: 1px;margin: -1px;overflow: hidden;padding: 0;position: absolute;width: 1px;}#sk-container-id-35 div.sk-estimator {font-family: monospace;background-color: #f0f8ff;border: 1px dotted black;border-radius: 0.25em;box-sizing: border-box;margin-bottom: 0.5em;}#sk-container-id-35 div.sk-estimator:hover {background-color: #d4ebff;}#sk-container-id-35 div.sk-parallel-item::after {content: \"\";width: 100%;border-bottom: 1px solid gray;flex-grow: 1;}#sk-container-id-35 div.sk-label:hover label.sk-toggleable__label {background-color: #d4ebff;}#sk-container-id-35 div.sk-serial::before {content: \"\";position: absolute;border-left: 1px solid gray;box-sizing: border-box;top: 0;bottom: 0;left: 50%;z-index: 0;}#sk-container-id-35 div.sk-serial {display: flex;flex-direction: column;align-items: center;background-color: white;padding-right: 0.2em;padding-left: 0.2em;position: relative;}#sk-container-id-35 div.sk-item {position: relative;z-index: 1;}#sk-container-id-35 div.sk-parallel {display: flex;align-items: stretch;justify-content: center;background-color: white;position: relative;}#sk-container-id-35 div.sk-item::before, #sk-container-id-35 div.sk-parallel-item::before {content: \"\";position: absolute;border-left: 1px solid gray;box-sizing: border-box;top: 0;bottom: 0;left: 50%;z-index: -1;}#sk-container-id-35 div.sk-parallel-item {display: flex;flex-direction: column;z-index: 1;position: relative;background-color: white;}#sk-container-id-35 div.sk-parallel-item:first-child::after {align-self: flex-end;width: 50%;}#sk-container-id-35 div.sk-parallel-item:last-child::after {align-self: flex-start;width: 50%;}#sk-container-id-35 div.sk-parallel-item:only-child::after {width: 0;}#sk-container-id-35 div.sk-dashed-wrapped {border: 1px dashed gray;margin: 0 0.4em 0.5em 0.4em;box-sizing: border-box;padding-bottom: 0.4em;background-color: white;}#sk-container-id-35 div.sk-label label {font-family: monospace;font-weight: bold;display: inline-block;line-height: 1.2em;}#sk-container-id-35 div.sk-label-container {text-align: center;}#sk-container-id-35 div.sk-container {/* jupyter's `normalize.less` sets `[hidden] { display: none; }` but bootstrap.min.css set `[hidden] { display: none !important; }` so we also need the `!important` here to be able to override the default hidden behavior on the sphinx rendered scikit-learn.org. See: https://github.com/scikit-learn/scikit-learn/issues/21755 */display: inline-block !important;position: relative;}#sk-container-id-35 div.sk-text-repr-fallback {display: none;}</style><div id=\"sk-container-id-35\" class=\"sk-top-container\"><div class=\"sk-text-repr-fallback\"><pre>MLPClassifier(hidden_layer_sizes=[64, 32])</pre><b>In a Jupyter environment, please rerun this cell to show the HTML representation or trust the notebook. <br />On GitHub, the HTML representation is unable to render, please try loading this page with nbviewer.org.</b></div><div class=\"sk-container\" hidden><div class=\"sk-item\"><div class=\"sk-estimator sk-toggleable\"><input class=\"sk-toggleable__control sk-hidden--visually\" id=\"sk-estimator-id-35\" type=\"checkbox\" checked><label for=\"sk-estimator-id-35\" class=\"sk-toggleable__label sk-toggleable__label-arrow\">MLPClassifier</label><div class=\"sk-toggleable__content\"><pre>MLPClassifier(hidden_layer_sizes=[64, 32])</pre></div></div></div></div></div>"
            ]
          },
          "metadata": {},
          "execution_count": 421
        }
      ]
    },
    {
      "cell_type": "code",
      "source": [
        "red_predict=red.predict(x_test)"
      ],
      "metadata": {
        "id": "IGh9jtu-9kWA"
      },
      "execution_count": null,
      "outputs": []
    },
    {
      "cell_type": "code",
      "source": [
        "print(mt.classification_report(y_test,red_predict))"
      ],
      "metadata": {
        "colab": {
          "base_uri": "https://localhost:8080/"
        },
        "id": "bbMuEcwJ9sJ0",
        "outputId": "7ea441ff-fc32-4b93-f70f-5d89829b4497"
      },
      "execution_count": null,
      "outputs": [
        {
          "output_type": "stream",
          "name": "stdout",
          "text": [
            "              precision    recall  f1-score   support\n",
            "\n",
            "          -1       0.46      0.61      0.52       159\n",
            "           1       0.58      0.42      0.49       201\n",
            "\n",
            "    accuracy                           0.51       360\n",
            "   macro avg       0.52      0.52      0.51       360\n",
            "weighted avg       0.52      0.51      0.50       360\n",
            "\n"
          ]
        }
      ]
    },
    {
      "cell_type": "code",
      "source": [
        "confusion=mt.confusion_matrix(y_test,red_predict)\n",
        "mt.ConfusionMatrixDisplay(confusion).plot()"
      ],
      "metadata": {
        "colab": {
          "base_uri": "https://localhost:8080/",
          "height": 472
        },
        "id": "l55MiV2h94ux",
        "outputId": "d5e12e10-5505-4128-faa0-d925e2b62565"
      },
      "execution_count": null,
      "outputs": [
        {
          "output_type": "execute_result",
          "data": {
            "text/plain": [
              "<sklearn.metrics._plot.confusion_matrix.ConfusionMatrixDisplay at 0x7fd2d074bc70>"
            ]
          },
          "metadata": {},
          "execution_count": 424
        },
        {
          "output_type": "display_data",
          "data": {
            "text/plain": [
              "<Figure size 640x480 with 2 Axes>"
            ],
            "image/png": "[encoded data removed]"
          },
          "metadata": {}
        }
      ]
    },
    {
      "cell_type": "code",
      "source": [
        "mt.roc_auc_score(y_test,red_predict)"
      ],
      "metadata": {
        "colab": {
          "base_uri": "https://localhost:8080/"
        },
        "id": "Qh9Oc8b69_pC",
        "outputId": "1cd93a79-6dcb-4046-cacf-ae86ea43d5ca"
      },
      "execution_count": null,
      "outputs": [
        {
          "output_type": "execute_result",
          "data": {
            "text/plain": [
              "0.5164742326105323"
            ]
          },
          "metadata": {},
          "execution_count": 425
        }
      ]
    },
    {
      "cell_type": "code",
      "source": [
        "fpr,tpr,thre=mt.roc_curve(y_test,red_predict)\n",
        "\n",
        "mt.RocCurveDisplay(fpr=fpr,tpr=tpr).plot()"
      ],
      "metadata": {
        "colab": {
          "base_uri": "https://localhost:8080/",
          "height": 472
        },
        "id": "GB0Y81UuBGNL",
        "outputId": "b35a00ae-8518-451c-8e86-bcee313ada24"
      },
      "execution_count": null,
      "outputs": [
        {
          "output_type": "execute_result",
          "data": {
            "text/plain": [
              "<sklearn.metrics._plot.roc_curve.RocCurveDisplay at 0x7fd2d061f640>"
            ]
          },
          "metadata": {},
          "execution_count": 426
        },
        {
          "output_type": "display_data",
          "data": {
            "text/plain": [
              "<Figure size 640x480 with 1 Axes>"
            ],
            "image/png": "[encoded data removed]"
          },
          "metadata": {}
        }
      ]
    },
    {
      "cell_type": "markdown",
      "source": [
        "#Se evalua el modelo random forest ya que fue el de mejor rendimiento"
      ],
      "metadata": {
        "id": "lhmVR_qWGAG_"
      }
    },
    {
      "cell_type": "code",
      "source": [
        "n=len(x_test)\n",
        "df=datos.iloc[-n:,:].copy()"
      ],
      "metadata": {
        "id": "c6yqz6d0E_YB"
      },
      "execution_count": null,
      "outputs": []
    },
    {
      "cell_type": "code",
      "source": [
        "df.index"
      ],
      "metadata": {
        "colab": {
          "base_uri": "https://localhost:8080/"
        },
        "id": "Se4mAl_jQ_wG",
        "outputId": "9fbfa041-ce2e-4835-a58f-7825d673f734"
      },
      "execution_count": null,
      "outputs": [
        {
          "output_type": "execute_result",
          "data": {
            "text/plain": [
              "DatetimeIndex(['2020-01-06 00:00:00+00:00', '2020-01-07 00:00:00+00:00',\n",
              "               '2020-01-08 00:00:00+00:00', '2020-01-09 00:00:00+00:00',\n",
              "               '2020-01-10 00:00:00+00:00', '2020-01-11 00:00:00+00:00',\n",
              "               '2020-01-12 00:00:00+00:00', '2020-01-13 00:00:00+00:00',\n",
              "               '2020-01-14 00:00:00+00:00', '2020-01-15 00:00:00+00:00',\n",
              "               ...\n",
              "               '2020-12-21 00:00:00+00:00', '2020-12-22 00:00:00+00:00',\n",
              "               '2020-12-23 00:00:00+00:00', '2020-12-24 00:00:00+00:00',\n",
              "               '2020-12-25 00:00:00+00:00', '2020-12-26 00:00:00+00:00',\n",
              "               '2020-12-27 00:00:00+00:00', '2020-12-28 00:00:00+00:00',\n",
              "               '2020-12-29 00:00:00+00:00', '2020-12-30 00:00:00+00:00'],\n",
              "              dtype='datetime64[ns, UTC]', name='Date', length=360, freq=None)"
            ]
          },
          "metadata": {},
          "execution_count": 428
        }
      ]
    },
    {
      "cell_type": "code",
      "source": [
        "df['Signal']=bosq_pred"
      ],
      "metadata": {
        "id": "alQ8I3rrFEsP"
      },
      "execution_count": null,
      "outputs": []
    },
    {
      "cell_type": "code",
      "source": [
        "#backtesting\n",
        "capital=[100]#suponemos que el dinero inicial son 100 doalres\n",
        "TP=0.03#Take Profit\n",
        "SL=0.01#Stop Loss\n",
        "pos=0#la posicion inicla, al principio no hay ni corto ni largo\n",
        "price=0\n",
        "for i in range(1,n):\n",
        "  capital.append(capital[i-1])#asi se agrega el nivel de capital del dia anterior, para calcula sobre ese el crecimiento\n",
        "  if pos==1:#posición largo\n",
        "    #alcanzar el take profit en una posición larga es que el precio subio por lo menos un 3% desde que se abrio en esa posicion\n",
        "    #ganancia\n",
        "    if df['Close'][i]>=price*(1+TP):#precio crecio mas o igual al 3% del momento en que abre la posición\n",
        "      pos=0#se paasrá a no tener ninguna posición abierta\n",
        "      capital[i]*=(1+TP)#capital crece 3%\n",
        "   #perdida\n",
        "    elif df['Close'][i]<=price*(1-SL):#precio disminuyo 1% o más del precio se compra\n",
        "      pos=0\n",
        "      capital[i]*=(1-SL)#el capital disminuye 1%\n",
        "\n",
        "  elif pos==-1:#posición corto aca si el precio baja hay ganancia y si el precio sube hay perdida\n",
        "    #ganancia\n",
        "    if df['Close'][i]<=price*(1-TP):\n",
        "      pos=0\n",
        "      capital[i]*=(1+TP)\n",
        "    #perdida\n",
        "    elif df['Close'][i]>=price*(1+SL):\n",
        "      pos=0\n",
        "      capital[i]*=(1-SL)\n",
        "\n",
        "  else:#sin posición\n",
        "    if df['Signal'][i]!=0:\n",
        "      pos=df['Signal'][i]#abre la posición\n",
        "      price=df['Close'][i]\n",
        "\n",
        "df['Capital']=capital"
      ],
      "metadata": {
        "id": "4o97e9H_-F3L"
      },
      "execution_count": null,
      "outputs": []
    },
    {
      "cell_type": "code",
      "source": [
        "plt.figure(figsize=(15,8))\n",
        "plt.title('Estrategia de Random Forest')\n",
        "plt.plot(df['Capital'])\n",
        "plt.show()"
      ],
      "metadata": {
        "colab": {
          "base_uri": "https://localhost:8080/",
          "height": 523
        },
        "id": "8b7NZTjzMm4y",
        "outputId": "e6f0f3b6-1ef3-40c8-9bd1-eaac1b9aa36e"
      },
      "execution_count": null,
      "outputs": [
        {
          "output_type": "display_data",
          "data": {
            "text/plain": [
              "<Figure size 1500x800 with 1 Axes>"
            ],
            "image/png": "[encoded data removed]"
          },
          "metadata": {}
        }
      ]
    },
    {
      "cell_type": "markdown",
      "source": [
        "De aqui se obtiene que de 2020 a 2021 se hubiese pasado a obtener más de 170 dolares iniciando con un capital de 100 dolares"
      ],
      "metadata": {
        "id": "li72G7yzNM-1"
      }
    },
    {
      "cell_type": "code",
      "source": [
        "#sharpe ratio, en nuna estrategia en largo\n",
        "t_free=0.01\n",
        "ret=np.log(df['Capital']).diff().mean()\n",
        "ret=ret*252#rentabilidad anual\n",
        "ret"
      ],
      "metadata": {
        "colab": {
          "base_uri": "https://localhost:8080/"
        },
        "id": "HMRlbUxMNHkt",
        "outputId": "f5f05144-d1b6-41f6-909c-28ee88d8c90f"
      },
      "execution_count": null,
      "outputs": [
        {
          "output_type": "execute_result",
          "data": {
            "text/plain": [
              "0.35727815054108447"
            ]
          },
          "metadata": {},
          "execution_count": 432
        }
      ]
    },
    {
      "cell_type": "code",
      "source": [
        "#np.log(df['Capital']/df['Capital'].shift(1)).mean()*252"
      ],
      "metadata": {
        "id": "6uiz_TmKOq77"
      },
      "execution_count": null,
      "outputs": []
    },
    {
      "cell_type": "code",
      "source": [
        "vol=np.log(df['Capital']).diff().std()#desviación de rendimientos diaria\n",
        "vol=vol*np.sqrt(252)#desviacion estandar anual\n",
        "vol"
      ],
      "metadata": {
        "colab": {
          "base_uri": "https://localhost:8080/"
        },
        "id": "fCdOXuGnO2Hx",
        "outputId": "fd973a04-fd34-4c71-8e72-25f08d7baa9f"
      },
      "execution_count": null,
      "outputs": [
        {
          "output_type": "execute_result",
          "data": {
            "text/plain": [
              "0.16987276397775802"
            ]
          },
          "metadata": {},
          "execution_count": 434
        }
      ]
    },
    {
      "cell_type": "code",
      "source": [
        "sharpe_ratio=(ret-t_free)/vol\n",
        "sharpe_ratio"
      ],
      "metadata": {
        "colab": {
          "base_uri": "https://localhost:8080/"
        },
        "id": "gSGwDcjwPGY7",
        "outputId": "ff7472c6-3930-4941-ff12-b992817013a7"
      },
      "execution_count": null,
      "outputs": [
        {
          "output_type": "execute_result",
          "data": {
            "text/plain": [
              "2.044342732814748"
            ]
          },
          "metadata": {},
          "execution_count": 435
        }
      ]
    },
    {
      "cell_type": "code",
      "source": [
        "df2=yf.Ticker('^GSPC').history(start='2020-01-06',end='2020-12-30')"
      ],
      "metadata": {
        "id": "aAx5DqtcPhiP"
      },
      "execution_count": null,
      "outputs": []
    },
    {
      "cell_type": "code",
      "source": [
        "df2['Capital']=(100/df2['Close'][0])*df2['Close']"
      ],
      "metadata": {
        "id": "C4IoghN0RPnq"
      },
      "execution_count": null,
      "outputs": []
    },
    {
      "cell_type": "code",
      "source": [
        "plt.figure(figsize=(15,8))\n",
        "plt.title('Capital Random Forest vs Portafolio de Mercado')\n",
        "plt.plot(df['Capital'])\n",
        "plt.plot(df2['Capital'])\n",
        "plt.show()"
      ],
      "metadata": {
        "colab": {
          "base_uri": "https://localhost:8080/",
          "height": 523
        },
        "id": "8-4zPWCPRkOx",
        "outputId": "e6d25086-d63c-4231-c3c9-e901f4c8e8b2"
      },
      "execution_count": null,
      "outputs": [
        {
          "output_type": "display_data",
          "data": {
            "text/plain": [
              "<Figure size 1500x800 with 1 Axes>"
            ],
            "image/png": "[encoded data removed]"
          },
          "metadata": {}
        }
      ]
    },
    {
      "cell_type": "markdown",
      "source": [
        "Se pasa de tener 100 dolares a un poco mas de 110 dolares"
      ],
      "metadata": {
        "id": "pWDHENxURz-P"
      }
    },
    {
      "cell_type": "code",
      "source": [
        "#sharpe ratio,de portafolio de mercado\n",
        "t_free=0.01\n",
        "ret=np.log(df2['Capital']).diff().mean()\n",
        "ret=ret*252#rentabilidad anual\n",
        "ret"
      ],
      "metadata": {
        "colab": {
          "base_uri": "https://localhost:8080/"
        },
        "id": "7X6WQqpcRscR",
        "outputId": "1b13d9dd-65ba-4932-9652-84789f4a8965"
      },
      "execution_count": null,
      "outputs": [
        {
          "output_type": "execute_result",
          "data": {
            "text/plain": [
              "0.1403321230198806"
            ]
          },
          "metadata": {},
          "execution_count": 439
        }
      ]
    },
    {
      "cell_type": "code",
      "source": [
        "vol=np.log(df2['Capital']).diff().std()#desviación de rendimientos diaria\n",
        "vol=vol*np.sqrt(252)#desviacion estandar anual\n",
        "vol"
      ],
      "metadata": {
        "colab": {
          "base_uri": "https://localhost:8080/"
        },
        "id": "kYQiLlZXSjch",
        "outputId": "b4cabaa5-abd9-43ed-b6b7-c822d7cc26db"
      },
      "execution_count": null,
      "outputs": [
        {
          "output_type": "execute_result",
          "data": {
            "text/plain": [
              "0.35012751743343506"
            ]
          },
          "metadata": {},
          "execution_count": 440
        }
      ]
    },
    {
      "cell_type": "code",
      "source": [
        "sharpe_ratioM=(ret-t_free)/vol\n",
        "sharpe_ratioM"
      ],
      "metadata": {
        "colab": {
          "base_uri": "https://localhost:8080/"
        },
        "id": "PcsOkBVxSnt9",
        "outputId": "85953e0c-5ec0-44e8-d379-a07b13cf6c26"
      },
      "execution_count": null,
      "outputs": [
        {
          "output_type": "execute_result",
          "data": {
            "text/plain": [
              "0.3722418734044771"
            ]
          },
          "metadata": {},
          "execution_count": 441
        }
      ]
    },
    {
      "cell_type": "code",
      "source": [
        "sharpe_ratio,sharpe_ratioM"
      ],
      "metadata": {
        "colab": {
          "base_uri": "https://localhost:8080/"
        },
        "id": "pUCFR19ESq2r",
        "outputId": "818dc5b8-78b7-4984-a801-c64e9e2322e4"
      },
      "execution_count": null,
      "outputs": [
        {
          "output_type": "execute_result",
          "data": {
            "text/plain": [
              "(2.044342732814748, 0.3722418734044771)"
            ]
          },
          "metadata": {},
          "execution_count": 442
        }
      ]
    },
    {
      "cell_type": "markdown",
      "source": [
        "De acuerdo a lo anterior el exceso de retorno por cada unidad de riesgo tomando una estrategia de random forest es mayor que en el portafolio de mercado"
      ],
      "metadata": {
        "id": "Un9kBV0VTCh6"
      }
    }
  ]
}