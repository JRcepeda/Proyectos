{
  "nbformat": 4,
  "nbformat_minor": 0,
  "metadata": {
    "colab": {
      "provenance": [],
      "authorship_tag": "ABX9TyMNEGf3jawgBy9lhfJnQVnX"
    },
    "kernelspec": {
      "name": "python3",
      "display_name": "Python 3"
    },
    "language_info": {
      "name": "python"
    }
  },
  "cells": [
    {
      "cell_type": "code",
      "execution_count": null,
      "metadata": {
        "colab": {
          "base_uri": "https://localhost:8080/"
        },
        "id": "laJSrDmrI1_G",
        "outputId": "a62a846e-1842-46f4-b10e-c78461a6d9ed"
      },
      "outputs": [
        {
          "output_type": "stream",
          "name": "stdout",
          "text": [
            "Requirement already satisfied: yfinance in /usr/local/lib/python3.10/dist-packages (0.2.21)\n",
            "Requirement already satisfied: pandas>=1.3.0 in /usr/local/lib/python3.10/dist-packages (from yfinance) (1.5.3)\n",
            "Requirement already satisfied: numpy>=1.16.5 in /usr/local/lib/python3.10/dist-packages (from yfinance) (1.22.4)\n",
            "Requirement already satisfied: requests>=2.26 in /usr/local/lib/python3.10/dist-packages (from yfinance) (2.27.1)\n",
            "Requirement already satisfied: multitasking>=0.0.7 in /usr/local/lib/python3.10/dist-packages (from yfinance) (0.0.11)\n",
            "Requirement already satisfied: lxml>=4.9.1 in /usr/local/lib/python3.10/dist-packages (from yfinance) (4.9.2)\n",
            "Requirement already satisfied: appdirs>=1.4.4 in /usr/local/lib/python3.10/dist-packages (from yfinance) (1.4.4)\n",
            "Requirement already satisfied: pytz>=2022.5 in /usr/local/lib/python3.10/dist-packages (from yfinance) (2022.7.1)\n",
            "Requirement already satisfied: frozendict>=2.3.4 in /usr/local/lib/python3.10/dist-packages (from yfinance) (2.3.8)\n",
            "Requirement already satisfied: beautifulsoup4>=4.11.1 in /usr/local/lib/python3.10/dist-packages (from yfinance) (4.11.2)\n",
            "Requirement already satisfied: html5lib>=1.1 in /usr/local/lib/python3.10/dist-packages (from yfinance) (1.1)\n",
            "Requirement already satisfied: soupsieve>1.2 in /usr/local/lib/python3.10/dist-packages (from beautifulsoup4>=4.11.1->yfinance) (2.4.1)\n",
            "Requirement already satisfied: six>=1.9 in /usr/local/lib/python3.10/dist-packages (from html5lib>=1.1->yfinance) (1.16.0)\n",
            "Requirement already satisfied: webencodings in /usr/local/lib/python3.10/dist-packages (from html5lib>=1.1->yfinance) (0.5.1)\n",
            "Requirement already satisfied: python-dateutil>=2.8.1 in /usr/local/lib/python3.10/dist-packages (from pandas>=1.3.0->yfinance) (2.8.2)\n",
            "Requirement already satisfied: urllib3<1.27,>=1.21.1 in /usr/local/lib/python3.10/dist-packages (from requests>=2.26->yfinance) (1.26.16)\n",
            "Requirement already satisfied: certifi>=2017.4.17 in /usr/local/lib/python3.10/dist-packages (from requests>=2.26->yfinance) (2023.5.7)\n",
            "Requirement already satisfied: charset-normalizer~=2.0.0 in /usr/local/lib/python3.10/dist-packages (from requests>=2.26->yfinance) (2.0.12)\n",
            "Requirement already satisfied: idna<4,>=2.5 in /usr/local/lib/python3.10/dist-packages (from requests>=2.26->yfinance) (3.4)\n"
          ]
        }
      ],
      "source": [
        "!pip install yfinance"
      ]
    },
    {
      "cell_type": "code",
      "source": [
        "pip install pingouin"
      ],
      "metadata": {
        "colab": {
          "base_uri": "https://localhost:8080/"
        },
        "id": "r-AMslpPSMsy",
        "outputId": "58dc34bd-e775-4bc6-aade-a287e3566447"
      },
      "execution_count": null,
      "outputs": [
        {
          "output_type": "stream",
          "name": "stdout",
          "text": [
            "Requirement already satisfied: pingouin in /usr/local/lib/python3.10/dist-packages (0.5.3)\n",
            "Requirement already satisfied: numpy>=1.19 in /usr/local/lib/python3.10/dist-packages (from pingouin) (1.22.4)\n",
            "Requirement already satisfied: scipy>=1.7 in /usr/local/lib/python3.10/dist-packages (from pingouin) (1.10.1)\n",
            "Requirement already satisfied: pandas>=1.0 in /usr/local/lib/python3.10/dist-packages (from pingouin) (1.5.3)\n",
            "Requirement already satisfied: matplotlib>=3.0.2 in /usr/local/lib/python3.10/dist-packages (from pingouin) (3.7.1)\n",
            "Requirement already satisfied: seaborn>=0.11 in /usr/local/lib/python3.10/dist-packages (from pingouin) (0.12.2)\n",
            "Requirement already satisfied: statsmodels>=0.13 in /usr/local/lib/python3.10/dist-packages (from pingouin) (0.13.5)\n",
            "Requirement already satisfied: scikit-learn in /usr/local/lib/python3.10/dist-packages (from pingouin) (1.2.2)\n",
            "Requirement already satisfied: pandas-flavor>=0.2.0 in /usr/local/lib/python3.10/dist-packages (from pingouin) (0.5.0)\n",
            "Requirement already satisfied: outdated in /usr/local/lib/python3.10/dist-packages (from pingouin) (0.2.2)\n",
            "Requirement already satisfied: tabulate in /usr/local/lib/python3.10/dist-packages (from pingouin) (0.8.10)\n",
            "Requirement already satisfied: contourpy>=1.0.1 in /usr/local/lib/python3.10/dist-packages (from matplotlib>=3.0.2->pingouin) (1.1.0)\n",
            "Requirement already satisfied: cycler>=0.10 in /usr/local/lib/python3.10/dist-packages (from matplotlib>=3.0.2->pingouin) (0.11.0)\n",
            "Requirement already satisfied: fonttools>=4.22.0 in /usr/local/lib/python3.10/dist-packages (from matplotlib>=3.0.2->pingouin) (4.40.0)\n",
            "Requirement already satisfied: kiwisolver>=1.0.1 in /usr/local/lib/python3.10/dist-packages (from matplotlib>=3.0.2->pingouin) (1.4.4)\n",
            "Requirement already satisfied: packaging>=20.0 in /usr/local/lib/python3.10/dist-packages (from matplotlib>=3.0.2->pingouin) (23.1)\n",
            "Requirement already satisfied: pillow>=6.2.0 in /usr/local/lib/python3.10/dist-packages (from matplotlib>=3.0.2->pingouin) (8.4.0)\n",
            "Requirement already satisfied: pyparsing>=2.3.1 in /usr/local/lib/python3.10/dist-packages (from matplotlib>=3.0.2->pingouin) (3.1.0)\n",
            "Requirement already satisfied: python-dateutil>=2.7 in /usr/local/lib/python3.10/dist-packages (from matplotlib>=3.0.2->pingouin) (2.8.2)\n",
            "Requirement already satisfied: pytz>=2020.1 in /usr/local/lib/python3.10/dist-packages (from pandas>=1.0->pingouin) (2022.7.1)\n",
            "Requirement already satisfied: xarray in /usr/local/lib/python3.10/dist-packages (from pandas-flavor>=0.2.0->pingouin) (2022.12.0)\n",
            "Requirement already satisfied: lazy-loader>=0.1 in /usr/local/lib/python3.10/dist-packages (from pandas-flavor>=0.2.0->pingouin) (0.2)\n",
            "Requirement already satisfied: patsy>=0.5.2 in /usr/local/lib/python3.10/dist-packages (from statsmodels>=0.13->pingouin) (0.5.3)\n",
            "Requirement already satisfied: setuptools>=44 in /usr/local/lib/python3.10/dist-packages (from outdated->pingouin) (67.7.2)\n",
            "Requirement already satisfied: littleutils in /usr/local/lib/python3.10/dist-packages (from outdated->pingouin) (0.2.2)\n",
            "Requirement already satisfied: requests in /usr/local/lib/python3.10/dist-packages (from outdated->pingouin) (2.27.1)\n",
            "Requirement already satisfied: joblib>=1.1.1 in /usr/local/lib/python3.10/dist-packages (from scikit-learn->pingouin) (1.2.0)\n",
            "Requirement already satisfied: threadpoolctl>=2.0.0 in /usr/local/lib/python3.10/dist-packages (from scikit-learn->pingouin) (3.1.0)\n",
            "Requirement already satisfied: six in /usr/local/lib/python3.10/dist-packages (from patsy>=0.5.2->statsmodels>=0.13->pingouin) (1.16.0)\n",
            "Requirement already satisfied: urllib3<1.27,>=1.21.1 in /usr/local/lib/python3.10/dist-packages (from requests->outdated->pingouin) (1.26.16)\n",
            "Requirement already satisfied: certifi>=2017.4.17 in /usr/local/lib/python3.10/dist-packages (from requests->outdated->pingouin) (2023.5.7)\n",
            "Requirement already satisfied: charset-normalizer~=2.0.0 in /usr/local/lib/python3.10/dist-packages (from requests->outdated->pingouin) (2.0.12)\n",
            "Requirement already satisfied: idna<4,>=2.5 in /usr/local/lib/python3.10/dist-packages (from requests->outdated->pingouin) (3.4)\n"
          ]
        }
      ]
    },
    {
      "cell_type": "code",
      "source": [
        "import pandas as pd\n",
        "import yfinance as yf\n",
        "import pingouin as pg\n",
        "import matplotlib.pyplot as plt\n",
        "import numpy as np\n",
        "import scipy.stats as st\n",
        "import math"
      ],
      "metadata": {
        "id": "EVHeBgr3UTnj"
      },
      "execution_count": null,
      "outputs": []
    },
    {
      "cell_type": "code",
      "source": [
        "def yahoo_f(simbolo):\n",
        "  datos=yf.Ticker(simbolo)\n",
        "  datos=datos.history(start='2005-01-01',end='2021-06-30')\n",
        "  datos=pd.Series(datos.iloc[:,3])\n",
        "  return datos"
      ],
      "metadata": {
        "id": "RP5H6elpVGEY"
      },
      "execution_count": null,
      "outputs": []
    },
    {
      "cell_type": "code",
      "source": [
        "apple=yahoo_f('AAPL')\n",
        "ibm=yahoo_f('IBM')"
      ],
      "metadata": {
        "id": "071ttOIGV36A"
      },
      "execution_count": null,
      "outputs": []
    },
    {
      "cell_type": "code",
      "source": [
        "apple"
      ],
      "metadata": {
        "colab": {
          "base_uri": "https://localhost:8080/"
        },
        "id": "kuhBRxmOXrJN",
        "outputId": "09750b30-6b31-49fa-cba9-334d5579998a"
      },
      "execution_count": null,
      "outputs": [
        {
          "output_type": "execute_result",
          "data": {
            "text/plain": [
              "Date\n",
              "2005-01-03 00:00:00-05:00      0.960588\n",
              "2005-01-04 00:00:00-05:00      0.970452\n",
              "2005-01-05 00:00:00-05:00      0.978952\n",
              "2005-01-06 00:00:00-05:00      0.979711\n",
              "2005-01-07 00:00:00-05:00      1.051045\n",
              "                                ...    \n",
              "2021-06-23 00:00:00-04:00    132.151382\n",
              "2021-06-24 00:00:00-04:00    131.864746\n",
              "2021-06-25 00:00:00-04:00    131.568222\n",
              "2021-06-28 00:00:00-04:00    133.218857\n",
              "2021-06-29 00:00:00-04:00    134.750900\n",
              "Name: Close, Length: 4151, dtype: float64"
            ]
          },
          "metadata": {},
          "execution_count": 47
        }
      ]
    },
    {
      "cell_type": "code",
      "source": [
        "apple=apple.pct_change()#obtener el rendimiento simple diario\n",
        "ibm=ibm.pct_change()"
      ],
      "metadata": {
        "id": "sy8mlWBNV58X"
      },
      "execution_count": null,
      "outputs": []
    },
    {
      "cell_type": "code",
      "source": [
        "apple.dropna(inplace=True)\n",
        "ibm.dropna(inplace=True)"
      ],
      "metadata": {
        "id": "nf28n5I5Wu0M"
      },
      "execution_count": null,
      "outputs": []
    },
    {
      "cell_type": "code",
      "source": [
        "fig,ax=plt.subplots(figsize=(10,5))\n",
        "ax.plot(ibm,label='ibm')\n",
        "ax.plot(apple,label='apple')\n",
        "ax.set_title('Rendimiento Diario')\n",
        "ax.legend()\n",
        "plt.grid()\n",
        "plt.show()"
      ],
      "metadata": {
        "colab": {
          "base_uri": "https://localhost:8080/",
          "height": 435
        },
        "id": "n6SAZEmGY6AA",
        "outputId": "81865ee2-67fa-4be2-bf31-c5315aaead4f"
      },
      "execution_count": null,
      "outputs": [
        {
          "output_type": "display_data",
          "data": {
            "text/plain": [
              "<Figure size 1000x500 with 1 Axes>"
            ],
            "image/png": "[encoded data removed]"
          },
          "metadata": {}
        }
      ]
    },
    {
      "cell_type": "code",
      "source": [
        "apple.describe()"
      ],
      "metadata": {
        "colab": {
          "base_uri": "https://localhost:8080/"
        },
        "id": "xjyCZJc7ZPoy",
        "outputId": "bf5dfeaa-bf07-4be6-eab4-72d6ba10ee60"
      },
      "execution_count": null,
      "outputs": [
        {
          "output_type": "execute_result",
          "data": {
            "text/plain": [
              "count    4150.000000\n",
              "mean        0.001411\n",
              "std         0.020928\n",
              "min        -0.179195\n",
              "25%        -0.008332\n",
              "50%         0.001079\n",
              "75%         0.011973\n",
              "max         0.139050\n",
              "Name: Close, dtype: float64"
            ]
          },
          "metadata": {},
          "execution_count": 51
        }
      ]
    },
    {
      "cell_type": "code",
      "source": [
        "ibm.describe()"
      ],
      "metadata": {
        "colab": {
          "base_uri": "https://localhost:8080/"
        },
        "id": "Pgs784wGZpK2",
        "outputId": "53d31916-0938-4a4b-c6d7-8cfe5c48f348"
      },
      "execution_count": null,
      "outputs": [
        {
          "output_type": "execute_result",
          "data": {
            "text/plain": [
              "count    4150.000000\n",
              "mean        0.000309\n",
              "std         0.014568\n",
              "min        -0.128507\n",
              "25%        -0.006320\n",
              "50%         0.000332\n",
              "75%         0.007335\n",
              "max         0.115150\n",
              "Name: Close, dtype: float64"
            ]
          },
          "metadata": {},
          "execution_count": 52
        }
      ]
    },
    {
      "cell_type": "markdown",
      "source": [
        "##Pruebas estadisticas\n",
        "\n",
        "t.test H0 media de rendimientos=0 h1: media de rendimientos diferente de cero\n",
        "\n",
        "1. estadistico skewness=sesgo/raiz(6/\n",
        "   longitud_datos)\n",
        "\n",
        "   Calcular p-valor: pp=2*(1-pnorm(estadistico))\n",
        "\n",
        "   h0: sesgo igual a 0  \n",
        "   \n",
        "   h1:sesgo distinto a 0\n",
        "\n",
        "2. Exceso de curtosis\n",
        "   estadistico=curtosis/raiz(24/longiutd_datos)\n",
        "\n",
        "   calcular p-valor: pv=2*(1-pnorm(estadistico))\n",
        "   \n",
        "   h0: coeficiente de curtosis (kr-3) es igual a 0\n",
        "\n",
        "   h1: coeficiente de curtosis (kr-3) es distinto a 0\n",
        "\n",
        "3. Prueba Shapiro\n",
        "   \n",
        "   ho: datos siguen distribución normal\n",
        "\n",
        "   h1: los datos no siguen no siguen distribución normal\n"
      ],
      "metadata": {
        "id": "rcBy_5gJawIL"
      }
    },
    {
      "cell_type": "markdown",
      "source": [
        "### apple"
      ],
      "metadata": {
        "id": "1G6czegUga4b"
      }
    },
    {
      "cell_type": "code",
      "source": [
        "st.ttest_1samp(apple,0)"
      ],
      "metadata": {
        "colab": {
          "base_uri": "https://localhost:8080/"
        },
        "id": "vGfqMIXthnSd",
        "outputId": "e2e095fb-2fb2-4975-dd29-7c515cd78ee0"
      },
      "execution_count": null,
      "outputs": [
        {
          "output_type": "execute_result",
          "data": {
            "text/plain": [
              "TtestResult(statistic=4.343609849629143, pvalue=1.4350895725304414e-05, df=4149)"
            ]
          },
          "metadata": {},
          "execution_count": 53
        }
      ]
    },
    {
      "cell_type": "markdown",
      "source": [
        "Se rechaza la hipotesis nula por lo cual la media del rendimiento de apple es distinto de cero"
      ],
      "metadata": {
        "id": "QnPvBVfSqO4u"
      }
    },
    {
      "cell_type": "markdown",
      "source": [
        "####Sesgo"
      ],
      "metadata": {
        "id": "MU-wvMgYhDMA"
      }
    },
    {
      "cell_type": "markdown",
      "source": [
        "No se rechaza la hipotesis nula por lo que la media de los rendimientos no es diferente de 0"
      ],
      "metadata": {
        "id": "IffvYdasllRi"
      }
    },
    {
      "cell_type": "code",
      "source": [
        "#metodo 1 calculo del sesgo\n",
        "st.skewtest(apple)"
      ],
      "metadata": {
        "colab": {
          "base_uri": "https://localhost:8080/"
        },
        "id": "IQ2_pemen9tp",
        "outputId": "6d990ec1-5692-4f9b-a35d-f153945838a8"
      },
      "execution_count": null,
      "outputs": [
        {
          "output_type": "execute_result",
          "data": {
            "text/plain": [
              "SkewtestResult(statistic=-1.2642599932139649, pvalue=0.20613672398946792)"
            ]
          },
          "metadata": {},
          "execution_count": 54
        }
      ]
    },
    {
      "cell_type": "code",
      "source": [
        "#metodo 2 calculo del sesgo\n",
        "st.shapiro(apple)"
      ],
      "metadata": {
        "colab": {
          "base_uri": "https://localhost:8080/"
        },
        "id": "EmTJZU-FoIkb",
        "outputId": "f947a0ce-008e-4445-9b72-61d6f9f6631b"
      },
      "execution_count": null,
      "outputs": [
        {
          "output_type": "execute_result",
          "data": {
            "text/plain": [
              "ShapiroResult(statistic=0.9432625770568848, pvalue=2.9603860504334143e-37)"
            ]
          },
          "metadata": {},
          "execution_count": 55
        }
      ]
    },
    {
      "cell_type": "markdown",
      "source": [
        "Esta prueba nos dice que los rendimientos de apple no se distribuyen normalmente"
      ],
      "metadata": {
        "id": "Kvi78sCXgOd-"
      }
    },
    {
      "cell_type": "code",
      "source": [
        "#metodo 3 calculo del sesgo\n",
        "sesgo=st.skew(apple)\n",
        "estadistico=sesgo/math.sqrt(6/len(apple))"
      ],
      "metadata": {
        "id": "CoY_MN1lk6C7"
      },
      "execution_count": null,
      "outputs": []
    },
    {
      "cell_type": "code",
      "source": [
        "sesgo"
      ],
      "metadata": {
        "colab": {
          "base_uri": "https://localhost:8080/"
        },
        "id": "03ppRWBxjpti",
        "outputId": "a2ac5a8d-37d4-489f-8d01-dee9138fc656"
      },
      "execution_count": null,
      "outputs": [
        {
          "output_type": "execute_result",
          "data": {
            "text/plain": [
              "-0.04801266549403424"
            ]
          },
          "metadata": {},
          "execution_count": 57
        }
      ]
    },
    {
      "cell_type": "markdown",
      "source": [
        "La distribucion de apple es sesgada a derecha"
      ],
      "metadata": {
        "id": "J6fTo4bgkAfW"
      }
    },
    {
      "cell_type": "code",
      "source": [
        "2*(1-st.norm.cdf(abs(estadistico)))"
      ],
      "metadata": {
        "colab": {
          "base_uri": "https://localhost:8080/"
        },
        "id": "lqYSWofomgpJ",
        "outputId": "d0dc174c-e025-4743-be12-d3ba145792b2"
      },
      "execution_count": null,
      "outputs": [
        {
          "output_type": "execute_result",
          "data": {
            "text/plain": [
              "0.206692770381101"
            ]
          },
          "metadata": {},
          "execution_count": 58
        }
      ]
    },
    {
      "cell_type": "markdown",
      "source": [
        "En todas las pruebas anteriores se comprueba el sesgo, por lo que en todas no se rechaza la hipotesis nula comprobando que la distribución es simetrica"
      ],
      "metadata": {
        "id": "LVvoIivJpX9h"
      }
    },
    {
      "cell_type": "markdown",
      "source": [
        "#### Curtosis"
      ],
      "metadata": {
        "id": "OzbWmM9XhH-f"
      }
    },
    {
      "cell_type": "code",
      "source": [
        "print(st.kurtosistest(apple))"
      ],
      "metadata": {
        "colab": {
          "base_uri": "https://localhost:8080/"
        },
        "id": "rAHVwkvzdfir",
        "outputId": "342f5302-a774-4014-a3f5-533908d90125"
      },
      "execution_count": null,
      "outputs": [
        {
          "output_type": "stream",
          "name": "stdout",
          "text": [
            "KurtosistestResult(statistic=22.15285965173413, pvalue=9.790322461626797e-109)\n"
          ]
        }
      ]
    },
    {
      "cell_type": "code",
      "source": [
        "kurtosis=st.kurtosis(apple)"
      ],
      "metadata": {
        "id": "r7B-00hxwu53"
      },
      "execution_count": null,
      "outputs": []
    },
    {
      "cell_type": "code",
      "source": [
        "kurtosis"
      ],
      "metadata": {
        "colab": {
          "base_uri": "https://localhost:8080/"
        },
        "id": "u5p_-sWhjrbc",
        "outputId": "15829034-9e93-427c-bbf5-222ed028c521"
      },
      "execution_count": null,
      "outputs": [
        {
          "output_type": "execute_result",
          "data": {
            "text/plain": [
              "5.411638497710371"
            ]
          },
          "metadata": {},
          "execution_count": 61
        }
      ]
    },
    {
      "cell_type": "markdown",
      "source": [
        "la distribución de apple es leptocurtica"
      ],
      "metadata": {
        "id": "5FXdA757kPeE"
      }
    },
    {
      "cell_type": "code",
      "source": [
        "estadistico_k=kurtosis/(math.sqrt(24/len(apple)))"
      ],
      "metadata": {
        "id": "itkcH9new23b"
      },
      "execution_count": null,
      "outputs": []
    },
    {
      "cell_type": "code",
      "source": [
        "2*(1-st.norm.cdf(estadistico_k))"
      ],
      "metadata": {
        "colab": {
          "base_uri": "https://localhost:8080/"
        },
        "id": "0Gny8_u_fUsg",
        "outputId": "3846c539-e8bb-47a5-8acb-754de71d1c4b"
      },
      "execution_count": null,
      "outputs": [
        {
          "output_type": "execute_result",
          "data": {
            "text/plain": [
              "0.0"
            ]
          },
          "metadata": {},
          "execution_count": 63
        }
      ]
    },
    {
      "cell_type": "markdown",
      "source": [
        "Se rechaza la hipositesis nula de curtosis por lo cual el coeficiente es distinto de cero"
      ],
      "metadata": {
        "id": "e1Hr5aVQfwaY"
      }
    },
    {
      "cell_type": "markdown",
      "source": [
        "### ibm"
      ],
      "metadata": {
        "id": "7L0Gd_FZgdjQ"
      }
    },
    {
      "cell_type": "code",
      "source": [
        "st.ttest_1samp(ibm,0)"
      ],
      "metadata": {
        "colab": {
          "base_uri": "https://localhost:8080/"
        },
        "id": "8WX8CxwggesZ",
        "outputId": "fad8b47f-f162-438e-d844-9f67d3ea44e4"
      },
      "execution_count": null,
      "outputs": [
        {
          "output_type": "execute_result",
          "data": {
            "text/plain": [
              "TtestResult(statistic=1.3675146470188875, pvalue=0.1715381211984287, df=4149)"
            ]
          },
          "metadata": {},
          "execution_count": 64
        }
      ]
    },
    {
      "cell_type": "markdown",
      "source": [
        "La media de los rendimientos de ibm no es distinta de cero"
      ],
      "metadata": {
        "id": "bzmWCCK-glXS"
      }
    },
    {
      "cell_type": "markdown",
      "source": [
        "####Sesgo"
      ],
      "metadata": {
        "id": "Y2MLLFs4iCB6"
      }
    },
    {
      "cell_type": "code",
      "source": [
        "#metodo 1\n",
        "st.skewtest(ibm)"
      ],
      "metadata": {
        "colab": {
          "base_uri": "https://localhost:8080/"
        },
        "id": "FBGX1fVkgkfM",
        "outputId": "df9bbce5-ae00-412c-c47a-568fa5eed2bf"
      },
      "execution_count": null,
      "outputs": [
        {
          "output_type": "execute_result",
          "data": {
            "text/plain": [
              "SkewtestResult(statistic=-5.912385257681033, pvalue=3.371887301636699e-09)"
            ]
          },
          "metadata": {},
          "execution_count": 65
        }
      ]
    },
    {
      "cell_type": "code",
      "source": [
        "#metodo 2\n",
        "st.shapiro(ibm)"
      ],
      "metadata": {
        "colab": {
          "base_uri": "https://localhost:8080/"
        },
        "id": "Y36RbE6miJwM",
        "outputId": "afbac508-58ef-43f5-d12e-1d603a0aac6f"
      },
      "execution_count": null,
      "outputs": [
        {
          "output_type": "execute_result",
          "data": {
            "text/plain": [
              "ShapiroResult(statistic=0.9088921546936035, pvalue=1.961817850054744e-44)"
            ]
          },
          "metadata": {},
          "execution_count": 66
        }
      ]
    },
    {
      "cell_type": "markdown",
      "source": [
        "La distribución de los rendimientos de IBM no es normal"
      ],
      "metadata": {
        "id": "jsNOAyDVsz2p"
      }
    },
    {
      "cell_type": "code",
      "source": [
        "#metodo 3\n",
        "sesgo=st.skew(ibm)"
      ],
      "metadata": {
        "id": "AJjv03akiQTb"
      },
      "execution_count": null,
      "outputs": []
    },
    {
      "cell_type": "code",
      "source": [
        "sesgo"
      ],
      "metadata": {
        "colab": {
          "base_uri": "https://localhost:8080/"
        },
        "id": "T6Hd0oVGjnBd",
        "outputId": "166d0809-2625-4c94-f3f9-1e2a8cb59506"
      },
      "execution_count": null,
      "outputs": [
        {
          "output_type": "execute_result",
          "data": {
            "text/plain": [
              "-0.22722598719895437"
            ]
          },
          "metadata": {},
          "execution_count": 68
        }
      ]
    },
    {
      "cell_type": "markdown",
      "source": [
        "La distribución de ibm es sesgada a derecha"
      ],
      "metadata": {
        "id": "dhFUxQsfkRbn"
      }
    },
    {
      "cell_type": "code",
      "source": [
        "estadistico=sesgo/math.sqrt(6/len(ibm))"
      ],
      "metadata": {
        "id": "gF699in8iXXU"
      },
      "execution_count": null,
      "outputs": []
    },
    {
      "cell_type": "code",
      "source": [
        "2*(1-st.norm.cdf(abs(estadistico)))"
      ],
      "metadata": {
        "colab": {
          "base_uri": "https://localhost:8080/"
        },
        "id": "qVVNvaW_ihc9",
        "outputId": "cdd8e67c-c095-4b6a-94ba-7e19ad16fa6c"
      },
      "execution_count": null,
      "outputs": [
        {
          "output_type": "execute_result",
          "data": {
            "text/plain": [
              "2.2876345262545783e-09"
            ]
          },
          "metadata": {},
          "execution_count": 70
        }
      ]
    },
    {
      "cell_type": "markdown",
      "source": [
        "Se rechaza la hipotesis nula por lo cual el sesgo de la distribucíón de los rendimientos de ibm es distinto de 0"
      ],
      "metadata": {
        "id": "wDKoUdwYivN8"
      }
    },
    {
      "cell_type": "markdown",
      "source": [
        "#### Curtosis"
      ],
      "metadata": {
        "id": "vR9pmBPpi4fG"
      }
    },
    {
      "cell_type": "code",
      "source": [
        "st.kurtosistest(ibm)"
      ],
      "metadata": {
        "colab": {
          "base_uri": "https://localhost:8080/"
        },
        "id": "y3P17LBfi3Ms",
        "outputId": "1a2b97cb-3924-469f-edf4-b67452cbf289"
      },
      "execution_count": null,
      "outputs": [
        {
          "output_type": "execute_result",
          "data": {
            "text/plain": [
              "KurtosistestResult(statistic=25.764556871613667, pvalue=2.2142997829124855e-146)"
            ]
          },
          "metadata": {},
          "execution_count": 71
        }
      ]
    },
    {
      "cell_type": "code",
      "source": [
        "kurtosis=st.kurtosis(ibm)"
      ],
      "metadata": {
        "id": "Aasy1zwyi9XY"
      },
      "execution_count": null,
      "outputs": []
    },
    {
      "cell_type": "code",
      "source": [
        "kurtosis"
      ],
      "metadata": {
        "colab": {
          "base_uri": "https://localhost:8080/"
        },
        "id": "0lAjKRi4j0FG",
        "outputId": "c7829d2f-4919-4838-e765-cf75e527fa5b"
      },
      "execution_count": null,
      "outputs": [
        {
          "output_type": "execute_result",
          "data": {
            "text/plain": [
              "8.457094190944416"
            ]
          },
          "metadata": {},
          "execution_count": 73
        }
      ]
    },
    {
      "cell_type": "markdown",
      "source": [
        "la distribución de ibm es leptocurtica"
      ],
      "metadata": {
        "id": "nvrKgj5ykiaT"
      }
    },
    {
      "cell_type": "code",
      "source": [
        "estadistico_kf=kurtosis/(math.sqrt(24/len(ibm)))"
      ],
      "metadata": {
        "id": "d6x-mwUvjR0L"
      },
      "execution_count": null,
      "outputs": []
    },
    {
      "cell_type": "code",
      "source": [
        "2*(1-st.norm.cdf(estadistico_kf))"
      ],
      "metadata": {
        "colab": {
          "base_uri": "https://localhost:8080/"
        },
        "id": "dXp2hT4lja5d",
        "outputId": "012cd5bf-5b5d-4b48-a1f3-0de3a121faf7"
      },
      "execution_count": null,
      "outputs": [
        {
          "output_type": "execute_result",
          "data": {
            "text/plain": [
              "0.0"
            ]
          },
          "metadata": {},
          "execution_count": 75
        }
      ]
    },
    {
      "cell_type": "markdown",
      "source": [
        "Se rechaza la hipotesis nula por lo cual curtosis es distinto de cero"
      ],
      "metadata": {
        "id": "rkQ4Nb3xjhiv"
      }
    },
    {
      "cell_type": "markdown",
      "source": [
        "#Graficas de densidad de los activos"
      ],
      "metadata": {
        "id": "iDas7MD7lV-v"
      }
    },
    {
      "cell_type": "code",
      "source": [
        "apple.plot(kind='kde')"
      ],
      "metadata": {
        "colab": {
          "base_uri": "https://localhost:8080/",
          "height": 447
        },
        "id": "2eUN-SqAlaPg",
        "outputId": "7ead6445-daf6-4c4b-a922-f827f8e8ab2e"
      },
      "execution_count": null,
      "outputs": [
        {
          "output_type": "execute_result",
          "data": {
            "text/plain": [
              "<Axes: ylabel='Density'>"
            ]
          },
          "metadata": {},
          "execution_count": 76
        },
        {
          "output_type": "display_data",
          "data": {
            "text/plain": [
              "<Figure size 640x480 with 1 Axes>"
            ],
            "image/png": "[encoded data removed]"
          },
          "metadata": {}
        }
      ]
    },
    {
      "cell_type": "code",
      "source": [
        "ibm.plot(kind='kde')"
      ],
      "metadata": {
        "colab": {
          "base_uri": "https://localhost:8080/",
          "height": 447
        },
        "id": "Y6xl87UDldt1",
        "outputId": "46833a77-e756-45dc-e165-1bb4b61885ee"
      },
      "execution_count": null,
      "outputs": [
        {
          "output_type": "execute_result",
          "data": {
            "text/plain": [
              "<Axes: ylabel='Density'>"
            ]
          },
          "metadata": {},
          "execution_count": 77
        },
        {
          "output_type": "display_data",
          "data": {
            "text/plain": [
              "<Figure size 640x480 with 1 Axes>"
            ],
            "image/png": "[encoded data removed]"
          },
          "metadata": {}
        }
      ]
    }
  ]
}